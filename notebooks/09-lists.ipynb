{
  "nbformat": 4,
  "nbformat_minor": 0,
  "metadata": {
    "colab": {
      "name": "09-lists.ipynb",
      "provenance": [],
      "private_outputs": true,
      "collapsed_sections": [
        "Zz-UtV8ORH_t"
      ],
      "toc_visible": true
    },
    "kernelspec": {
      "name": "python3",
      "display_name": "Python 3"
    }
  },
  "cells": [
    {
      "cell_type": "markdown",
      "metadata": {
        "id": "8z5cONg8rUrX",
        "colab_type": "text"
      },
      "source": [
        "# Lists\n",
        "\n",
        "## Programming Fundamentals (NB09)\n",
        "\n",
        "### MIEIC/2019-20\n",
        "\n",
        "#### João Correia Lopes\n",
        "\n",
        "INESC TEC, FEUP"
      ]
    },
    {
      "cell_type": "markdown",
      "metadata": {
        "id": "MZzE7pYorju5",
        "colab_type": "text"
      },
      "source": [
        "## Goals\n",
        "\n",
        "By the end of this class, the student should be able to:\n",
        "\n",
        "- Describe the use of listas, which are sequences of elements of\n",
        "    different types\n",
        "\n",
        "- Enumerate the main methods available to work with lists"
      ]
    },
    {
      "cell_type": "markdown",
      "metadata": {
        "id": "eR5Lh1jNroE2",
        "colab_type": "text"
      },
      "source": [
        "## Bibliography\n",
        "\n",
        "- Peter Wentworth, Jeffrey Elkner, Allen B. Downey, and Chris Meyers, *How to Think Like a Computer Scientist — Learning with Python 3* (Section 5.3)\n",
        "\n",
        "- Brad Miller and David Ranum, Learning with Python: Interactive Edition. Based on material by Jeffrey Elkner, Allen B. Downey, and Chris Meyers (Chapter 10)\n"
      ]
    },
    {
      "cell_type": "markdown",
      "metadata": {
        "id": "rc7T5CsYRHFI",
        "colab_type": "text"
      },
      "source": [
        "# Data types: Lists"
      ]
    },
    {
      "cell_type": "markdown",
      "metadata": {
        "id": "LRXkCaElRLHq",
        "colab_type": "text"
      },
      "source": [
        "### A compound data type (recap)\n",
        "\n",
        "- So far we have seen built-in types like `int`, `float`, `bool`,\n",
        "    `str` and we've seen lists and pairs\n",
        "\n",
        "- Strings, **lists**, and tuples are qualitatively different from the\n",
        "    others because they are made up of smaller pieces\n",
        "\n",
        "- **Lists (and tuples) group any number of items, of different types,\n",
        "    into a single compound value**\n",
        "\n",
        "- Types that comprise smaller pieces are called **collection** or\n",
        "    **compound data types**\n",
        "\n",
        "- Depending on what we are doing, we may want to treat a compound data\n",
        "    type as a single thing"
      ]
    },
    {
      "cell_type": "markdown",
      "metadata": {
        "id": "f8Wk_NqPR0nW",
        "colab_type": "text"
      },
      "source": [
        "## 5.3.1 List values"
      ]
    },
    {
      "cell_type": "markdown",
      "metadata": {
        "id": "4RMWAXZYStBQ",
        "colab_type": "text"
      },
      "source": [
        "### Lists\n",
        "\n",
        "- A **list** is an ordered collection of values\n",
        "\n",
        "- The values that make up a list are called its **elements**, or its\n",
        "    **items**\n",
        "\n",
        "- Lists and strings --- and other collections that maintain the order\n",
        "    of their items --- are called **sequences**"
      ]
    },
    {
      "cell_type": "markdown",
      "metadata": {
        "id": "l_O2Pi9gSxNe",
        "colab_type": "text"
      },
      "source": [
        "### List values\n",
        "\n",
        "- There are several ways to create a new list\n",
        "\n",
        "```\n",
        "  numbers = [10, 20, 30, 40]\n",
        "\n",
        "  words = [\"spam\", \"bungee\", \"swallow\"]\n",
        "\n",
        "  stuffs = [\"hello\", 2.0, 5, [10, 20]]\n",
        "```\n",
        "\n",
        "- A list within another list is said to be **nested**\n",
        "\n",
        "- A list with no elements is called an **empty list**, and is denoted\n",
        "    `[]`"
      ]
    },
    {
      "cell_type": "markdown",
      "metadata": {
        "id": "5QMxKSY0R3hS",
        "colab_type": "text"
      },
      "source": [
        "## 5.3.2 Accessing elements"
      ]
    },
    {
      "cell_type": "markdown",
      "metadata": {
        "id": "arv8GzZoS5BX",
        "colab_type": "text"
      },
      "source": [
        "### Accessing elements\n",
        "\n",
        "- The syntax for accessing the elements of a list is the index\n",
        "    operator: `[]`\n",
        "\n",
        "    - the syntax is the same as the syntax for accessing the\n",
        "        characters of a string\n",
        "\n",
        "- The expression inside the brackets specifies the index\n",
        "\n",
        "- Remember that the indices start at 0\n",
        "\n",
        "- Negative numbers represent reverse indexing\n",
        "\n",
        "```\n",
        "  >>> numbers = [10, 20, 30, 40]\n",
        "    \n",
        "  >>> numbers[1]\n",
        "  >>> numbers[-3]\n",
        "```\n",
        "\n",
        "$\\Rightarrow$\n",
        "<https://github.com/fpro-feup/public/tree/master/lectures/09/lindex.py>"
      ]
    },
    {
      "cell_type": "markdown",
      "metadata": {
        "id": "-bVhAmiRR6Wg",
        "colab_type": "text"
      },
      "source": [
        "## 5.3.3 List length"
      ]
    },
    {
      "cell_type": "markdown",
      "metadata": {
        "id": "fMCaltwJS_UV",
        "colab_type": "text"
      },
      "source": [
        "### List length\n",
        "\n",
        "- The function `len` returns the length of a list, which is equal to\n",
        "    the number of its elements\n",
        "\n",
        "- It is a good idea to use this value as the upper bound of a loop, as\n",
        "    it accommodates changes in the list\n",
        "\n",
        "```\n",
        "   horsemen = [\"war\", \"famine\", \"pestilence\", \"death\"]\n",
        "\n",
        "   for i in range(len(horsemen)):\n",
        "       print(horsemen[i])\n",
        "\n",
        "   len([\"car makers\", 1, [\"Ford\", \"Toyota\", \"BMW\"], [1, 2, 3]])\n",
        "```"
      ]
    },
    {
      "cell_type": "markdown",
      "metadata": {
        "id": "3CYKzxKVR_LB",
        "colab_type": "text"
      },
      "source": [
        "## 5.3.4 List membership"
      ]
    },
    {
      "cell_type": "markdown",
      "metadata": {
        "id": "ermJ2531TDb3",
        "colab_type": "text"
      },
      "source": [
        "### List membership\n",
        "\n",
        "- `in` and `not in` are Boolean operators that test membership in a\n",
        "    sequence\n",
        "\n",
        "```\n",
        "  >>> horsemen = [\"war\", \"famine\", \"pestilence\", \"death\"]\n",
        "  >>> \"pestilence\" in horsemen\n",
        "  True\n",
        "  >>> \"debauchery\" in horsemen\n",
        "  False\n",
        "  >>> \"debauchery\" not in horsemen\n",
        "  True\n",
        "```\n",
        "\n",
        "$\\Rightarrow$\n",
        "<https://github.com/fpro-feup/public/tree/master/lectures/09/students.py>"
      ]
    },
    {
      "cell_type": "markdown",
      "metadata": {
        "id": "hK6VXsuLSCnL",
        "colab_type": "text"
      },
      "source": [
        "## 5.3.5 List operations"
      ]
    },
    {
      "cell_type": "markdown",
      "metadata": {
        "id": "qM1SumtITJ8K",
        "colab_type": "text"
      },
      "source": [
        "### List operations\n",
        "\n",
        "- The `+` operator concatenates lists:\n",
        "\n",
        "```\n",
        "   >>> a = [1, 2, 3]\n",
        "   >>> b = [4, 5, 6]\n",
        "   >>> c = a + b\n",
        "   >>> c\n",
        "   [1, 2, 3, 4, 5, 6\n",
        "```"
      ]
    },
    {
      "cell_type": "markdown",
      "metadata": {
        "id": "oocpeePbTNdh",
        "colab_type": "text"
      },
      "source": [
        "- Similarly, the `*` operator repeats a list a given number of times:\n",
        "\n",
        "```\n",
        "   >>> [0] * 4\n",
        "   [0, 0, 0, 0]\n",
        "   >>> [1, 2, 3] * 3\n",
        "   [1, 2, 3, 1, 2, 3, 1, 2, 3]\n",
        "```"
      ]
    },
    {
      "cell_type": "markdown",
      "metadata": {
        "id": "TWy4ShB5SF5B",
        "colab_type": "text"
      },
      "source": [
        "## 5.3.6 List slices"
      ]
    },
    {
      "cell_type": "markdown",
      "metadata": {
        "id": "siKDkeKeTR-H",
        "colab_type": "text"
      },
      "source": [
        "### List slices\n",
        "\n",
        "- The slice operations we saw previously with strings let us work with\n",
        "    sublists:\n",
        "\n",
        "```\n",
        "   >>> a_list = [\"a\", \"b\", \"c\", \"d\", \"e\", \"f\"]\n",
        "   >>> a_list[1:3]\n",
        "   ['b', 'c']\n",
        "\n",
        "   >>> a_list[:4]\n",
        "   ['a', 'b', 'c', 'd']\n",
        "\n",
        "   >>> a_list[3:]\n",
        "   ['d', 'e', 'f']\n",
        "\n",
        "   >>> a_list[:]\n",
        "   ['a', 'b', 'c', 'd', 'e', 'f']\n",
        "```"
      ]
    },
    {
      "cell_type": "markdown",
      "metadata": {
        "id": "GPsR5VYPSImR",
        "colab_type": "text"
      },
      "source": [
        "## 5.3.7 Lists are mutable"
      ]
    },
    {
      "cell_type": "markdown",
      "metadata": {
        "id": "6XZ-iIXqTWoN",
        "colab_type": "text"
      },
      "source": [
        "### Lists are mutable\n",
        "\n",
        "- Unlike strings, lists are mutable, which means we can change their\n",
        "    elements\n",
        "\n",
        "- An assignment to an element of a list is called **item assignment**\n",
        "\n",
        "```\n",
        "   >>> fruit = [\"banana\", \"apple\", \"quince\"]\n",
        "   >>> fruit[0] = \"pear\"\n",
        "   >>> fruit[2] = \"orange\"\n",
        "   >>> fruit\n",
        "   ['pear', 'apple', 'orange']\n",
        "```\n",
        "\n",
        "$\\Rightarrow$\n",
        "<https://github.com/fpro-feup/public/tree/master/lectures/09/lassign.py>"
      ]
    },
    {
      "cell_type": "markdown",
      "metadata": {
        "id": "RjHWfcg1SLnN",
        "colab_type": "text"
      },
      "source": [
        "## 5.3.8 List deletion"
      ]
    },
    {
      "cell_type": "markdown",
      "metadata": {
        "id": "4HEq24kPTdRz",
        "colab_type": "text"
      },
      "source": [
        "### List deletion\n",
        "\n",
        "- Using slices to delete list elements can be error-prone\n",
        "\n",
        "- The `del` statement removes an element from a list\n",
        "\n",
        "```\n",
        "   >>> a = [\"one\", \"two\", \"three\"]\n",
        "   >>> del a[1]\n",
        "   >>> a\n",
        "   [\"one\", \"three\"]\n",
        "```"
      ]
    },
    {
      "cell_type": "markdown",
      "metadata": {
        "id": "dpPRsprnSPDZ",
        "colab_type": "text"
      },
      "source": [
        "## 5.3.9 Objects and references"
      ]
    },
    {
      "cell_type": "markdown",
      "metadata": {
        "id": "TCWAo1zKTma2",
        "colab_type": "text"
      },
      "source": [
        "### Objects and references\n",
        "\n",
        "\n",
        "- Since strings are *immutable*, Python optimizes resources by making\n",
        "    two names that **refer** to the same string value refer to the same\n",
        "    object\n",
        "\n",
        "```\n",
        "   >>> a = \"banana\"\n",
        "   >>> b = \"banana\"\n",
        "   >>> a is b\n",
        "   True\n",
        "\n",
        "   >>> a = [1, 2, 3]\n",
        "   >>> b = [1, 2, 3]\n",
        "   >>> a == b\n",
        "   True\n",
        "   \n",
        "   >>> a is b\n",
        "   False\n",
        "```\n",
        "\n",
        "$\\Rightarrow$\n",
        "<https://github.com/fpro-feup/public/tree/master/lectures/09/references.py>"
      ]
    },
    {
      "cell_type": "markdown",
      "metadata": {
        "id": "RfQEDjDBSR2E",
        "colab_type": "text"
      },
      "source": [
        "## 5.3.10 Aliasing"
      ]
    },
    {
      "cell_type": "markdown",
      "metadata": {
        "id": "Hc6u-ou-TsRT",
        "colab_type": "text"
      },
      "source": [
        "### Aliasing\n",
        "\n",
        "- Since variables refer to objects, if we assign one variable to\n",
        "    another, both variables refer to the same object\n",
        "\n",
        "- Although this behavior can be useful, it is sometimes unexpected or\n",
        "    undesirable\n",
        "\n",
        "```\n",
        "   >>> a = [1, 2, 3]\n",
        "   >>> b = a\n",
        "\n",
        "   >>> a is b\n",
        "   True\n",
        "\n",
        "   >>> b[0] = 5\n",
        "   >>> a\n",
        "   [5, 2, 3]\n",
        "```"
      ]
    },
    {
      "cell_type": "markdown",
      "metadata": {
        "id": "bO-JlJUXSVQn",
        "colab_type": "text"
      },
      "source": [
        "## 5.3.11 Cloning lists"
      ]
    },
    {
      "cell_type": "markdown",
      "metadata": {
        "id": "xFlvXvekTwC5",
        "colab_type": "text"
      },
      "source": [
        "### Cloning lists\n",
        "\n",
        "- If we want to modify a list and also keep a copy of the original\n",
        "\n",
        "- The easiest way to **clone** a list is to use the slice operator\n",
        "\n",
        "```\n",
        "   >>> a = [1, 2, 3]\n",
        "   >>> b = a[:]     # considered bad practice\n",
        "   >>> c = a.copy() # better in Python3\n",
        "   \n",
        "   >>> b\n",
        "   [1, 2, 3]\n",
        "\n",
        "   >>> b[0] = 5\n",
        "\n",
        "   >>> a\n",
        "   [1, 2, 3]\n",
        "```"
      ]
    },
    {
      "cell_type": "markdown",
      "metadata": {
        "id": "wJHg8Bf1SlGl",
        "colab_type": "text"
      },
      "source": [
        "## Using `zip()`"
      ]
    },
    {
      "cell_type": "markdown",
      "metadata": {
        "id": "sPbUPw7ZT12U",
        "colab_type": "text"
      },
      "source": [
        "### Using `zip()`\n",
        "\n",
        "\n",
        "```\n",
        "    coordinate = ['x', 'y', 'z']\n",
        "    value = [3, 4, 5, 0, 9]\n",
        "\n",
        "    result = zip(coordinate, value)\n",
        "    resultList = list(result)\n",
        "    print(resultList)\n",
        "\n",
        "    c, v =  zip(*resultList)\n",
        "    print(\"c =\", c)\n",
        "    print(\"v =\", v)\n",
        "```\n",
        "\n",
        "$\\Rightarrow$\n",
        "<https://github.com/fpro-feup/public/tree/master/lectures/09/zip.py>"
      ]
    },
    {
      "cell_type": "markdown",
      "metadata": {
        "id": "hK1W8IroT5f8",
        "colab_type": "text"
      },
      "source": [
        "- Visualise it in python tutor\n",
        "\n",
        "$\\Rightarrow$\n",
        "<http://www.pythontutor.com/visualize.html>"
      ]
    },
    {
      "cell_type": "markdown",
      "metadata": {
        "id": "-88zpLeGUG3t",
        "colab_type": "text"
      },
      "source": [
        "## List Operations"
      ]
    },
    {
      "cell_type": "markdown",
      "metadata": {
        "id": "WHb8omgGUDg1",
        "colab_type": "text"
      },
      "source": [
        "### List Operations\n",
        "\n",
        "- See the Python Standard Library for:\n",
        "\n",
        "  - a comprehensive list of \"Common Sequence Operations\":\n",
        "    [[PSL](https://docs.python.org/3.7/library/stdtypes.html#common-sequence-operations)]\n",
        "\n",
        "  - a comprehensive list of operations on \"Mutable Sequence Types\":\n",
        "    [[PSL](https://docs.python.org/3.7/library/stdtypes.html#mutable-sequence-types)]"
      ]
    },
    {
      "cell_type": "markdown",
      "metadata": {
        "id": "Zz-UtV8ORH_t",
        "colab_type": "text"
      },
      "source": [
        "# Ticket to leave"
      ]
    },
    {
      "cell_type": "markdown",
      "metadata": {
        "id": "C-hchAExRRVh",
        "colab_type": "text"
      },
      "source": [
        "## Moodle activity\n",
        "\n",
        "[LE09: Lists](https://moodle.up.pt/mod/quiz/view.php?id=39478)"
      ]
    },
    {
      "cell_type": "markdown",
      "metadata": {
        "id": "uV1OP6ahRYne",
        "colab_type": "text"
      },
      "source": [
        "\n",
        "$\\Rightarrow$ \n",
        "[Go back to the Table of Contents](00-contents.ipynb)\n",
        "\n",
        "$\\Rightarrow$ \n",
        "[Read the Preface](00-preface.ipynb)"
      ]
    }
  ]
}