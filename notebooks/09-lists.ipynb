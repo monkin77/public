{
  "nbformat": 4,
  "nbformat_minor": 0,
  "metadata": {
    "colab": {
      "name": "09-lists.ipynb",
      "provenance": [],
      "private_outputs": true,
      "collapsed_sections": [
        "Zz-UtV8ORH_t"
      ],
      "toc_visible": true
    },
    "kernelspec": {
      "name": "python3",
      "display_name": "Python 3"
    }
  },
  "cells": [
    {
      "cell_type": "markdown",
      "metadata": {
        "id": "8z5cONg8rUrX",
        "colab_type": "text"
      },
      "source": [
        "# Lists\n",
        "\n",
        "## Programming Fundamentals (NB09)\n",
        "\n",
        "### MIEIC/2019-20\n",
        "\n",
        "#### João Correia Lopes\n",
        "\n",
        "FEUP/DEI and INESC TEC"
      ]
    },
    {
      "cell_type": "markdown",
      "metadata": {
        "id": "MZzE7pYorju5",
        "colab_type": "text"
      },
      "source": [
        "## Goals\n",
        "\n",
        "By the end of this class, the student should be able to:\n",
        "\n",
        "- Describe the use of listas, which are sequences of elements of\n",
        "    different types\n",
        "\n",
        "- Enumerate the main methods available to work with lists"
      ]
    },
    {
      "cell_type": "markdown",
      "metadata": {
        "id": "eR5Lh1jNroE2",
        "colab_type": "text"
      },
      "source": [
        "## Bibliography\n",
        "\n",
        "- Peter Wentworth, Jeffrey Elkner, Allen B. Downey, and Chris Meyers, *How to Think Like a Computer Scientist — Learning with Python 3* (Section 5.3)\n",
        "\n",
        "- Brad Miller and David Ranum, Learning with Python: Interactive Edition. Based on material by Jeffrey Elkner, Allen B. Downey, and Chris Meyers (Chapter 10)\n"
      ]
    },
    {
      "cell_type": "markdown",
      "metadata": {
        "id": "1WQCk9SC7vkl",
        "colab_type": "text"
      },
      "source": [
        "# Bónus: lições práticas de Engenharia"
      ]
    },
    {
      "cell_type": "markdown",
      "metadata": {
        "id": "qlBRd--n7zzk",
        "colab_type": "text"
      },
      "source": [
        "Há algumas lições de Engenharia que podem ser retiradas dos acontecimentos ocorridos no mini-teste de 17/10/2019:\n",
        "\n",
        "\n",
        "1. Os [programas falham](https://pt.wikipedia.org/wiki/Lei_de_Murphy) mesmo quando há **testes** — o link de ligação entre o Moodle e a App de Test falhou por conter o meta \"+\" no URL e isso originou o atraso no início do teste\n",
        "\n",
        "2. **Informação** deficiente — o tempo do Moodle foi aumentado em 10 minutos, mas era necessário refrescar a página de submissão e não informamos devidamente os utilizadores (numa das salas) \"alto e bom som\"<sup>1</sup> \n",
        "\n",
        "3. Os processos devem ser conhecidos previamente (**dry-run**) para evitar surpresas — o mini-teste modelo servia para testar, em situação real, na sala e em Linux. a realização do teste, incluindo o timeout relacionado com a duração da prova e a substituição atempada do zip com as respostas<sup>2</sup> \n",
        "\n",
        "4. O suporte computacional deve ser pensado para poder escalar (**stress-tests**) — algumas janelas do browser ficaram lentas ou a dar \"Erro Interno\" porque vários dos 183 participantes estavam a correr (simultaneamente) no servidor, para verificação, código Python com ciclos infinitos<sup>3</sup> \n",
        "\n",
        "5. O **controlo de qualidade** é crucial — as 3 gralhas do enunciado poderiam ser minoradas se o mini-teste fosse executado por alguém externo à sua realização \n",
        "\n",
        "Em conclusão, prestem muita atenção aos detalhes e ajustem, através do trabalho sistemático, os processos de Engenharia que agora começam a aprender.\n",
        "\n",
        "\n",
        "<sup>1</sup> naturalmente por desconhecimento  \n",
        "\n",
        "<sup>2</sup> só 57 estudantes fizeram o teste completo  \n",
        "\n",
        "<sup>3</sup> não se podem impedir estes casos ([Halting Problem](https://en.wikipedia.org/wiki/Halting_problem)); aproveitamos para reforçar a importância de usarem um IDE (Spyder) para **desenvolver e testar localmente** e só ir a **Test para verificar** se o código passa nos testes públicos\n",
        "\n"
      ]
    },
    {
      "cell_type": "markdown",
      "metadata": {
        "id": "rc7T5CsYRHFI",
        "colab_type": "text"
      },
      "source": [
        "# Data types: Lists"
      ]
    },
    {
      "cell_type": "markdown",
      "metadata": {
        "id": "LRXkCaElRLHq",
        "colab_type": "text"
      },
      "source": [
        "### A compound data type (recap)\n",
        "\n",
        "- So far we have seen built-in types like `int`, `float`, `bool`,\n",
        "    `str` and we've seen lists and pairs\n",
        "\n",
        "- Strings, **lists**, and tuples are qualitatively different from the\n",
        "    others because they are made up of smaller pieces\n",
        "\n",
        "- **Lists (and tuples) group any number of items, of different types,\n",
        "    into a single compound value**\n",
        "\n",
        "- Types that comprise smaller pieces are called **collection** or\n",
        "    **compound data types**\n",
        "\n",
        "- Depending on what we are doing, we may want to treat a compound data\n",
        "    type as a single thing"
      ]
    },
    {
      "cell_type": "markdown",
      "metadata": {
        "id": "f8Wk_NqPR0nW",
        "colab_type": "text"
      },
      "source": [
        "## 5.3.1 List values"
      ]
    },
    {
      "cell_type": "markdown",
      "metadata": {
        "id": "4RMWAXZYStBQ",
        "colab_type": "text"
      },
      "source": [
        "### Lists\n",
        "\n",
        "- A **list** is an ordered collection of values\n",
        "\n",
        "- The values that make up a list are called its **elements**, or its\n",
        "    **items**\n",
        "\n",
        "- Lists are similar to strings (which are ordered collections of characters) except that the elements of a list can have any type and for any one list, the items can be of **different types**.\n",
        "\n",
        "- Lists and strings --- and other collections that maintain the order\n",
        "    of their items --- are called **sequences**"
      ]
    },
    {
      "cell_type": "markdown",
      "metadata": {
        "id": "l_O2Pi9gSxNe",
        "colab_type": "text"
      },
      "source": [
        "### List values\n",
        "\n",
        "- There are several ways to create a new list\n",
        "\n",
        "```\n",
        "  numbers = [10, 20, 30, 40]\n",
        "\n",
        "  words = [\"spam\", \"bungee\", \"swallow\"]\n",
        "\n",
        "  stuffs = [\"hello\", 2.0, 5, [10, 20]]\n",
        "```\n",
        "\n",
        "- A list within another list is said to be **nested**\n",
        "\n",
        "- A list with no elements is called an **empty list**, and is denoted\n",
        "    `[]`"
      ]
    },
    {
      "cell_type": "code",
      "metadata": {
        "id": "5zKCHQcp-tAS",
        "colab_type": "code",
        "colab": {}
      },
      "source": [
        "  stuffs = [\"hello\", 2.0, 5, [10, 20]]\n",
        "  print(stuffs)\n",
        "  type(stuffs)"
      ],
      "execution_count": 0,
      "outputs": []
    },
    {
      "cell_type": "code",
      "metadata": {
        "id": "KCh9yTzy-8G7",
        "colab_type": "code",
        "colab": {}
      },
      "source": [
        "vocabulary = [\"iteration\", \"selection\", \"control\"]\n",
        "numbers = [17, 123]\n",
        "empty = []\n",
        "mixed_list = [\"hello\", 2.0, 5*2, [10, 20]]\n",
        "\n",
        "print(numbers)\n",
        "print(mixed_list)\n",
        "newlist = [ numbers, vocabulary ]\n",
        "print(newlist)"
      ],
      "execution_count": 0,
      "outputs": []
    },
    {
      "cell_type": "markdown",
      "metadata": {
        "id": "5QMxKSY0R3hS",
        "colab_type": "text"
      },
      "source": [
        "## 5.3.2 Accessing elements"
      ]
    },
    {
      "cell_type": "markdown",
      "metadata": {
        "id": "arv8GzZoS5BX",
        "colab_type": "text"
      },
      "source": [
        "### Accessing elements\n",
        "\n",
        "- The syntax for accessing the elements of a list is the index\n",
        "    operator: `[]`\n",
        "\n",
        "    - the syntax is the same as the syntax for accessing the\n",
        "        characters of a string\n",
        "\n",
        "- The expression inside the brackets specifies the index\n",
        "\n",
        "- Remember that the indices start at 0\n",
        "\n",
        "- Negative numbers represent reverse indexing\n",
        "\n",
        "```\n",
        "  >>> numbers = [10, 20, 30, 40]\n",
        "    \n",
        "  >>> numbers[1]\n",
        "  >>> numbers[-3]\n",
        "```\n",
        "\n",
        "$\\Rightarrow$\n",
        "<https://github.com/fpro-feup/public/tree/master/lectures/09/lindex.py>"
      ]
    },
    {
      "cell_type": "code",
      "metadata": {
        "id": "h5RlS9e1EfQS",
        "colab_type": "code",
        "colab": {}
      },
      "source": [
        "numbers = [17, 123, 87, 34, 66, 8398, 44]\n",
        "print(numbers[2])\n",
        "print(numbers[9 - 8])\n",
        "print(numbers[-2])"
      ],
      "execution_count": 0,
      "outputs": []
    },
    {
      "cell_type": "markdown",
      "metadata": {
        "id": "M9s2nWLM_Nxa",
        "colab_type": "text"
      },
      "source": [
        "### List traversal\n",
        "\n",
        "It is common to use a loop variable as a list index\n"
      ]
    },
    {
      "cell_type": "code",
      "metadata": {
        "id": "q_znilvP_Ue7",
        "colab_type": "code",
        "colab": {}
      },
      "source": [
        "horsemen = [\"war\", \"famine\", \"pestilence\", \"death\"]\n",
        "for i in [0, 1, 2, 3]:\n",
        "  print(horsemen[i])"
      ],
      "execution_count": 0,
      "outputs": []
    },
    {
      "cell_type": "code",
      "metadata": {
        "id": "OJ03Mz3Q_jXC",
        "colab_type": "code",
        "colab": {}
      },
      "source": [
        "horsemen = [\"war\", \"famine\", \"pestilence\", \"death\"]\n",
        "\n",
        "for h in horsemen:\n",
        "  print(h)"
      ],
      "execution_count": 0,
      "outputs": []
    },
    {
      "cell_type": "markdown",
      "metadata": {
        "id": "-bVhAmiRR6Wg",
        "colab_type": "text"
      },
      "source": [
        "## 5.3.3 List length"
      ]
    },
    {
      "cell_type": "markdown",
      "metadata": {
        "id": "fMCaltwJS_UV",
        "colab_type": "text"
      },
      "source": [
        "### List length\n",
        "\n",
        "- The function `len` returns the length of a list, which is equal to\n",
        "    the number of its elements\n",
        "\n",
        "- It is a good idea to use this value as the upper bound of a loop, as\n",
        "    it accommodates changes in the list\n",
        "\n",
        "```\n",
        "   horsemen = [\"war\", \"famine\", \"pestilence\", \"death\"]\n",
        "\n",
        "   for i in range(len(horsemen)):\n",
        "       print(horsemen[i])\n",
        "\n",
        "   len([\"car makers\", 1, [\"Ford\", \"Toyota\", \"BMW\"], [1, 2, 3]])\n",
        "```"
      ]
    },
    {
      "cell_type": "code",
      "metadata": {
        "id": "kDmbSaLP_s8G",
        "colab_type": "code",
        "colab": {}
      },
      "source": [
        "horsemen = [\"war\", \"famine\", \"pestilence\", \"death\"]\n",
        "\n",
        "for i in range(len(horsemen)):\n",
        "  print(horsemen[i])"
      ],
      "execution_count": 0,
      "outputs": []
    },
    {
      "cell_type": "markdown",
      "metadata": {
        "id": "q-KJEYHt_2Zw",
        "colab_type": "text"
      },
      "source": [
        "See the result of:"
      ]
    },
    {
      "cell_type": "code",
      "metadata": {
        "id": "VR5Msk0p_xE5",
        "colab_type": "code",
        "colab": {}
      },
      "source": [
        "len([\"car makers\", 1, [\"Ford\", \"Toyota\", \"BMW\"], [1, 2, 3]])"
      ],
      "execution_count": 0,
      "outputs": []
    },
    {
      "cell_type": "code",
      "metadata": {
        "id": "m0B9nY_CEOw2",
        "colab_type": "code",
        "colab": {}
      },
      "source": [
        "a_list =  [\"hello\", 2.0, 5, [10, 20]]\n",
        "print(len(a_list))\n",
        "print(len(['spam!', 1, ['Brie', 'Roquefort', 'Pol le Veq'], [1, 2, 3]]))"
      ],
      "execution_count": 0,
      "outputs": []
    },
    {
      "cell_type": "markdown",
      "metadata": {
        "id": "3CYKzxKVR_LB",
        "colab_type": "text"
      },
      "source": [
        "## 5.3.4 List membership"
      ]
    },
    {
      "cell_type": "markdown",
      "metadata": {
        "id": "ermJ2531TDb3",
        "colab_type": "text"
      },
      "source": [
        "### List membership\n",
        "\n",
        "- `in` and `not in` are Boolean operators that test membership in a\n",
        "    sequence\n",
        "\n",
        "```\n",
        "  >>> horsemen = [\"war\", \"famine\", \"pestilence\", \"death\"]\n",
        "  >>> \"pestilence\" in horsemen\n",
        "  True\n",
        "  >>> \"debauchery\" in horsemen\n",
        "  False\n",
        "  >>> \"debauchery\" not in horsemen\n",
        "  True\n",
        "```\n",
        "\n",
        "$\\Rightarrow$\n",
        "<https://github.com/fpro-feup/public/tree/master/lectures/09/students.py>"
      ]
    },
    {
      "cell_type": "code",
      "metadata": {
        "id": "YXsTW9jBEscR",
        "colab_type": "code",
        "colab": {}
      },
      "source": [
        "a_list = [3, 67, \"cat\", [56, 57, \"dog\"], [ ], 3.14, False]\n",
        "print(3.14 in a_list)\n",
        "print(\"dog\" in a_list)"
      ],
      "execution_count": 0,
      "outputs": []
    },
    {
      "cell_type": "markdown",
      "metadata": {
        "id": "AOxgzxP-AnYB",
        "colab_type": "text"
      },
      "source": [
        "### Nested loop revisited"
      ]
    },
    {
      "cell_type": "markdown",
      "metadata": {
        "id": "u09W84uVATr_",
        "colab_type": "text"
      },
      "source": [
        "Count how many students are taking \"CompSci\""
      ]
    },
    {
      "cell_type": "code",
      "metadata": {
        "id": "bFKD12tvALyw",
        "colab_type": "code",
        "colab": {}
      },
      "source": [
        "students = [\n",
        "    (\"John\", [\"CompSci\", \"Physics\"]),\n",
        "    (\"Vusi\", [\"Maths\", \"CompSci\", \"Stats\"]),\n",
        "    (\"Jess\", [\"CompSci\", \"Accounting\", \"Economics\", \"Management\"]),\n",
        "    (\"Sarah\", [\"InfSys\", \"Accounting\", \"Economics\", \"CommLaw\"]),\n",
        "    (\"Zuki\", [\"Sociology\", \"Economics\", \"Law\", \"Stats\", \"Music\"])]"
      ],
      "execution_count": 0,
      "outputs": []
    },
    {
      "cell_type": "code",
      "metadata": {
        "id": "pjoopDoGAZKn",
        "colab_type": "code",
        "colab": {}
      },
      "source": [
        "counter = 0\n",
        "for name, subjects in students:\n",
        "    if \"CompSci\" in subjects:\n",
        "        counter += 1\n",
        "\n",
        "print(\"The number of students taking CompSci is\", counter)"
      ],
      "execution_count": 0,
      "outputs": []
    },
    {
      "cell_type": "markdown",
      "metadata": {
        "id": "hK6VXsuLSCnL",
        "colab_type": "text"
      },
      "source": [
        "## 5.3.5 List operations"
      ]
    },
    {
      "cell_type": "markdown",
      "metadata": {
        "id": "qM1SumtITJ8K",
        "colab_type": "text"
      },
      "source": [
        "### List operations\n",
        "\n",
        "- The `+` operator concatenates lists:\n",
        "\n",
        "```\n",
        "   >>> a = [1, 2, 3]\n",
        "   >>> b = [4, 5, 6]\n",
        "   >>> c = a + b\n",
        "   >>> c\n",
        "   [1, 2, 3, 4, 5, 6\n",
        "```"
      ]
    },
    {
      "cell_type": "code",
      "metadata": {
        "id": "WP5eGCdBBJWb",
        "colab_type": "code",
        "colab": {}
      },
      "source": [
        "first_list = [1, 2, 3]\n",
        "second_list = [4, 5, 6]\n",
        "both_lists = first_list + second_list\n",
        "both_lists"
      ],
      "execution_count": 0,
      "outputs": []
    },
    {
      "cell_type": "markdown",
      "metadata": {
        "id": "oocpeePbTNdh",
        "colab_type": "text"
      },
      "source": [
        "- Similarly, the `*` operator repeats a list a given number of times:\n",
        "\n",
        "```\n",
        "   >>> [0] * 4\n",
        "   [0, 0, 0, 0]\n",
        "   >>> [1, 2, 3] * 3\n",
        "   [1, 2, 3, 1, 2, 3, 1, 2, 3]\n",
        "```"
      ]
    },
    {
      "cell_type": "code",
      "metadata": {
        "id": "l8wBm0zXBQeA",
        "colab_type": "code",
        "colab": {}
      },
      "source": [
        "print([0] * 4)\n",
        "print([1, 2, 3] * 3)"
      ],
      "execution_count": 0,
      "outputs": []
    },
    {
      "cell_type": "markdown",
      "metadata": {
        "id": "TWy4ShB5SF5B",
        "colab_type": "text"
      },
      "source": [
        "## 5.3.6 List slices"
      ]
    },
    {
      "cell_type": "markdown",
      "metadata": {
        "id": "siKDkeKeTR-H",
        "colab_type": "text"
      },
      "source": [
        "### List slices\n",
        "\n",
        "- The slice operations we saw previously with strings let us work with\n",
        "    sublists:\n",
        "\n",
        "```\n",
        "   >>> a_list = [\"a\", \"b\", \"c\", \"d\", \"e\", \"f\"]\n",
        "   >>> a_list[1:3]\n",
        "   ['b', 'c']\n",
        "```"
      ]
    },
    {
      "cell_type": "code",
      "metadata": {
        "id": "4JXyeeFTxWeU",
        "colab_type": "code",
        "colab": {}
      },
      "source": [
        "a_list = [\"a\", \"b\", \"c\", \"d\", \"e\", \"f\"]\n",
        "a_list[:4]"
      ],
      "execution_count": 0,
      "outputs": []
    },
    {
      "cell_type": "code",
      "metadata": {
        "id": "VKhkbTMExrzV",
        "colab_type": "code",
        "colab": {}
      },
      "source": [
        "a_list[3:]"
      ],
      "execution_count": 0,
      "outputs": []
    },
    {
      "cell_type": "code",
      "metadata": {
        "id": "g_R8jLZpxqKh",
        "colab_type": "code",
        "colab": {}
      },
      "source": [
        "a_list[:]"
      ],
      "execution_count": 0,
      "outputs": []
    },
    {
      "cell_type": "markdown",
      "metadata": {
        "id": "GPsR5VYPSImR",
        "colab_type": "text"
      },
      "source": [
        "## 5.3.7 Lists are mutable"
      ]
    },
    {
      "cell_type": "markdown",
      "metadata": {
        "id": "6XZ-iIXqTWoN",
        "colab_type": "text"
      },
      "source": [
        "### Lists are mutable\n",
        "\n",
        "- Unlike strings, lists are **mutable**, which means we can change their\n",
        "    elements\n",
        "\n",
        "- An assignment to an element of a list is called **item assignment**\n",
        "\n",
        "```\n",
        "   >>> fruit = [\"banana\", \"apple\", \"quince\"]\n",
        "   >>> fruit[0] = \"pear\"\n",
        "   >>> fruit[2] = \"orange\"\n",
        "   >>> fruit\n",
        "   ['pear', 'apple', 'orange']\n",
        "```\n",
        "\n",
        "$\\Rightarrow$\n",
        "<https://github.com/fpro-feup/public/tree/master/lectures/09/lassign.py>"
      ]
    },
    {
      "cell_type": "code",
      "metadata": {
        "id": "L2CJnl79yv_4",
        "colab_type": "code",
        "colab": {}
      },
      "source": [
        "a_list = [\"a\", \"b\", \"c\", \"d\", \"e\", \"f\"]\n",
        "a_list[1:3] = []\n",
        "a_list"
      ],
      "execution_count": 0,
      "outputs": []
    },
    {
      "cell_type": "code",
      "metadata": {
        "id": "tdtBDNFazDI3",
        "colab_type": "code",
        "colab": {}
      },
      "source": [
        "a_list = [\"a\", \"d\", \"f\"]\n",
        "a_list[1:1] = [\"b\", \"c\"]\n",
        "a_list"
      ],
      "execution_count": 0,
      "outputs": []
    },
    {
      "cell_type": "code",
      "metadata": {
        "id": "O2I1HopPzJrL",
        "colab_type": "code",
        "colab": {}
      },
      "source": [
        "a_list[4:4] = [\"e\"]\n",
        "a_list"
      ],
      "execution_count": 0,
      "outputs": []
    },
    {
      "cell_type": "markdown",
      "metadata": {
        "id": "RjHWfcg1SLnN",
        "colab_type": "text"
      },
      "source": [
        "## 5.3.8 List deletion"
      ]
    },
    {
      "cell_type": "markdown",
      "metadata": {
        "id": "4HEq24kPTdRz",
        "colab_type": "text"
      },
      "source": [
        "### List deletion\n",
        "\n",
        "- Using slices to delete list elements can be error-prone\n",
        "\n",
        "- The `del` statement removes an element from a list\n",
        "\n",
        "```\n",
        "   >>> a = [\"one\", \"two\", \"three\"]\n",
        "   >>> del a[1]\n",
        "   >>> a\n",
        "   [\"one\", \"three\"]\n",
        "```"
      ]
    },
    {
      "cell_type": "code",
      "metadata": {
        "id": "83Yid19Szfh3",
        "colab_type": "code",
        "colab": {}
      },
      "source": [
        "a_list = [\"a\", \"b\", \"c\", \"d\", \"e\", \"f\"]\n",
        "del a_list[1:5]\n",
        "a_list"
      ],
      "execution_count": 0,
      "outputs": []
    },
    {
      "cell_type": "markdown",
      "metadata": {
        "id": "dpPRsprnSPDZ",
        "colab_type": "text"
      },
      "source": [
        "## 5.3.9 Objects and references"
      ]
    },
    {
      "cell_type": "markdown",
      "metadata": {
        "id": "TCWAo1zKTma2",
        "colab_type": "text"
      },
      "source": [
        "### Objects and references\n",
        "\n",
        "\n",
        "- Since strings are *immutable*, Python optimizes resources by making\n",
        "    two names that **refer** to the same string value refer to the same\n",
        "    object\n",
        "\n",
        "```\n",
        "   >>> a = \"banana\"\n",
        "   >>> b = \"banana\"\n",
        "   >>> a is b\n",
        "   True\n",
        "```\n",
        "![banana](images/09/banana.png)\n"
      ]
    },
    {
      "cell_type": "markdown",
      "metadata": {
        "id": "ToYnko-L03A8",
        "colab_type": "text"
      },
      "source": [
        "-  that's not the case with lists\n",
        "\n",
        "```\n",
        "   >>> a = [1, 2, 3]\n",
        "   >>> b = [1, 2, 3]\n",
        "   >>> a == b\n",
        "   True\n",
        "   \n",
        "   >>> a is b\n",
        "   False\n",
        "```\n",
        "\n",
        "![lists](images/09/lists.png)\n",
        "\n",
        "$\\Rightarrow$\n",
        "<https://github.com/fpro-feup/public/tree/master/lectures/09/references.py>"
      ]
    },
    {
      "cell_type": "markdown",
      "metadata": {
        "id": "BQuGGbIl1hSl",
        "colab_type": "text"
      },
      "source": [
        "-  a and b have the same value but do not refer to the same objec"
      ]
    },
    {
      "cell_type": "code",
      "metadata": {
        "id": "pXax2TYp1Kiy",
        "colab_type": "code",
        "colab": {}
      },
      "source": [
        "a = [81, 82, 83]\n",
        "b = [81, 82, 83]"
      ],
      "execution_count": 0,
      "outputs": []
    },
    {
      "cell_type": "markdown",
      "metadata": {
        "id": "_HmHC5aXGKvo",
        "colab_type": "text"
      },
      "source": [
        "![references](images/09/refs.png)"
      ]
    },
    {
      "cell_type": "code",
      "metadata": {
        "id": "KVe9UbgfGJuZ",
        "colab_type": "code",
        "colab": {}
      },
      "source": [
        "a == b"
      ],
      "execution_count": 0,
      "outputs": []
    },
    {
      "cell_type": "code",
      "metadata": {
        "id": "IUv51SXM1Yay",
        "colab_type": "code",
        "colab": {}
      },
      "source": [
        "a is b"
      ],
      "execution_count": 0,
      "outputs": []
    },
    {
      "cell_type": "markdown",
      "metadata": {
        "id": "SUcA8Ecc5xFU",
        "colab_type": "text"
      },
      "source": [
        "### Repetition and References\n",
        "\n",
        "\n",
        "With a list, the repetition operator creates copies of the references."
      ]
    },
    {
      "cell_type": "code",
      "metadata": {
        "id": "yIcJj0Pu5s6n",
        "colab_type": "code",
        "colab": {}
      },
      "source": [
        "origlist = [45, 76, 34, 55]\n",
        "print(origlist * 3)\n",
        "\n",
        "newlist = [origlist] * 3\n",
        "\n",
        "print(newlist)"
      ],
      "execution_count": 0,
      "outputs": []
    },
    {
      "cell_type": "markdown",
      "metadata": {
        "id": "uNCSSMZ96Oiq",
        "colab_type": "text"
      },
      "source": [
        "![repetition](images/09/repetition.png)"
      ]
    },
    {
      "cell_type": "code",
      "metadata": {
        "id": "y6cwa5tE7FxU",
        "colab_type": "code",
        "colab": {}
      },
      "source": [
        "origlist[1] = 99"
      ],
      "execution_count": 0,
      "outputs": []
    },
    {
      "cell_type": "markdown",
      "metadata": {
        "id": "zq0Lbbc77Wl5",
        "colab_type": "text"
      },
      "source": [
        "![alises2](images/09/alias2.png)"
      ]
    },
    {
      "cell_type": "markdown",
      "metadata": {
        "id": "RfQEDjDBSR2E",
        "colab_type": "text"
      },
      "source": [
        "## 5.3.10 Aliasing"
      ]
    },
    {
      "cell_type": "markdown",
      "metadata": {
        "id": "Hc6u-ou-TsRT",
        "colab_type": "text"
      },
      "source": [
        "### Aliasing\n",
        "\n",
        "- Since variables refer to objects, if we assign one variable to\n",
        "    another, both variables refer to the same object\n",
        "\n",
        "- Although this behavior can be useful, it is sometimes unexpected or\n",
        "    undesirable\n",
        "\n",
        "```\n",
        "   >>> a = [1, 2, 3]\n",
        "   >>> b = a\n",
        "\n",
        "   >>> a is b\n",
        "   True\n",
        "\n",
        "   >>> b[0] = 5\n",
        "   >>> a\n",
        "   [5, 2, 3]\n",
        "```\n",
        "![aliases](images/09/lists2.png)"
      ]
    },
    {
      "cell_type": "markdown",
      "metadata": {
        "id": "oNkR6p9a2Ik1",
        "colab_type": "text"
      },
      "source": [
        "- Because the same list has two different names, `a` and `b`, we say that it is **aliased**. \n",
        "- Changes made with one alias affect the other:"
      ]
    },
    {
      "cell_type": "code",
      "metadata": {
        "id": "lNMLH9nK2ULT",
        "colab_type": "code",
        "colab": {}
      },
      "source": [
        "a = [81, 82, 83]\n",
        "b = a\n",
        "print(b is a)\n",
        "b[0] = 85\n",
        "a"
      ],
      "execution_count": 0,
      "outputs": []
    },
    {
      "cell_type": "markdown",
      "metadata": {
        "id": "9JMjWESdGpDE",
        "colab_type": "text"
      },
      "source": [
        "![alias](images/09/alias.png)"
      ]
    },
    {
      "cell_type": "markdown",
      "metadata": {
        "id": "WSUtXtyXoxi1",
        "colab_type": "text"
      },
      "source": [
        "### The use of aliases\n",
        "\n",
        "Why would you want to refer to one and the same variable by two different names? \n",
        "\n",
        "- Ordinarily, you don't. \n",
        "\n",
        "- However, some Python programming constructs automatically make use of aliases. \n",
        "\n",
        "- Actually, function argument identifiers are actually an alias to the variable they represent outside the function, with some consequences.\n"
      ]
    },
    {
      "cell_type": "markdown",
      "metadata": {
        "id": "bO-JlJUXSVQn",
        "colab_type": "text"
      },
      "source": [
        "## 5.3.11 Cloning lists"
      ]
    },
    {
      "cell_type": "markdown",
      "metadata": {
        "id": "xFlvXvekTwC5",
        "colab_type": "text"
      },
      "source": [
        "### Cloning lists\n",
        "\n",
        "- If we want to modify a list and also keep a copy of the original\n",
        "\n",
        "- The easiest way to **clone** a list is to use the slice operator\n",
        "\n",
        "```\n",
        "   >>> a = [1, 2, 3]\n",
        "   >>> b = a[:]     # considered bad practice\n",
        "   >>> c = a.copy() # better in Python3\n",
        "   \n",
        "   >>> b\n",
        "   [1, 2, 3]\n",
        "\n",
        "   >>> b[0] = 5\n",
        "\n",
        "   >>> a\n",
        "   [1, 2, 3]\n",
        "```"
      ]
    },
    {
      "cell_type": "markdown",
      "metadata": {
        "id": "7HuEiSwP2nj1",
        "colab_type": "text"
      },
      "source": [
        "Let's try it:"
      ]
    },
    {
      "cell_type": "code",
      "metadata": {
        "id": "Z4F8ZZl32qEh",
        "colab_type": "code",
        "colab": {}
      },
      "source": [
        "a = [1, 2, 3]\n",
        "b = a[:]        # considered bad practice\n",
        "print(b is a)\n",
        "b"
      ],
      "execution_count": 0,
      "outputs": []
    },
    {
      "cell_type": "markdown",
      "metadata": {
        "id": "aBqqPS7A25Ns",
        "colab_type": "text"
      },
      "source": [
        "Now we are free to make changes to b without worrying that we’ll inadvertently be changing a:"
      ]
    },
    {
      "cell_type": "code",
      "metadata": {
        "id": "5CG3sd1s27TE",
        "colab_type": "code",
        "colab": {}
      },
      "source": [
        "b[0] = 5\n",
        "a"
      ],
      "execution_count": 0,
      "outputs": []
    },
    {
      "cell_type": "markdown",
      "metadata": {
        "id": "sW8Kg_ma4j8r",
        "colab_type": "text"
      },
      "source": [
        "To see it all, go to [Python tutor](http://www.pythontutor.com/visualize.html#code=a%20%3D%20%5B81,%2082,%2083%5D%0Ab%20%3D%20%5B81,%2082,%2083%5D%0A%0Aprint%28a%20%3D%3D%20b%29%0Aprint%28a%20is%20b%29%0A%0Ab%20%3D%20a%0Aprint%28a%20%3D%3D%20b%29%0Aprint%28a%20is%20b%29%0A%0Ab%5B0%5D%20%3D%205%0Aprint%28a%29&cumulative=false&curInstr=0&heapPrimitives=nevernest&mode=display&origin=opt-frontend.js&py=3&rawInputLstJSON=%5B%5D&textReferences=false), now."
      ]
    },
    {
      "cell_type": "markdown",
      "metadata": {
        "id": "wJHg8Bf1SlGl",
        "colab_type": "text"
      },
      "source": [
        "## Using `zip()`"
      ]
    },
    {
      "cell_type": "markdown",
      "metadata": {
        "id": "JIv668tJhXdI",
        "colab_type": "text"
      },
      "source": [
        "### `zip()`\n",
        "\n",
        "- `zip()` is available in the built-in namespace\n",
        "\n",
        "- According to [the official documentation](https://docs.python.org/3/library/functions.html#zip), Python’s `zip()` function behaves as follows:\n",
        "\n",
        "> Returns an iterator of tuples, where the i-th tuple contains the i-th element \n",
        "> from each of the argument sequences or iterables. \n",
        "> \n",
        "> The iterator stops when the shortest input iterable is exhausted. \n",
        "> \n",
        "> With a single iterable argument, it returns an iterator of 1-tuples. \n",
        "> With no arguments, it returns an empty iterator. \n",
        "\n",
        "\n",
        "[Understanding the Python zip() Function](https://realpython.com/python-zip-function/#understanding-the-python-zip-function)"
      ]
    },
    {
      "cell_type": "markdown",
      "metadata": {
        "id": "sPbUPw7ZT12U",
        "colab_type": "text"
      },
      "source": [
        "### Using `zip()`\n",
        "\n",
        "\n",
        "```\n",
        "    coordinate = ['x', 'y', 'z']\n",
        "    value = [1, 2, 3, 4, 5]\n",
        "\n",
        "    result = zip(coordinate, value)\n",
        "    result_list = list(result)\n",
        "    print(result_list)\n",
        "\n",
        "    c, v =  zip(*result_list)\n",
        "    print(\"c =\", c)\n",
        "    print(\"v =\", v)\n",
        "```\n",
        "\n",
        "$\\Rightarrow$\n",
        "<https://github.com/fpro-feup/public/tree/master/lectures/09/zip.py>"
      ]
    },
    {
      "cell_type": "markdown",
      "metadata": {
        "id": "r93ZkAVTkV6H",
        "colab_type": "text"
      },
      "source": [
        "Try these:"
      ]
    },
    {
      "cell_type": "code",
      "metadata": {
        "id": "ai37hyE03RPL",
        "colab_type": "code",
        "colab": {}
      },
      "source": [
        "l1 = ['a', 'b', 'c']\n",
        "l2 = [1, 2, 3, 4]\n",
        "\n",
        "z1 = zip(l1, l2)\n",
        "print(z1)\n",
        "print(type(z1))\n",
        "\n",
        "l3 = list(z1)\n",
        "print(l3)\n",
        "print(type(l3))"
      ],
      "execution_count": 0,
      "outputs": []
    },
    {
      "cell_type": "code",
      "metadata": {
        "id": "BBG6jDzN4eOY",
        "colab_type": "code",
        "colab": {}
      },
      "source": [
        "c, n =  zip(*l3)\n",
        "print(\"c =\", c)\n",
        "print(\"n =\", n)"
      ],
      "execution_count": 0,
      "outputs": []
    },
    {
      "cell_type": "markdown",
      "metadata": {
        "id": "TcLnGXLRkRP_",
        "colab_type": "text"
      },
      "source": [
        "One more example:"
      ]
    },
    {
      "cell_type": "code",
      "metadata": {
        "id": "EfEQOdHTkGpR",
        "colab_type": "code",
        "colab": {}
      },
      "source": [
        "letters = ['a', 'b', 'c']\n",
        "numbers = [0, 1, 2]\n",
        "for l, n in zip(letters, numbers):\n",
        "    print(f'Letter: {l}')\n",
        "    print(f'Number: {n}')"
      ],
      "execution_count": 0,
      "outputs": []
    },
    {
      "cell_type": "markdown",
      "metadata": {
        "id": "hK1W8IroT5f8",
        "colab_type": "text"
      },
      "source": [
        "- Visualise it in python tutor\n",
        "\n",
        "$\\Rightarrow$\n",
        "<http://www.pythontutor.com/visualize.html>"
      ]
    },
    {
      "cell_type": "markdown",
      "metadata": {
        "id": "-88zpLeGUG3t",
        "colab_type": "text"
      },
      "source": [
        "## List Operations"
      ]
    },
    {
      "cell_type": "markdown",
      "metadata": {
        "id": "WHb8omgGUDg1",
        "colab_type": "text"
      },
      "source": [
        "### List Operations\n",
        "\n",
        "- See the Python Standard Library for:\n",
        "\n",
        "  - a comprehensive list of \"Common Sequence Operations\":\n",
        "    [[PSL](https://docs.python.org/3.7/library/stdtypes.html#common-sequence-operations)]\n",
        "\n",
        "  - a comprehensive list of operations on \"Mutable Sequence Types\":\n",
        "    [[PSL](https://docs.python.org/3.7/library/stdtypes.html#mutable-sequence-types)]"
      ]
    },
    {
      "cell_type": "markdown",
      "metadata": {
        "id": "Zz-UtV8ORH_t",
        "colab_type": "text"
      },
      "source": [
        "# Ticket to leave"
      ]
    },
    {
      "cell_type": "markdown",
      "metadata": {
        "id": "C-hchAExRRVh",
        "colab_type": "text"
      },
      "source": [
        "## Moodle activity\n",
        "\n",
        "[LE09: Lists](https://moodle.up.pt/mod/quiz/view.php?id=39478)"
      ]
    },
    {
      "cell_type": "markdown",
      "metadata": {
        "id": "uV1OP6ahRYne",
        "colab_type": "text"
      },
      "source": [
        "\n",
        "$\\Rightarrow$ \n",
        "[Go back to the Table of Contents](00-contents.ipynb)\n",
        "\n",
        "$\\Rightarrow$ \n",
        "[Read the Preface](00-preface.ipynb)"
      ]
    }
  ]
}
