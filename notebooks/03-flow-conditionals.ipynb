{
  "nbformat": 4,
  "nbformat_minor": 0,
  "metadata": {
    "colab": {
      "name": "03-flow-conditional.ipynb",
      "provenance": [],
      "private_outputs": true,
      "collapsed_sections": [],
      "toc_visible": true
    },
    "kernelspec": {
      "name": "python3",
      "display_name": "Python 3"
    }
  },
  "cells": [
    {
      "cell_type": "markdown",
      "metadata": {
        "id": "8z5cONg8rUrX",
        "colab_type": "text"
      },
      "source": [
        "# Program flow, conditionals & selection\n",
        "\n",
        "## Programming Fundamentals (NB03)\n",
        "\n",
        "### MIEIC/2019-20\n",
        "\n",
        "#### João Correia Lopes\n",
        "\n",
        "FEUP/DEI and INESC TEC"
      ]
    },
    {
      "cell_type": "markdown",
      "metadata": {
        "id": "MZzE7pYorju5",
        "colab_type": "text"
      },
      "source": [
        "## Goals\n",
        "\n",
        "By the end of this class, the student should be able to:\n",
        "\n",
        "- Describe how to `import` and do simple graphics with the module \"turtle\"\n",
        "\n",
        "- Describe an instance of Turtle, its own attributes and methods\n",
        "\n",
        "- Describe the flow of execution of the for loop\n",
        "\n",
        "- Describe the `range` function\n",
        "\n",
        "- Describe conditionals and selection\n",
        "\n",
        "- Describe Boolean values, logical operators, and expressions\n",
        "\n",
        "- Describe the use of if-then-else blocks for conditional execution\n"
      ]
    },
    {
      "cell_type": "markdown",
      "metadata": {
        "id": "eR5Lh1jNroE2",
        "colab_type": "text"
      },
      "source": [
        "## Bibliography\n",
        "\n",
        "- Peter Wentworth, Jeffrey Elkner, Allen B. Downey, and Chris Meyers, *How to Think Like a Computer Scientist — Learning with Python 3* (Section 3.1 & Section 3.2)\n",
        "\n",
        "- Brad Miller and David Ranum, Learning with Python: Interactive Edition. Based on material by Jeffrey Elkner, Allen B. Downey, and Chris Meyers (Chapter 4 & Chapter 7)\n"
      ]
    },
    {
      "cell_type": "markdown",
      "metadata": {
        "id": "UlT41tXPHeAx",
        "colab_type": "text"
      },
      "source": [
        "# Program flow (with Turtles)\n"
      ]
    },
    {
      "cell_type": "markdown",
      "metadata": {
        "id": "Vl0u1-guAR-3",
        "colab_type": "text"
      },
      "source": [
        "## Python Modules\n",
        "\n",
        "- There are many modules in Python that provide very powerful features\n",
        "    that we can use in our own programs:\n",
        "  * to do maths\n",
        "  * to send email\n",
        "  * to fetch web pages (scraping)\n",
        "  * ... and many others\n"
      ]
    },
    {
      "cell_type": "markdown",
      "metadata": {
        "id": "QVMIGeFZLScL",
        "colab_type": "text"
      },
      "source": [
        "- With `turtle` one creates turtles and get them to draw shapes and\n",
        "    patterns\n",
        "\n",
        "- ... but the aim is to develop the theme: \"computational thinking\""
      ]
    },
    {
      "cell_type": "markdown",
      "metadata": {
        "id": "KKXsawb3A6MI",
        "colab_type": "text"
      },
      "source": [
        "Runestone Interactive vídeo:"
      ]
    },
    {
      "cell_type": "code",
      "metadata": {
        "id": "49y1cw2oA-pU",
        "colab_type": "code",
        "colab": {}
      },
      "source": [
        "from IPython.display import YouTubeVideo\n",
        "YouTubeVideo('GCLHuPBtLdQ')"
      ],
      "execution_count": 0,
      "outputs": []
    },
    {
      "cell_type": "markdown",
      "metadata": {
        "id": "5zHy3QBYTFef",
        "colab_type": "text"
      },
      "source": [
        "### Python Modules\n",
        "\n",
        "\n",
        "- A **module** is a file containing Python definitions and statements\n",
        "    intended for use in other Python programs\n",
        "\n",
        "- There are many Python modules that come with Python as part of the\n",
        "    standard library\n",
        "\n",
        "- Once we import the module, we can use things that are defined inside\n",
        "\n",
        "$\\Rightarrow$ <https://docs.python.org/3.7/>\\\n",
        "$\\Rightarrow$ <https://docs.python.org/3.7/library/>\\\n",
        "$\\Rightarrow$ <https://docs.python.org/3/py-modindex.html>\\\n",
        "$\\Rightarrow$ <https://docs.python.org/3.7/library/turtle.html>\\\n",
        "$\\Rightarrow$ <https://github.com/python/cpython/blob/3.7/Lib/turtle.py>"
      ]
    },
    {
      "cell_type": "markdown",
      "metadata": {
        "id": "lE7M5KmHTiqI",
        "colab_type": "text"
      },
      "source": [
        "### Using Modules\n",
        "\n",
        "- The first thing we need to do when we wish to use a module is\n",
        "    perform an import\n",
        "\n",
        "- The statement `import turtle` creates a new name, `turtle`, and\n",
        "    makes it refer to a module object\n",
        "\n",
        "- This looks very much like the reference diagrams for simple\n",
        "    variables\n",
        "\n",
        "![turtle module](images/03/turtle.png)\n"
      ]
    },
    {
      "cell_type": "markdown",
      "metadata": {
        "id": "U7nQ3C5gUGBQ",
        "colab_type": "text"
      },
      "source": [
        "### The `math` module\n",
        "\n",
        "\n",
        "- The math module contains the kinds of mathematical functions you\n",
        "    would typically find on your calculator, and\n",
        "\n",
        "- some mathematical constants like *pi* and *e*\n",
        "\n",
        "![math](images/03/math.png)\n",
        "\n",
        "$\\Rightarrow$\n",
        "<https://github.com/fpro-feup/public/blob/master/lectures/03/math.py>"
      ]
    },
    {
      "cell_type": "markdown",
      "metadata": {
        "id": "U06Lzg_cU3Gr",
        "colab_type": "text"
      },
      "source": [
        "### The `random` module\n",
        "\n",
        "We often want to use **random numbers** in programs<sup>1</sup>. \n",
        "Here are a few typical uses:\n",
        "\n",
        "-   To play a game of chance where the computer needs to throw some\n",
        "    dice, pick a number, or flip a coin\n",
        "\n",
        "-   To shuffle a deck of playing cards randomly\n",
        "\n",
        "-   To randomly allow a new enemy spaceship to appear and shoot at you\n",
        "\n",
        "-   To simulate possible rainfall when we make a computerised model for\n",
        "    estimating the environmental impact of building a dam\n",
        "\n",
        "-   For encrypting your banking session on the Internet\n",
        "\n",
        "$\\Rightarrow$\n",
        "<https://github.com/fpro-feup/public/blob/master/lectures/03/random.py>\n",
        "\n",
        "<sup>1</sup>It is important to note that random number generators are based on\n",
        "    a *deterministic algorithm* --- repeatable and predictable. So\n",
        "    they're called *pseudo-random generators* --- they are not genuinely\n",
        "    random."
      ]
    },
    {
      "cell_type": "markdown",
      "metadata": {
        "id": "uKHg5sKMBdmb",
        "colab_type": "text"
      },
      "source": [
        "Runestone Interactive vídeo:"
      ]
    },
    {
      "cell_type": "code",
      "metadata": {
        "id": "DmGI_zu_BfCr",
        "colab_type": "code",
        "colab": {}
      },
      "source": [
        "from IPython.display import YouTubeVideo\n",
        "YouTubeVideo('SGVgAV0v-Ww')"
      ],
      "execution_count": 0,
      "outputs": []
    },
    {
      "cell_type": "markdown",
      "metadata": {
        "id": "kHauPk-OKzdn",
        "colab_type": "text"
      },
      "source": [
        "## 3.1.1 Our first turtle program\n",
        "\n"
      ]
    },
    {
      "cell_type": "markdown",
      "metadata": {
        "id": "kjpwUJ2M_gm0",
        "colab_type": "text"
      },
      "source": [
        "Runestone Interactive vídeo:"
      ]
    },
    {
      "cell_type": "code",
      "metadata": {
        "id": "EU64IFvl_jI0",
        "colab_type": "code",
        "colab": {}
      },
      "source": [
        "from IPython.display import YouTubeVideo\n",
        "YouTubeVideo('Yxyx6KpKRzY')"
      ],
      "execution_count": 0,
      "outputs": []
    },
    {
      "cell_type": "markdown",
      "metadata": {
        "id": "X67Z1ULILfld",
        "colab_type": "text"
      },
      "source": [
        "### Simple graphics\n",
        "\n",
        "- Every window contains a *canvas*, which is the area inside\n",
        "the window on which we can draw\n",
        "\n",
        "\n",
        "```\n",
        "import turtle             # Allows us to use turtles\n",
        "\n",
        "window = turtle.Screen()  # Creates a playground for turtles\n",
        "alex = turtle.Turtle()    # Create a turtle, assign to alex\n",
        "\n",
        "alex.forward(50)          # Tell alex to move forward by 50 units\n",
        "alex.left(90)             # Tell alex to turn by 90 degrees\n",
        "alex.forward(30)          # Complete the second side of a rectangle\n",
        "\n",
        "window.mainloop()         # Wait for user to close window\n",
        "```\n",
        "\n",
        "$\\Rightarrow$\n",
        "<https://github.com/fpro-feup/public/blob/master/lectures/03/turtles.py>\n"
      ]
    },
    {
      "cell_type": "code",
      "metadata": {
        "id": "h13amj_Qvyz9",
        "colab_type": "code",
        "colab": {}
      },
      "source": [
        "import turtle\n",
        "\n",
        "window = turtle.Screen()\n",
        "\n",
        "window.bgcolor(\"lightgreen\")\n",
        "window.title(\"Hello, Tess!\")\n",
        "\n",
        "tess = turtle.Turtle()\n",
        "tess.color(\"blue\")\n",
        "tess.pensize(3)\n",
        "\n",
        "tess.forward(50)\n",
        "tess.left(120)\n",
        "tess.forward(50)\n",
        "\n",
        "window.mainloop()"
      ],
      "execution_count": 0,
      "outputs": []
    },
    {
      "cell_type": "markdown",
      "metadata": {
        "id": "YDe_ay_AHor-",
        "colab_type": "text"
      },
      "source": [
        "## 3.1.2 Instances — a herd of turtles"
      ]
    },
    {
      "cell_type": "markdown",
      "metadata": {
        "id": "Teycmy-8MLxX",
        "colab_type": "text"
      },
      "source": [
        "### Instances\n",
        "\n",
        "- From a *class* (Turtle) one may have many *objects* (**instances** of\n",
        "Turtle)\n",
        "\n",
        "- Each instance has its own **state** and **behaviour**\n",
        "\n",
        "\n",
        "``` \n",
        "import turtle\n",
        "\n",
        "window = turtle.Screen()   # Set up the window and its attributes\n",
        "window.title(\"Tess & Alex\")\n",
        "\n",
        "tess = turtle.Turtle()     # Create tess and set some attributes\n",
        "tess.color(\"Pink\"); \n",
        "\n",
        "alex = turtle.Turtle()     # Create alex\n",
        "tess.color(\"Navy\"); \n",
        "\n",
        "# ... and more\n",
        "\n",
        "```\n",
        "$\\Rightarrow$ \n",
        "<https://github.com/fpro-feup/public/blob/master/lectures/03/herd.py>"
      ]
    },
    {
      "cell_type": "markdown",
      "metadata": {
        "id": "0ReMim-vHvl5",
        "colab_type": "text"
      },
      "source": [
        "## 3.1.3  The for loop\n",
        "\n",
        "- A basic building block of all programs to be able to *repeat*\n",
        "    some code, over and over again.\n",
        "\n",
        "- In computer science, we refer to this repetitive idea as *iteration*\n",
        "\n",
        "- it has a *loop variable*, an indented *loop body*, and a terminating\n",
        "    condition"
      ]
    },
    {
      "cell_type": "code",
      "metadata": {
        "id": "v5Nwv7KGgFSE",
        "colab_type": "code",
        "colab": {}
      },
      "source": [
        "for friend in [\"Joe\", \"Zoe\", \"Zuki\", \"Thandi\", \"Paris\"]:\n",
        "    invite = \"Hi \" + friend + \". Please come to my party!\"\n",
        "    print(invite)"
      ],
      "execution_count": 0,
      "outputs": []
    },
    {
      "cell_type": "markdown",
      "metadata": {
        "id": "d7D9iqzP_xn6",
        "colab_type": "text"
      },
      "source": [
        "Runestone Interactive vídeo:"
      ]
    },
    {
      "cell_type": "code",
      "metadata": {
        "id": "shoxl4id_5sq",
        "colab_type": "code",
        "colab": {}
      },
      "source": [
        "from IPython.display import YouTubeVideo\n",
        "YouTubeVideo('xGSfiZt5cdw')"
      ],
      "execution_count": 0,
      "outputs": []
    },
    {
      "cell_type": "markdown",
      "metadata": {
        "id": "uoP2C_dXKQ86",
        "colab_type": "text"
      },
      "source": [
        "## 3.1.4 Flow of Execution of the for loop"
      ]
    },
    {
      "cell_type": "markdown",
      "metadata": {
        "id": "xRBaDJLnhmrU",
        "colab_type": "text"
      },
      "source": [
        "### Flow of Execution\n",
        "\n",
        "- As a program executes, the interpreter always keeps track of which\n",
        "    statement is about to be executed.\n",
        "\n",
        "- We call this the **control flow**, of the **flow of execution** of\n",
        "    the program.\n",
        "\n",
        "- Control flow until now has been strictly top to bottom, one\n",
        "    statement at a time (**sequential control**)\n",
        "  * The `for` loop changes this.\n",
        "\n",
        "- In Python flow is *sequential* as long as successive statements are indented the *same*\n"
      ]
    },
    {
      "cell_type": "code",
      "metadata": {
        "id": "oalfztCOVKOc",
        "colab_type": "code",
        "colab": {}
      },
      "source": [
        "for name in [\"Joe\", \"Amy\", \"Brad\", \"Angelina\", \"Zuki\", \"Thandi\", \"Paris\"]:\n",
        "    print(\"Hi \", name, \"  Please come to my party on Saturday!\")"
      ],
      "execution_count": 0,
      "outputs": []
    },
    {
      "cell_type": "markdown",
      "metadata": {
        "id": "W5s1iKZJVOnD",
        "colab_type": "text"
      },
      "source": [
        "\n",
        "- [See it running in [pythontutor.com](http://www.pythontutor.com/visualize.html#mode=edit)]"
      ]
    },
    {
      "cell_type": "markdown",
      "metadata": {
        "id": "nSvTOSeBxd2U",
        "colab_type": "text"
      },
      "source": [
        "### Flow of Execution of `for`\n",
        "\n",
        "![for flow](images/03/for.png)\n"
      ]
    },
    {
      "cell_type": "markdown",
      "metadata": {
        "id": "xhpa-BDwHzPn",
        "colab_type": "text"
      },
      "source": [
        "## 3.1.5 The loop simplifies our turtle program\n"
      ]
    },
    {
      "cell_type": "markdown",
      "metadata": {
        "id": "gvkv8JsEjFhb",
        "colab_type": "text"
      },
      "source": [
        "### `for` loop to do a square\n",
        "\n",
        "\n",
        "To draw a square we’d like to do the same thing four times — move the turtle forward some distance and turn 90 degrees\n",
        "\n",
        "\n",
        "```\n",
        "import turtle            # set up alex\n",
        "wn = turtle.Screen()\n",
        "alex = turtle.Turtle()\n",
        "\n",
        "for i in [0, 1, 2, 3]:   # repeat four times\n",
        "    alex.forward(50)\n",
        "    alex.left(90)\n",
        "\n",
        "wn.mainloop()\n",
        "```"
      ]
    },
    {
      "cell_type": "markdown",
      "metadata": {
        "id": "G1hjMPvJjTtD",
        "colab_type": "text"
      },
      "source": [
        "$\\Rightarrow$\n",
        "<https://github.com/fpro-feup/public/blob/master/lectures/03/for.py>"
      ]
    },
    {
      "cell_type": "code",
      "metadata": {
        "id": "XhzX_DJIVmrj",
        "colab_type": "code",
        "colab": {}
      },
      "source": [
        "for a_color in [\"yellow\", \"red\", \"purple\", \"blue\"]:  # repeat four times\n",
        "    alex.color(a_color)\n",
        "    alex.forward(50)\n",
        "    alex.left(90)"
      ],
      "execution_count": 0,
      "outputs": []
    },
    {
      "cell_type": "code",
      "metadata": {
        "id": "9V38wmzkVrYt",
        "colab_type": "code",
        "colab": {}
      },
      "source": [
        "colors = [\"yellow\", \"red\", \"purple\", \"blue\"]\n",
        "for color in colors:                                # for each color\n",
        "    alex.color(color)\n",
        "    alex.forward(50)\n",
        "    alex.left(90)"
      ],
      "execution_count": 0,
      "outputs": []
    },
    {
      "cell_type": "markdown",
      "metadata": {
        "id": "j7GTWCakj8lu",
        "colab_type": "text"
      },
      "source": [
        "### The range Function\n",
        "\n",
        "- Python gives us special built-in range objects\n",
        "\n",
        "- Computer scientists like to count from 0!\n",
        "\n",
        "- The most general form of the range is\n",
        "    `range(start, beyondLast, step)`"
      ]
    },
    {
      "cell_type": "code",
      "metadata": {
        "id": "TG_EySy9kNor",
        "colab_type": "code",
        "colab": {}
      },
      "source": [
        "for i in range(4):\n",
        "    # Executes the body with i = 0, then 1, then 2, then 3\n",
        "    print(i)"
      ],
      "execution_count": 0,
      "outputs": []
    },
    {
      "cell_type": "code",
      "metadata": {
        "id": "XYjlsqfRkQAA",
        "colab_type": "code",
        "colab": {}
      },
      "source": [
        "for _ in range(10):\n",
        "    # Sets x to each of ... [0, 1, 2, 3, 4, 5, 6, 7, 8, 9]\n",
        "    print(_)"
      ],
      "execution_count": 0,
      "outputs": []
    },
    {
      "cell_type": "code",
      "metadata": {
        "id": "1OkOyVNFkTeZ",
        "colab_type": "code",
        "colab": {}
      },
      "source": [
        "for i in range(0, 20, 2):\n",
        "    print(i)"
      ],
      "execution_count": 0,
      "outputs": []
    },
    {
      "cell_type": "markdown",
      "metadata": {
        "id": "sgfpOwYDWDaM",
        "colab_type": "text"
      },
      "source": [
        "### `range` is lazy\n",
        "\n",
        "The range function is lazy: \n",
        "\n",
        "- It produces the next element only when needed\n",
        "\n",
        "- With a regular Python 3 interpreter, printing a range does not calculate all the elements\n",
        "\n",
        "- To immediately calculate all the elements in a range, convert the range in a list\n",
        "  * `list(range(4))`"
      ]
    },
    {
      "cell_type": "markdown",
      "metadata": {
        "id": "4NIuUzJAATK2",
        "colab_type": "text"
      },
      "source": [
        "Runestone Interactive vídeo:"
      ]
    },
    {
      "cell_type": "code",
      "metadata": {
        "id": "WRHwVXAQAUPz",
        "colab_type": "code",
        "colab": {}
      },
      "source": [
        "from IPython.display import YouTubeVideo\n",
        "YouTubeVideo('YK8QlIT3__M')"
      ],
      "execution_count": 0,
      "outputs": []
    },
    {
      "cell_type": "markdown",
      "metadata": {
        "id": "vIvn-158kcm4",
        "colab_type": "text"
      },
      "source": [
        "## 3.1.6 A few more turtle methods and tricks"
      ]
    },
    {
      "cell_type": "markdown",
      "metadata": {
        "id": "PicDe9iskj28",
        "colab_type": "text"
      },
      "source": [
        "### Some more turtle methods\n",
        "\n",
        "- `tess.left(-30)` / `tess.right(330)` ?\n",
        "\n",
        "- `alex.backward(-100)` / `alex.forward(100)` ?\n",
        "\n",
        "- `alex.penup()` and `alex.pendown()`\n",
        "\n",
        "- `alex.shape(\"turtle\")`\n",
        "\n",
        "- `alex.speed(10)`\n",
        "\n",
        "$\\Rightarrow$\n",
        "<https://github.com/fpro-feup/public/blob/master/lectures/03/stamp.py>\n",
        "\n",
        "$\\Rightarrow$\n",
        "<https://github.com/fpro-feup/public/blob/master/lectures/03/clock.py>"
      ]
    },
    {
      "cell_type": "markdown",
      "metadata": {
        "id": "ctRIEHAQH4pt",
        "colab_type": "text"
      },
      "source": [
        "# Conditionals & selection"
      ]
    },
    {
      "cell_type": "markdown",
      "metadata": {
        "id": "vbbGCyS0kT6j",
        "colab_type": "text"
      },
      "source": [
        "## 3.2.1 Boolean values and expressions\n",
        "\n",
        "- Programs get really interesting when we can test conditions and\n",
        "    change the program behaviour\n",
        "\n",
        "- A *Boolean* value is either true or false\n",
        "\n",
        "- In Python, the two Boolean values are `True` and `False` and the\n",
        "    type is `bool`\n",
        "\n",
        "- A Boolean expression is an expression that evaluates to produce a\n",
        "    result which is a Boolean value\n",
        "\n",
        "- For example, the operator `==` tests if two values are equal"
      ]
    },
    {
      "cell_type": "markdown",
      "metadata": {
        "id": "iaU-inCyXEs9",
        "colab_type": "text"
      },
      "source": [
        "Try some:"
      ]
    },
    {
      "cell_type": "code",
      "metadata": {
        "id": "LxmLNnIXXyqH",
        "colab_type": "code",
        "colab": {}
      },
      "source": [
        "print(True)\n",
        "print(type(True))\n",
        "print(type(False))\n"
      ],
      "execution_count": 0,
      "outputs": []
    },
    {
      "cell_type": "code",
      "metadata": {
        "id": "8jiD_7sWZEws",
        "colab_type": "code",
        "colab": {}
      },
      "source": [
        "print(type(True))\n",
        "print(type(\"True\"))\n",
        "type(true)"
      ],
      "execution_count": 0,
      "outputs": []
    },
    {
      "cell_type": "code",
      "metadata": {
        "id": "3-_fwKYtX0P0",
        "colab_type": "code",
        "colab": {}
      },
      "source": [
        "print(5 == (3 + 2))"
      ],
      "execution_count": 0,
      "outputs": []
    },
    {
      "cell_type": "code",
      "metadata": {
        "id": "BBQ3B9NDYG1M",
        "colab_type": "code",
        "colab": {}
      },
      "source": [
        "age = 17\n",
        "old_enough_to_get_driving_licence = age >= 18\n",
        "print(old_enough_to_get_driving_licence)"
      ],
      "execution_count": 0,
      "outputs": []
    },
    {
      "cell_type": "markdown",
      "metadata": {
        "id": "y2B7J3s3YJut",
        "colab_type": "text"
      },
      "source": [
        "$\\Rightarrow$\n",
        "<https://github.com/fpro-feup/public/blob/master/lectures/03/booleans.py>"
      ]
    },
    {
      "cell_type": "markdown",
      "metadata": {
        "id": "V-89I9XfYm8T",
        "colab_type": "text"
      },
      "source": [
        "### Comparison operators\n",
        "\n",
        "```\n",
        "x == y          # Produce True if ... x is equal to y\n",
        "x != y          # ... x is not equal to y\n",
        "x > y           # ... x is greater than y\n",
        "x < y           # ... x is less than y\n",
        "x >= y          # ... x is greater than or equal to y\n",
        "x <= y          # ... x is less than or equal to y\n",
        "```"
      ]
    },
    {
      "cell_type": "markdown",
      "metadata": {
        "id": "Ob-aZZ1xIKoy",
        "colab_type": "text"
      },
      "source": [
        "## 3.2.2 Logical operators\n",
        "\n",
        "- There are three logical operators, `and`, `or`, and `not`\n",
        "\n",
        "- Used to build more complex Boolean expressions from simpler Boolean\n",
        "    expressions\n",
        "\n",
        "- The semantics (meaning) of these operators is similar to their\n",
        "    meaning in English\n",
        "\n",
        "- The expression on the left of the `or` operator is evaluated first:\n",
        "\n",
        "    -   if the result is `True`, Python does not (and need not) evaluate\n",
        "        the expression on the right\n",
        "\n",
        "    -   this is called **short-circuit evaluation**\n",
        "\n",
        "-   Similarly, for the `and` operator:\n",
        "\n",
        "    -   if the expression on the left yields `False`, Python does not\n",
        "        evaluate the expression on the right"
      ]
    },
    {
      "cell_type": "code",
      "metadata": {
        "id": "ke0ntDITaAvG",
        "colab_type": "code",
        "colab": {}
      },
      "source": [
        "x = 5\n",
        "print(x > 0 and x < 10)"
      ],
      "execution_count": 0,
      "outputs": []
    },
    {
      "cell_type": "code",
      "metadata": {
        "id": "h3hNe_0BaDnP",
        "colab_type": "code",
        "colab": {}
      },
      "source": [
        "n = 25\n",
        "print(n % 2 == 0 or n % 3 == 0)"
      ],
      "execution_count": 0,
      "outputs": []
    },
    {
      "cell_type": "markdown",
      "metadata": {
        "id": "C8bnlC8ZawNh",
        "colab_type": "text"
      },
      "source": [
        "### Common Mistake!\n",
        "\n",
        "- There is a very common mistake that occurs when programmers try to write boolean expressions\n",
        "\n",
        "- For example, what if we have a variable number and we want to check to see if its value is 5, 6, or 7\n",
        "\n",
        "- In words we might say: “number equal to 5 or 6 or 7”\n",
        "\n",
        "- You cannot take a shortcut\n"
      ]
    },
    {
      "cell_type": "code",
      "metadata": {
        "id": "vHDBPXERbq24",
        "colab_type": "code",
        "colab": {}
      },
      "source": [
        "number = 4\n",
        "number == 5 or 6 or 7"
      ],
      "execution_count": 0,
      "outputs": []
    },
    {
      "cell_type": "code",
      "metadata": {
        "id": "voIGyBzAbyva",
        "colab_type": "code",
        "colab": {}
      },
      "source": [
        "number = 4\n",
        "number == 5 or number == 6 or number == 7"
      ],
      "execution_count": 0,
      "outputs": []
    },
    {
      "cell_type": "markdown",
      "metadata": {
        "id": "JAY2Lg23IN6w",
        "colab_type": "text"
      },
      "source": [
        "## 3.2.3 Truth Tables\n"
      ]
    },
    {
      "cell_type": "markdown",
      "metadata": {
        "id": "MHcxJFpRZ7bh",
        "colab_type": "text"
      },
      "source": [
        "### Truth Table: `and`\n",
        "\n",
        "| a       | b       | a and b |\n",
        "| ------- | ------- | ------- |\n",
        "| False   | False   | False   |\n",
        "| False   | True    | False   |\n",
        "| True    | False   | False   |\n",
        "| True    | True    | True    |\n"
      ]
    },
    {
      "cell_type": "markdown",
      "metadata": {
        "id": "_xt228pKaQ19",
        "colab_type": "text"
      },
      "source": [
        "### Truth Table: `or`\n",
        "\n",
        "| a       | b       | a or b   | \n",
        "| ------- | ------- | -------- |\n",
        "| False   | False   | False    |\n",
        "| False   | True    | True     |\n",
        "| True    | False   | True     |\n",
        "| True    | True    | True     |"
      ]
    },
    {
      "cell_type": "markdown",
      "metadata": {
        "id": "Ai07ULFOaV4Q",
        "colab_type": "text"
      },
      "source": [
        "### Truth Table: `not`\n",
        "\n",
        "| a       | not a   |\n",
        "| ------- | ------- |\n",
        "| False   | True    |\n",
        "| True    | False   |\n"
      ]
    },
    {
      "cell_type": "markdown",
      "metadata": {
        "id": "YaQXhnfTabUI",
        "colab_type": "text"
      },
      "source": [
        "### Precedence of Operators\n",
        "\n",
        "| **Level**   | **Category**     | **Operators** |\n",
        "| ----------- | ---------------- | ------------- |\n",
        "| 7(high)     | exponent         | **            |\n",
        "| 6           | multiplication   | *, /, //, %   |\n",
        "| 5           | addition         | +,-           |\n",
        "| 4           | **relational**   | ==, !=, \\<=, \\>=, \\>, \\< |\n",
        "| 3           | **logical**      | not           |\n",
        "| 2           | **logical**      | and           |\n",
        "| 1(low)      | **logical**      | or            |"
      ]
    },
    {
      "cell_type": "markdown",
      "metadata": {
        "id": "2kgXqqxWIQ-z",
        "colab_type": "text"
      },
      "source": [
        "## 3.2.4 Simplifying Boolean Expressions\n"
      ]
    },
    {
      "cell_type": "markdown",
      "metadata": {
        "id": "BFP9aR08bAgY",
        "colab_type": "text"
      },
      "source": [
        "### Boolean algebra\n",
        "\n",
        "- A set of rules for simplifying and rearranging expressions is called\n",
        "    an *Algebra*\n",
        "\n",
        "- The *Boolean algebra* provides rules for working with Boolean values"
      ]
    },
    {
      "cell_type": "markdown",
      "metadata": {
        "id": "n4v2hi-abS8m",
        "colab_type": "text"
      },
      "source": [
        "### Boolean algebra: `and`\n",
        "\n",
        "\n",
        "```\n",
        "x and False == False\n",
        "False and x == False\n",
        "y and x == x and y\n",
        "x and True == x\n",
        "True and x == x\n",
        "x and x == x\n",
        "```"
      ]
    },
    {
      "cell_type": "markdown",
      "metadata": {
        "id": "LsD33no5bczw",
        "colab_type": "text"
      },
      "source": [
        "### Boolean algebra: `or`\n",
        "\n",
        "\n",
        "```\n",
        "x or False == x\n",
        "False or x == x\n",
        "y or x == x or y\n",
        "x or True == True\n",
        "True or x == True\n",
        "x or x == x\n",
        "```"
      ]
    },
    {
      "cell_type": "markdown",
      "metadata": {
        "id": "tueGJLcLb-gk",
        "colab_type": "text"
      },
      "source": [
        "### Boolean algebra: `not`\n",
        "\n",
        "\n",
        "```\n",
        "not (not x) == x\n",
        "```"
      ]
    },
    {
      "cell_type": "markdown",
      "metadata": {
        "id": "fzM2CPUQIT08",
        "colab_type": "text"
      },
      "source": [
        "## 3.2.5 Conditional execution\n"
      ]
    },
    {
      "cell_type": "markdown",
      "metadata": {
        "id": "yrO1PwXbcI4D",
        "colab_type": "text"
      },
      "source": [
        "### Conditional statements: `if`\n",
        "\n",
        "- Conditional statements give us the ability to check conditions and\n",
        "    change the behavior of the program accordingly\n",
        "\n",
        "- The simplest form is the *if statement*\n",
        "\n",
        "- The Boolean expression after the if statement is called the\n",
        "    **condition**\n",
        "\n",
        "- The `if` statement referred to as **binary selection** since there are two possible paths of execution"
      ]
    },
    {
      "cell_type": "code",
      "metadata": {
        "id": "hptWbD3McW1a",
        "colab_type": "code",
        "colab": {}
      },
      "source": [
        "x = 15\n",
        "\n",
        "if x % 2 == 0:\n",
        "    print(x, \"is even\")\n",
        "else:\n",
        "    print(x, \"is odd\")"
      ],
      "execution_count": 0,
      "outputs": []
    },
    {
      "cell_type": "markdown",
      "metadata": {
        "id": "7KNuKvRpcgVD",
        "colab_type": "text"
      },
      "source": [
        "### If statement with an else clause\n",
        "\n",
        "\n",
        "```\n",
        "if <BOOLEAN EXPRESSION>:\n",
        "    <STATEMENTS_1>\n",
        "else:\n",
        "    <STATEMENTS_2>\n",
        "```"
      ]
    },
    {
      "cell_type": "markdown",
      "metadata": {
        "id": "8N1jAK-scnit",
        "colab_type": "text"
      },
      "source": [
        "### if-then-else flowchart\n",
        "\n",
        "![if-else](images/03/if-else.png)"
      ]
    },
    {
      "cell_type": "markdown",
      "metadata": {
        "id": "jM6sBDHmdCQK",
        "colab_type": "text"
      },
      "source": [
        "### Blocks and indentation\n",
        "\n",
        "\n",
        "- The indented statements that follow are called a **block**\n",
        "\n",
        "- The first unindented statement marks the end of the block\n",
        "\n",
        "- There is no limit on the number of statements that can appear under\n",
        "    the two clauses of an if statement\n",
        "\n",
        "- but there has to be at least one statement in each block\n"
      ]
    },
    {
      "cell_type": "markdown",
      "metadata": {
        "id": "ceKSOBWidVr-",
        "colab_type": "text"
      },
      "source": [
        "### Scaffolding\n",
        "\n",
        "- Occasionally, it is useful to have a section with no statements\n",
        "\n",
        "  * usually as a place keeper, or *scaffolding*, for code we haven't\n",
        "    written yet\n",
        "\n",
        "```\n",
        "if True:  # This is always True,\n",
        "   pass   # so this is always executed, but it does nothing\n",
        "else:\n",
        "   pass   # And this is never executed\n",
        "```\n",
        "\n",
        "$\\Rightarrow$\n",
        "<https://github.com/fpro-feup/public/blob/master/lectures/03/selections.py>"
      ]
    },
    {
      "cell_type": "code",
      "metadata": {
        "id": "5z2FE5pG6bj1",
        "colab_type": "code",
        "colab": {}
      },
      "source": [
        "a = 5+2 == 7\n",
        "print(a)"
      ],
      "execution_count": 0,
      "outputs": []
    },
    {
      "cell_type": "markdown",
      "metadata": {
        "id": "ya6Tz2j4IWTW",
        "colab_type": "text"
      },
      "source": [
        "## 3.2.6 Omitting the else clause\n",
        "\n",
        "- Another form of the if statement is one in which the else clause is omitted entirely\n",
        "\n",
        "- This creates what is sometimes called **unary selection**\n",
        "\n",
        "\n",
        "```\n",
        "if <BOOLEAN EXPRESSION>:\n",
        "    <STATEMENTS>\n",
        "```"
      ]
    },
    {
      "cell_type": "markdown",
      "metadata": {
        "id": "toVKf6xEdLi4",
        "colab_type": "text"
      },
      "source": [
        "### unary selection flowchart\n",
        "\n",
        "![if](images/03/if.png)"
      ]
    },
    {
      "cell_type": "code",
      "metadata": {
        "id": "asEDaG6fdQv3",
        "colab_type": "code",
        "colab": {}
      },
      "source": [
        "x = 10\n",
        "if x < 0:\n",
        "    print(\"The negative number \",  x, \" is not valid here.\")\n",
        "print(\"This is always printed\")"
      ],
      "execution_count": 0,
      "outputs": []
    },
    {
      "cell_type": "markdown",
      "metadata": {
        "id": "Np4RdifjIZKd",
        "colab_type": "text"
      },
      "source": [
        "## 3.2.7 Chained conditionals\n",
        "\n",
        "```\n",
        "if <BOOLEAN EXPRESSION_1>:\n",
        "    <STATEMENTS_A>\n",
        "elif <BOOLEAN EXPRESSION_2>:\n",
        "    <STATEMENTS_B>\n",
        "else:\n",
        "    <STATEMENTS_C>\n",
        "```"
      ]
    },
    {
      "cell_type": "markdown",
      "metadata": {
        "id": "_svwUYJ59TvA",
        "colab_type": "text"
      },
      "source": [
        "### Chained conditionals flowchart\n",
        "\n",
        "![if-elif](images/03/if-elif.png)"
      ]
    },
    {
      "cell_type": "markdown",
      "metadata": {
        "id": "MKH6ta2DIcAR",
        "colab_type": "text"
      },
      "source": [
        "## 3.2.8 Nested conditionals\n",
        "\n",
        "```\n",
        "if <BOOLEAN EXPRESSION 1>:\n",
        "    <STATEMENTS_A>\n",
        "else:\n",
        "    if <BOOLEAN EXPRESSION 2>:\n",
        "        <STATEMENTS_B>\n",
        "    else:\n",
        "        <STATEMENTS_C>\n",
        "```\n"
      ]
    },
    {
      "cell_type": "markdown",
      "metadata": {
        "id": "UJw7XPUh9kzM",
        "colab_type": "text"
      },
      "source": [
        "### Nested conditionals flowchart\n",
        "\n",
        "\n",
        "![if-nested](images/03/if-nested.png)"
      ]
    },
    {
      "cell_type": "code",
      "metadata": {
        "id": "6gSW77AFz2yk",
        "colab_type": "code",
        "colab": {}
      },
      "source": [
        "x = 10\n",
        "y = 10\n",
        "\n",
        "if x < y:\n",
        "    print(\"x is less than y\")\n",
        "else:\n",
        "    if x > y:\n",
        "        print(\"x is greater than y\")\n",
        "    else:\n",
        "        print(\"x and y must be equal\")"
      ],
      "execution_count": 0,
      "outputs": []
    },
    {
      "cell_type": "markdown",
      "metadata": {
        "id": "0V_qPI7xETt4",
        "colab_type": "text"
      },
      "source": [
        "\n",
        "- [See it running in [pythontutor.com](http://www.pythontutor.com/visualize.html#mode=edit)]"
      ]
    },
    {
      "cell_type": "markdown",
      "metadata": {
        "id": "L-KLOrH_Iepw",
        "colab_type": "text"
      },
      "source": [
        "## 3.2.9 Logical opposites\n",
        "\n",
        "| operator | logical opposite |\n",
        "| -------- | ---------------- |\n",
        "| ==       |  !=              |\n",
        "| !=       |  ==              |\n",
        "| \\<       |  \\>=             |\n",
        "| \\<=      |  \\>              |\n",
        "| \\>       |  \\<=             |\n",
        "| \\>=      |  \\<              | \n"
      ]
    },
    {
      "cell_type": "markdown",
      "metadata": {
        "id": "ZWWmg4tif49e",
        "colab_type": "text"
      },
      "source": [
        "### Get rid of not operators\n",
        "\n",
        "\n",
        "- Understanding the logical opposites allows us to sometimes get rid\n",
        "    of not operators.\n",
        "\n",
        "- `not` operators are often quite difficult to read in computer code,\n",
        "    and our intentions will usually be clearer if we can eliminate them\n"
      ]
    },
    {
      "cell_type": "code",
      "metadata": {
        "id": "nBWQ4zkfgGo2",
        "colab_type": "code",
        "colab": {}
      },
      "source": [
        "age = 17\n",
        "if not (age >= 18):\n",
        "   print(\"Hey, you're too young to get a driving licence!\")"
      ],
      "execution_count": 0,
      "outputs": []
    },
    {
      "cell_type": "code",
      "metadata": {
        "id": "OUjYCfLygLic",
        "colab_type": "code",
        "colab": {}
      },
      "source": [
        "if age < 18:\n",
        "   print(\"Hey, you're too young to get a driving licence!\")"
      ],
      "execution_count": 0,
      "outputs": []
    },
    {
      "cell_type": "markdown",
      "metadata": {
        "id": "W2gFpo2XggJ_",
        "colab_type": "text"
      },
      "source": [
        "### de Morgan's laws\n",
        "\n",
        "- Two powerful simplification laws that are often helpful when dealing\n",
        "    with complicated Boolean expressions\n",
        "\n",
        "```\n",
        "(not (x and y))  ==  ((not x) or (not y))\n",
        "(not (x or y))   ==  ((not x) and (not y))\n",
        "```\n",
        "\n",
        "$\\Rightarrow$\n",
        "<https://github.com/fpro-feup/public/blob/master/lectures/03/simplify.py>"
      ]
    },
    {
      "cell_type": "markdown",
      "metadata": {
        "id": "iJIhEYptglyi",
        "colab_type": "text"
      },
      "source": [
        "### Ternary operators\n",
        "\n",
        "\n",
        "\\<condition_if_true\\> **if** \\<condition\\> **else** \\<condition_if_false\\>\n",
        "\n",
        "\n",
        "- It allows to quickly test a condition instead of a multiline if\n",
        "    statement \\#\n",
        "\n",
        "- Often it can be immensely helpful and can make your code compact\n",
        "    but still maintainable"
      ]
    },
    {
      "cell_type": "code",
      "metadata": {
        "id": "Q4rDgTAOjYcG",
        "colab_type": "code",
        "colab": {}
      },
      "source": [
        "is_nice = True\n",
        "pretty = \"nice\" if is_nice else \"not nice\"\n",
        "pretty"
      ],
      "execution_count": 0,
      "outputs": []
    },
    {
      "cell_type": "markdown",
      "metadata": {
        "id": "XFxdiQt6050p",
        "colab_type": "text"
      },
      "source": [
        "## Boolean functions"
      ]
    },
    {
      "cell_type": "code",
      "metadata": {
        "id": "q7NkqzlX0-tc",
        "colab_type": "code",
        "colab": {}
      },
      "source": [
        "def is_divisible(x, y):\n",
        "    return x % y == 0\n",
        "\n",
        "if is_divisible(10, 5):\n",
        "    print(\"That works\")\n",
        "else:\n",
        "    print(\"Those values are no good\")"
      ],
      "execution_count": 0,
      "outputs": []
    },
    {
      "cell_type": "markdown",
      "metadata": {
        "id": "R8NlCrRxIjll",
        "colab_type": "text"
      },
      "source": [
        "# Ticket to leave"
      ]
    },
    {
      "cell_type": "markdown",
      "metadata": {
        "id": "MDIr4o7BI0W4",
        "colab_type": "text"
      },
      "source": [
        "## Moodle activity\n",
        "\n",
        "[LE03: Flow & conditionals](ttps://moodle.up.pt/mod/quiz/view.php?id=30757)"
      ]
    },
    {
      "cell_type": "markdown",
      "metadata": {
        "id": "5chD-xywI7XC",
        "colab_type": "text"
      },
      "source": [
        "\n",
        "$\\Rightarrow$ \n",
        "[Go back to the Table of Contents](00-contents.ipynb)\n",
        "\n",
        "$\\Rightarrow$ \n",
        "[Read the Preface](00-preface.ipynb)"
      ]
    }
  ]
}
