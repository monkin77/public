{
  "nbformat": 4,
  "nbformat_minor": 0,
  "metadata": {
    "colab": {
      "name": "03-flow-conditional.ipynb",
      "provenance": [],
      "private_outputs": true,
      "collapsed_sections": [],
      "toc_visible": true
    },
    "kernelspec": {
      "name": "python3",
      "display_name": "Python 3"
    }
  },
  "cells": [
    {
      "cell_type": "markdown",
      "metadata": {
        "id": "8z5cONg8rUrX",
        "colab_type": "text"
      },
      "source": [
        "# Program Flow & conditionals\n",
        "\n",
        "## Programming Fundamentals (NB03)\n",
        "\n",
        "### MIEIC/2019-20\n",
        "\n",
        "#### João Correia Lopes\n",
        "\n",
        "INESC TEC, FEUP"
      ]
    },
    {
      "cell_type": "markdown",
      "metadata": {
        "id": "MZzE7pYorju5",
        "colab_type": "text"
      },
      "source": [
        "## Goals\n",
        "\n",
        "By the end of this class, the student should be able to:\n",
        "\n",
        "- Describe how to import and do simple graphics with the module \"turtle\"\n",
        "\n",
        "- Describe an instance of Turtle, its own attributes and methods\n",
        "\n",
        "- Describe the flow of execution of the for loop\n",
        "\n",
        "- Describe the range function\n",
        "\n",
        "- Describe conditionals and selection\n",
        "\n",
        "- Describe Boolean values, logical operators, and expressions\n",
        "\n",
        "- Describe the use of if-then-else blocks for conditional execution\n"
      ]
    },
    {
      "cell_type": "markdown",
      "metadata": {
        "id": "eR5Lh1jNroE2",
        "colab_type": "text"
      },
      "source": [
        "## Bibliography\n",
        "\n",
        "- Peter Wentworth, Jeffrey Elkner, Allen B. Downey, and Chris Meyers, *How to Think Like a Computer Scientist — Learning with Python 3*, 2012 (Section 3.1 & Section 3.2)\n",
        "\n",
        "- Brad Miller and David Ranum, Learning with Python: Interactive Edition. Based on material by Jeffrey Elkner, Allen B. Downey, and Chris Meyers (Chapter 4 & Chapter 7)\n"
      ]
    },
    {
      "cell_type": "markdown",
      "metadata": {
        "id": "UlT41tXPHeAx",
        "colab_type": "text"
      },
      "source": [
        "# Program Flow with Turtles\n"
      ]
    },
    {
      "cell_type": "markdown",
      "metadata": {
        "id": "NjHfigZkHjT3",
        "colab_type": "text"
      },
      "source": [
        "## 3.1.1 Our first turtle program"
      ]
    },
    {
      "cell_type": "markdown",
      "metadata": {
        "id": "kHauPk-OKzdn",
        "colab_type": "text"
      },
      "source": [
        "### Python Modules\n",
        "\n",
        "- There are many modules in Python that provide very powerful features\n",
        "    that we can use in our own programs:\n",
        "  * to do maths\n",
        "  * to send email\n",
        "  * to fetch web pages (scraping)\n",
        "  * ... and many others\n",
        "\n"
      ]
    },
    {
      "cell_type": "markdown",
      "metadata": {
        "id": "QVMIGeFZLScL",
        "colab_type": "text"
      },
      "source": [
        "- With `turtle` one creates turtles and get them to draw shapes and\n",
        "    patterns\n",
        "\n",
        "- ... but the aim is to develop the theme: \"computational thinking\""
      ]
    },
    {
      "cell_type": "markdown",
      "metadata": {
        "id": "X67Z1ULILfld",
        "colab_type": "text"
      },
      "source": [
        "### Simple graphics\n",
        "\n",
        "- Every window contains a *canvas*, which is the area inside\n",
        "the window on which we can draw\n",
        "\n",
        "\n",
        "```\n",
        "import turtle             # Allows us to use turtles\n",
        "\n",
        "window = turtle.Screen()  # Creates a playground for turtles\n",
        "alex = turtle.Turtle()    # Create a turtle, assign to alex\n",
        "\n",
        "alex.forward(50)          # Tell alex to move forward by 50 units\n",
        "alex.left(90)             # Tell alex to turn by 90 degrees\n",
        "alex.forward(30)          # Complete the second side of a rectangle\n",
        "\n",
        "window.mainloop()         # Wait for user to close window\n",
        "```\n",
        "\n",
        "$\\Rightarrow$\n",
        "<https://github.com/fpro-feup/public/blob/master/lectures/03/turtles.py>\n"
      ]
    },
    {
      "cell_type": "markdown",
      "metadata": {
        "id": "YDe_ay_AHor-",
        "colab_type": "text"
      },
      "source": [
        "## 3.1.2 Instances — a herd of turtles"
      ]
    },
    {
      "cell_type": "markdown",
      "metadata": {
        "id": "Teycmy-8MLxX",
        "colab_type": "text"
      },
      "source": [
        "### Instances\n",
        "\n",
        "- From a *class* (Turtle) one may have many *objects* (**instances** of\n",
        "Turtle)\n",
        "\n",
        "- Each instance has its own **state** and **behaviour**\n"
      ]
    },
    {
      "cell_type": "code",
      "metadata": {
        "id": "_7LaS0BJMhei",
        "colab_type": "code",
        "colab": {}
      },
      "source": [
        "import turtle\n",
        "\n",
        "window = turtle.Screen()   # Set up the window and its attributes\n",
        "window.bgcolor(\"lightgreen\")\n",
        "window.title(\"Tess & Alex\")\n",
        "\n",
        "tess = turtle.Turtle()     # Create tess and set some attributes\n",
        "tess.color(\"hotpink\"); \n",
        "tess.pensize(5)\n",
        "\n",
        "alex = turtle.Turtle()     # Create alex"
      ],
      "execution_count": 0,
      "outputs": []
    },
    {
      "cell_type": "code",
      "metadata": {
        "id": "NwV2NF-RM_wO",
        "colab_type": "code",
        "colab": {}
      },
      "source": [
        "tess.forward(80)           # Make tess draw equilateral triangle\n",
        "tess.left(120); \n",
        "tess.forward(80); \n",
        "tess.left(120); \n",
        "tess.forward(80)\n",
        "tess.left(120)             # Complete the triangle\n",
        "\n",
        "tess.right(180)            # Turn tess around\n",
        "tess.forward(80)           # Move her away from the origin"
      ],
      "execution_count": 0,
      "outputs": []
    },
    {
      "cell_type": "code",
      "metadata": {
        "id": "N_DQ5vnlNDnJ",
        "colab_type": "code",
        "colab": {}
      },
      "source": [
        "alex.forward(50)           # Make alex draw a square\n",
        "alex.left(90)\n",
        "alex.forward(50)\n",
        "alex.left(90)\n",
        "alex.forward(50)\n",
        "alex.left(90)\n",
        "alex.forward(50)\n",
        "alex.left(90) \n",
        "\n",
        "window.mainloop()"
      ],
      "execution_count": 0,
      "outputs": []
    },
    {
      "cell_type": "markdown",
      "metadata": {
        "id": "JlGF0bUTNG7R",
        "colab_type": "text"
      },
      "source": [
        "$\\Rightarrow$ \n",
        "<https://github.com/fpro-feup/public/blob/master/lectures/03/herd.py>\n"
      ]
    },
    {
      "cell_type": "markdown",
      "metadata": {
        "id": "0ReMim-vHvl5",
        "colab_type": "text"
      },
      "source": [
        "## 3.1.3  The for loop"
      ]
    },
    {
      "cell_type": "markdown",
      "metadata": {
        "id": "uFqwAdCKf8aM",
        "colab_type": "text"
      },
      "source": [
        "### for loop\n",
        "\n",
        "- It is a basic building block of all programs to be able to *repeat*\n",
        "    some code, over and over again.\n",
        "\n",
        "- In computer science, we refer to this repetitive idea as *iteration*\n",
        "\n",
        "- it has a *loop variable*, an indented *loop body*, and a terminating\n",
        "    condition\n"
      ]
    },
    {
      "cell_type": "code",
      "metadata": {
        "id": "v5Nwv7KGgFSE",
        "colab_type": "code",
        "colab": {}
      },
      "source": [
        "for friend in [\"Joe\", \"Zoe\", \"Zuki\", \"Thandi\", \"Paris\"]:\n",
        "    invite = \"Hi \" + friend + \". Please come to my party!\"\n",
        "    print(invite)\n",
        "# more code to follow"
      ],
      "execution_count": 0,
      "outputs": []
    },
    {
      "cell_type": "markdown",
      "metadata": {
        "id": "uoP2C_dXKQ86",
        "colab_type": "text"
      },
      "source": [
        "## 3.1.4 Flow of Execution of the for loop"
      ]
    },
    {
      "cell_type": "markdown",
      "metadata": {
        "id": "xRBaDJLnhmrU",
        "colab_type": "text"
      },
      "source": [
        "### Flow of Execution\n",
        "\n",
        "- As a program executes, the interpreter always keeps track of which\n",
        "    statement is about to be executed.\n",
        "\n",
        "- We call this the **control flow**, of the **flow of execution** of\n",
        "    the program.\n",
        "\n",
        "- Control flow until now has been strictly top to bottom, one\n",
        "    statement at a time. The `for` loop changes this.\n",
        "\n",
        "- See it in `pythontutor.com`\n",
        "\n",
        "![for flow](images/03/for.png)\n"
      ]
    },
    {
      "cell_type": "markdown",
      "metadata": {
        "id": "xhpa-BDwHzPn",
        "colab_type": "text"
      },
      "source": [
        "## 3.1.5 The loop simplifies our turtle program\n"
      ]
    },
    {
      "cell_type": "markdown",
      "metadata": {
        "id": "gvkv8JsEjFhb",
        "colab_type": "text"
      },
      "source": [
        "### for loop example 1\n",
        "\n",
        "```\n",
        "import turtle            # set up alex\n",
        "wn = turtle.Screen()\n",
        "alex = turtle.Turtle()\n",
        "\n",
        "for i in [0, 1, 2, 3]:   # repeat four times\n",
        "    alex.forward(50)\n",
        "    alex.left(90)\n",
        "\n",
        "wn.exitonclick()\n",
        "```"
      ]
    },
    {
      "cell_type": "markdown",
      "metadata": {
        "id": "G1hjMPvJjTtD",
        "colab_type": "text"
      },
      "source": [
        "$\\Rightarrow$\n",
        "<https://github.com/fpro-feup/public/blob/master/lectures/03/for.py>"
      ]
    },
    {
      "cell_type": "markdown",
      "metadata": {
        "id": "vijfbhVbjf4p",
        "colab_type": "text"
      },
      "source": [
        "### for loop example 2\n",
        "\n",
        "\n",
        "```\n",
        "# 1\n",
        "for aColor in [\"yellow\", \"red\", \"purple\", \"blue\"]:  # repeat four times\n",
        "    alex.color(aColor)\n",
        "    alex.forward(50)\n",
        "    alex.left(90)\n",
        "\n",
        "# 2\n",
        "colors = [\"yellow\", \"red\", \"purple\", \"blue\"]\n",
        "for color in colors:                                # for each color\n",
        "    alex.color(color)\n",
        "    alex.forward(50)\n",
        "    alex.left(90)\n",
        "```\n",
        "\n",
        "$\\Rightarrow$\n",
        "<https://github.com/fpro-feup/public/blob/master/lectures/03/for.py>"
      ]
    },
    {
      "cell_type": "markdown",
      "metadata": {
        "id": "j7GTWCakj8lu",
        "colab_type": "text"
      },
      "source": [
        "### The range Function\n",
        "\n",
        "- Python gives us special built-in range objects\n",
        "\n",
        "- Computer scientists like to count from 0!\n",
        "\n",
        "- The most general form of the range is\n",
        "    `range(start, beyondLast, step)`\n",
        "\n",
        "```\n",
        "for i in range(4):\n",
        "    # Executes the body with i = 0, then 1, then 2, then 3\n",
        "    print(i)\n",
        "```"
      ]
    },
    {
      "cell_type": "code",
      "metadata": {
        "id": "TG_EySy9kNor",
        "colab_type": "code",
        "colab": {}
      },
      "source": [
        "for i in range(4):\n",
        "    # Executes the body with i = 0, then 1, then 2, then 3\n",
        "    print(i)"
      ],
      "execution_count": 0,
      "outputs": []
    },
    {
      "cell_type": "code",
      "metadata": {
        "id": "XYjlsqfRkQAA",
        "colab_type": "code",
        "colab": {}
      },
      "source": [
        "for _ in range(10):\n",
        "    # Sets x to each of ... [0, 1, 2, 3, 4, 5, 6, 7, 8, 9]\n",
        "    print(_)"
      ],
      "execution_count": 0,
      "outputs": []
    },
    {
      "cell_type": "code",
      "metadata": {
        "id": "1OkOyVNFkTeZ",
        "colab_type": "code",
        "colab": {}
      },
      "source": [
        "for i in range(0, 20, 2):\n",
        "    print(i)"
      ],
      "execution_count": 0,
      "outputs": []
    },
    {
      "cell_type": "markdown",
      "metadata": {
        "id": "vIvn-158kcm4",
        "colab_type": "text"
      },
      "source": [
        "## 3.1.6 A few more turtle methods and tricks"
      ]
    },
    {
      "cell_type": "markdown",
      "metadata": {
        "id": "PicDe9iskj28",
        "colab_type": "text"
      },
      "source": [
        "### Some more turtle methods\n",
        "\n",
        "- `tess.left(-30)` / `tess.right(330)` ?\n",
        "\n",
        "- `alex.backward(-100)` / `alex.forward(100)` ?\n",
        "\n",
        "- `alex.penup()` and `alex.pendown()`\n",
        "\n",
        "- `alex.shape(\"turtle\")`\n",
        "\n",
        "- `alex.speed(10)`\n",
        "\n",
        "$\\Rightarrow$\n",
        "<https://github.com/fpro-feup/public/blob/master/lectures/03/stamp.py>"
      ]
    },
    {
      "cell_type": "markdown",
      "metadata": {
        "id": "ctRIEHAQH4pt",
        "colab_type": "text"
      },
      "source": [
        "# Conditionals"
      ]
    },
    {
      "cell_type": "markdown",
      "metadata": {
        "id": "vbbGCyS0kT6j",
        "colab_type": "text"
      },
      "source": [
        ""
      ]
    },
    {
      "cell_type": "markdown",
      "metadata": {
        "id": "CwpLY4s2H8x9",
        "colab_type": "text"
      },
      "source": [
        "## Boolean values and expressions"
      ]
    },
    {
      "cell_type": "markdown",
      "metadata": {
        "id": "Ob-aZZ1xIKoy",
        "colab_type": "text"
      },
      "source": [
        "## Logical operators\n"
      ]
    },
    {
      "cell_type": "markdown",
      "metadata": {
        "id": "JAY2Lg23IN6w",
        "colab_type": "text"
      },
      "source": [
        "## Truth Tables\n"
      ]
    },
    {
      "cell_type": "markdown",
      "metadata": {
        "id": "2kgXqqxWIQ-z",
        "colab_type": "text"
      },
      "source": [
        "## Simplifying Boolean Expressions\n"
      ]
    },
    {
      "cell_type": "markdown",
      "metadata": {
        "id": "fzM2CPUQIT08",
        "colab_type": "text"
      },
      "source": [
        "## Conditional execution\n"
      ]
    },
    {
      "cell_type": "markdown",
      "metadata": {
        "id": "ya6Tz2j4IWTW",
        "colab_type": "text"
      },
      "source": [
        "## Omitting the else clause"
      ]
    },
    {
      "cell_type": "markdown",
      "metadata": {
        "id": "Np4RdifjIZKd",
        "colab_type": "text"
      },
      "source": [
        "## Chained conditionals\n"
      ]
    },
    {
      "cell_type": "markdown",
      "metadata": {
        "id": "MKH6ta2DIcAR",
        "colab_type": "text"
      },
      "source": [
        "## Nested conditionals\n"
      ]
    },
    {
      "cell_type": "markdown",
      "metadata": {
        "id": "L-KLOrH_Iepw",
        "colab_type": "text"
      },
      "source": [
        "## Logical opposites\n"
      ]
    },
    {
      "cell_type": "markdown",
      "metadata": {
        "id": "R8NlCrRxIjll",
        "colab_type": "text"
      },
      "source": [
        "# Ticket to leave"
      ]
    },
    {
      "cell_type": "markdown",
      "metadata": {
        "id": "MDIr4o7BI0W4",
        "colab_type": "text"
      },
      "source": [
        "## Moodle activity\n",
        "\n",
        "[LE03: Flow & conditionals](https://moodle.up.pt/mod/quiz/view.php?id=5416)"
      ]
    },
    {
      "cell_type": "markdown",
      "metadata": {
        "id": "5chD-xywI7XC",
        "colab_type": "text"
      },
      "source": [
        "\n",
        "$\\Rightarrow$ \n",
        "[Go back to the Table of Contents](00-contents.ipynb)"
      ]
    }
  ]
}