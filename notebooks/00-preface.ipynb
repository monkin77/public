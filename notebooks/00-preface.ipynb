{
 "cells": [
  {
   "cell_type": "markdown",
   "metadata": {},
   "source": [
    "# FDS Python: Fundamentals and Data Structures with Python\n",
    "- collection of Jupyter Notebooks that help you learn basic principles of programming, problem solving, testing and data structures (CS1 and CS2 level college courses)\n",
    "- based-on open-source text: http://openbookproject.net/thinkcs/python/english3e/index.html"
    "- inspired-on open-source notebooks: https://raw.githubusercontent.com/rambasnet/FDSPython-Notebooks/master/Ch00-TableOfContents.ipynb"
   ]
  },
  {
   "cell_type": "markdown",
   "metadata": {},
   "source": [
    "# Table of Contents\n",
    "### [Chapter 1: Introduction](Ch01-Introduction.ipynb)\n",
    "### [Chapter 2: Data, Variables Expressions, and Statements](02-Simple-Data.ipynb)\n"
   ]
  },
  {
   "cell_type": "code",
   "execution_count": null,
   "metadata": {},
   "outputs": [],
   "source": []
  }
 ],
 "metadata": {
  "kernelspec": {
   "display_name": "Python 3",
   "language": "python",
   "name": "python3"
  },
  "language_info": {
   "codemirror_mode": {
    "name": "ipython",
    "version": 3
   },
   "file_extension": ".py",
   "mimetype": "text/x-python",
   "name": "python",
   "nbconvert_exporter": "python",
   "pygments_lexer": "ipython3",
   "version": "3.7.2"
  }
 },
 "nbformat": 4,
 "nbformat_minor": 2
}
