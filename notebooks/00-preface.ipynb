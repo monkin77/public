{
 "cells": [
  {
   "cell_type": "markdown",
   "metadata": {},
   "source": [
    "# FDS Python: Fundamentals and Data Structures with Python\n",
    "- collection of Jupyter Notebooks that help you learn basic principles of programming, problem solving, testing and data structures (CS1 and CS2 level college courses)\n",
    "- based-on open-source text: http://openbookproject.net/thinkcs/python/english3e/index.html"
   ]
  },
  {
   "cell_type": "markdown",
   "metadata": {},
   "source": [
    "# Table of Contents\n",
    "### [Chapter 1: Introduction](Ch01-Introduction.ipynb)\n",
    "### [Chapter 2: Data, Variables Expressions, and Statements](Ch02-Data-Variables.ipynb)\n",
    "### [Chapter 3-1: Functions - Built-in functions](Ch03-1-Functions-Built-in.ipynb)\n",
    "### [Chapter 3-2: Functions - Library and functions](Ch03-2-Functions-Library.ipynb)\n",
    "### [Chapter 3-3: Functions - User-defined function](Ch03-3-Functions-UserDefined.ipynb)\n",
    "### [Chapter 4: Conditional Statements](Ch04-Conditionals.ipynb)\n",
    "### [Chapter 5: Iterations and Loops](Ch05-Iterations.ipynb)\n",
    "### [Chapter 6: Strings Data Type](Ch06-Strings.ipynb)\n",
    "### [Chapter 7: Tuples](Ch07-Tuples.ipynb)\n",
    "### [Chapter 8-1: Lists](Ch08-1-Lists.ipynb)\n",
    "### [Chapter 8-2: List Comprehension and Lambda Functions](Ch08-2-Lists-Comprehension-Lambda.ipynb)\n",
    "### [Chapter 9-1: Dictionaries](Ch09-1-Dictionaries.ipynb)\n",
    "### [Chapter 9-2: Dictionaries Advanced Concepts](Ch09-2-Dictionaries-Advanced.ipynb)               \n",
    "### [Chapter 10: Files](Ch10-Files.ipynb)\n",
    "### [Chapter 11: Turtles Library and Events](Ch11-Turtles-Events.ipynb)\n",
    "### [Chapter 12: Modules Built-in & User Defined](Ch12-Modules.ipynb)\n",
    "### [Chapter 13: Recursion](Ch13-Recursion.ipynb)\n",
    "### [Chapter 14: Object Oriented Programming, Classes & Basics](Ch14-OOP.ipynb)\n",
    "### [Chapter 15: OOP - Overloading & Polymorphism](Ch15-Overloading-Polymorphism.ipynb)\n",
    "### [Chapter 16: Exceptions](Ch16-Exceptions.ipynb)\n",
    "### [Chapter 17: PyGame Library](Ch17-PyGame.ipynb)\n",
    "### [Chapter 18: OOP - Inheritance](Ch18-Inheritence.ipynb)\n",
    "### [Chapter 19: Automated Testing & Unit Test](Ch19-UnitTest.ipynb)\n",
    "### [Chapter 20: Memoization & Optimization](Ch20-Memoization-Optimization.ipynb)\n",
    "### [Chapter 21: Sqlite Database & Sqlite3 Library](Ch21-SqliteDB.ipynb)\n",
    "### [Chapter 22: Linked Lists](Ch22-LinkedLists.ipynb)\n",
    "### [Chapter 23: Stacks](Ch23-Stacks.ipynb)\n",
    "### [Chapter 24: Queues](Ch24-Queues.ipynb)\n",
    "### [Chapter 25: Trees & Binary Trees](Ch25-Trees.ipynb)"
   ]
  },
  {
   "cell_type": "code",
   "execution_count": null,
   "metadata": {},
   "outputs": [],
   "source": []
  }
 ],
 "metadata": {
  "kernelspec": {
   "display_name": "Python 3",
   "language": "python",
   "name": "python3"
  },
  "language_info": {
   "codemirror_mode": {
    "name": "ipython",
    "version": 3
   },
   "file_extension": ".py",
   "mimetype": "text/x-python",
   "name": "python",
   "nbconvert_exporter": "python",
   "pygments_lexer": "ipython3",
   "version": "3.7.2"
  }
 },
 "nbformat": 4,
 "nbformat_minor": 2
}
