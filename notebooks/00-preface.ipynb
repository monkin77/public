{
  "nbformat": 4,
  "nbformat_minor": 0,
  "metadata": {
    "celltoolbar": "Raw Cell Format",
    "kernelspec": {
      "display_name": "Python 3",
      "language": "python",
      "name": "python3"
    },
    "language_info": {
      "codemirror_mode": {
        "name": "ipython",
        "version": 3
      },
      "file_extension": ".py",
      "mimetype": "text/x-python",
      "name": "python",
      "nbconvert_exporter": "python",
      "pygments_lexer": "ipython3",
      "version": "3.7.3"
    },
    "colab": {
      "name": "00-preface.ipynb",
      "provenance": [],
      "collapsed_sections": [],
      "toc_visible": true
    }
  },
  "cells": [
    {
      "cell_type": "markdown",
      "metadata": {
        "id": "u8Ojq9vSaDEj",
        "colab_type": "text"
      },
      "source": [
        "# FPRO: Programming Fundamentals (with Python)\n",
        "\n",
        "## Preface\n",
        "\n",
        "This collection of Jupyter Notebooks serves as an overview of the materials to study in the Unit.\n",
        "It is used as the basis for lectures exposures and discussions, so you must study them carefully before comming to the class.\n",
        "\n",
        "About 2/3 of the materials are based on the open-source book: http://openbookproject.net/thinkcs/python/english3e/index.html.\n",
        "\n",
        "A Jupyter notebook is a document that supports narrative text, Python executable code, equations and visualizations.\n",
        "You may read the notebook, change and execute the Python code, have your own copy to edit and take notes in the class, and more.\n",
        "\n",
        "**If you find mistakes or have suggestions for improvements in the notebooks, please let me know.**\n",
        "\n",
        "### Tips\n",
        "\n",
        "- There's no slides: we follow a script, use illustrations and code in the class; note that this text is\n",
        "NOT a replacement for **studying the bibliography** listed in the class plan\n",
        "\n",
        "- \"Students are responsible for anything that transpires during a class—therefore **if you're not in a class**, you should get notes from someone else (not the instructor)\" — David Mayer\n",
        "\n",
        "- The best thing to do is to **read carefully** and **understand** the documentation published in the [Content wiki](https://web.fe.up.pt/~jlopes/doku.php/teach/fpro/index) (or else **ask in the recitation class**)\n",
        "\n",
        "- We will be using **Moodle** as the primary means of communication\n",
        "\n",
        "### Clinic\n",
        "\n",
        "- Whenever deemed necessary in the classroom, especially during the first month of classes, students are encouraged to go to the \"Clinic\", supervised by student assistants, to get help.\n",
        "\n",
        "- The activity of the clinic is detailed in the [Content wiki](https://web.fe.up.pt/~jlopes/doku.php/teach/fpro/clinic).\n",
        "\n",
        "### Code, Test & Play\n",
        "\n",
        "- Have a look at the code in GitHub: https://github.com/fpro-feup/public\n",
        "\n",
        "- Test before you submit at Test: http://fpro.fe.up.pt/test\n",
        "\n",
        "- Pay a visit to the playground at Play: http://fpro.fe.up.pt/play\n",
        "\n",
        "### The FPRO team\n",
        "\n",
        "- Fernando Cassola, PhD candidate, Researcher at INESC TEC\n",
        "\n",
        "- João Correia Lopes, Coordinator, PhD, Auxiliary Professor at FEUP/DEI, Senior Researcher at INESC TEC\n",
        "\n",
        "- Ricardo Cruz, Assistent, PhD candidate, Researcher at INESC TEC\n",
        "\n",
        "- Rui Camacho, Assistent, PhD, Associate Professor at FEUP/DEI, Senior Researcher at INESC TEC\n",
        "\n",
        "### Clinic doctors\n",
        "\n",
        "- António Bezerra, up201806854@fe.up.pt, student at MIEIC\n",
        "\n",
        "- Telmo Baptista, up201806554@fe.up.pt, student at MIEIC\n",
        "\n",
        "### Past members\n",
        "\n",
        "- João Damas, student at MEIC, Trainee at FEUP/DEI\n",
        "\n",
        "- Pedro Ferreira, PhD candidate, Researcher at INESC TEC\n",
        "\n",
        "\n",
        "---\n",
        "-- JCL,  Tue Sep 17 17:21:12 2019"
      ]
    }
  ]
}