{
 "cells": [
  {
   "cell_type": "markdown",
   "metadata": {
    "slideshow": {
     "slide_type": "-"
    }
   },
   "source": [
    "# FPRO: Programming Fundamentals with Python\n",
    "\n",
    "This collection of Jupyter Notebooks serves as an overview of the materials to study in the Unit.\n",
    "\n",
    "Is is used as basis for lectures exposures and discussion, so you must study them carefully before comning to the class.\n",
    "\n",
    "You may ...\n",
    "\n",
    "About 2/3 of them are based on the open-source book: http://openbookproject.net/thinkcs/python/english3e/index.html\n",
    "\n",
    "The FPRO team:\n",
    "- João Correia Lopes, Coordinator, Phd, Auxiliary Professor at FEUP/DEI\n",
    "- Ricardo Cruz, Assistent, PhD candidate, Researcher at INESC TEC\n",
    "- Fernando Cassola, PhD candidate, Researcher at INESC TEC\n",
    "- Rui Camacho, Assistent, PhD, Associate Professor at FEUP/DEI\n",
    "\n",
    "Paste members:\n",
    "- Pedro Ferreira, PhD candidate, Researcher at INESC TEC\n",
    "- João Damas, student at MEIC, Trainee at FEUP/DEI\n",
    "\n",
    "#### -- JCL,  Tue Sep 17 17:21:12 2019"
   ]
  }
 ],
 "metadata": {
  "celltoolbar": "Raw Cell Format",
  "kernelspec": {
   "display_name": "Python 3",
   "language": "python",
   "name": "python3"
  },
  "language_info": {
   "codemirror_mode": {
    "name": "ipython",
    "version": 3
   },
   "file_extension": ".py",
   "mimetype": "text/x-python",
   "name": "python",
   "nbconvert_exporter": "python",
   "pygments_lexer": "ipython3",
   "version": "3.7.3"
  }
 },
 "nbformat": 4,
 "nbformat_minor": 2
}
