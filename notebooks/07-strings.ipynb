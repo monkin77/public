{
  "nbformat": 4,
  "nbformat_minor": 0,
  "metadata": {
    "colab": {
      "name": "07-strings.ipynb",
      "provenance": [],
      "private_outputs": true,
      "collapsed_sections": [
        "8z5cONg8rUrX",
        "Zz-UtV8ORH_t"
      ],
      "toc_visible": true
    },
    "kernelspec": {
      "name": "python3",
      "display_name": "Python 3"
    }
  },
  "cells": [
    {
      "cell_type": "markdown",
      "metadata": {
        "id": "8z5cONg8rUrX",
        "colab_type": "text"
      },
      "source": [
        "# Strings\n",
        "\n",
        "## Programming Fundamentals (NB07)\n",
        "\n",
        "### MIEIC/2019-20\n",
        "\n",
        "#### João Correia Lopes\n",
        "\n",
        "FEUP/DEI and INESC TEC"
      ]
    },
    {
      "cell_type": "markdown",
      "metadata": {
        "id": "MZzE7pYorju5",
        "colab_type": "text"
      },
      "source": [
        "## Goals\n",
        "\n",
        "By the end of this class, the student should be able to:\n",
        "\n",
        "\n",
        "- Describe how to work with strings as single things\n",
        "\n",
        "- Describe how to work with the parts of a string\n",
        "\n",
        "- Enumerate the main methods available to work with strings\n",
        "\n",
        "- Describe how to format strings\n"
      ]
    },
    {
      "cell_type": "markdown",
      "metadata": {
        "id": "eR5Lh1jNroE2",
        "colab_type": "text"
      },
      "source": [
        "## Bibliography\n",
        "\n",
        "- Peter Wentworth, Jeffrey Elkner, Allen B. Downey, and Chris Meyers, *How to Think Like a Computer Scientist — Learning with Python 3* (Section 5.1)\n",
        "\n",
        "- Brad Miller and David Ranum, Learning with Python: Interactive Edition. Based on material by Jeffrey Elkner, Allen B. Downey, and Chris Meyers (Chapter 9)\n"
      ]
    },
    {
      "cell_type": "markdown",
      "metadata": {
        "id": "5UO7jDY8YN8C",
        "colab_type": "text"
      },
      "source": [
        "# Data types: Strings"
      ]
    },
    {
      "cell_type": "markdown",
      "metadata": {
        "id": "sKfnoTuAYVQH",
        "colab_type": "text"
      },
      "source": [
        "## 5.1.1 A compound data type"
      ]
    },
    {
      "cell_type": "markdown",
      "metadata": {
        "id": "2DlnycVZc7a2",
        "colab_type": "text"
      },
      "source": [
        "### A compound data type\n",
        "\n",
        "- So far we have seen built-in types like `int`, `float`, `bool`,\n",
        "    `str` and we've seen lists and pairs\n",
        "\n",
        "- Strings, lists, and pairs are qualitatively different from the\n",
        "    others because they are made up of smaller pieces\n",
        "\n",
        "- In the case of strings, they're made up of smaller strings each\n",
        "    containing one **character** in a particular order from left to\n",
        "    right\n",
        "\n",
        "- Types that comprise smaller pieces are called **collection or\n",
        "    compound data types**\n",
        "\n",
        "- Depending on what we are doing, we may want to treat a compound data\n",
        "    type as a single thing\n",
        "\n",
        "- A string that contains no characters, often referred to as the **empty string**, is still considered to be a string\n"
      ]
    },
    {
      "cell_type": "markdown",
      "metadata": {
        "id": "wTgmwtPbYaW-",
        "colab_type": "text"
      },
      "source": [
        "## 5.1.2 Working with strings as single things"
      ]
    },
    {
      "cell_type": "markdown",
      "metadata": {
        "id": "LU718rM1esv5",
        "colab_type": "text"
      },
      "source": [
        "### Working with strings as single things\n",
        "\n",
        "- Just like a turtle, a string is also an object\n",
        "\n",
        "- So each string instance has its own attributes and methods (around\n",
        "    70!)\n",
        "\n",
        "- For example:\n",
        "\n",
        "```\n",
        "  >>> our_string = \"Hello, World!\"\n",
        "  >>> all_caps = our_string.upper()\n",
        "  >>> all_caps\n",
        "  'HELLO, WORLD!'\n",
        "```\n",
        "\n",
        "$\\Rightarrow$ \n",
        "<https://github.com/fpro-feup/public/tree/master/lectures/07/smethods.py>"
      ]
    },
    {
      "cell_type": "code",
      "metadata": {
        "id": "Q5FuQ6ONgaUU",
        "colab_type": "code",
        "colab": {}
      },
      "source": [
        "our_string = \"Hello, World!\"\n",
        "our_string.upper()"
      ],
      "execution_count": 0,
      "outputs": []
    },
    {
      "cell_type": "markdown",
      "metadata": {
        "id": "Ba0Tp-xXnKQV",
        "colab_type": "text"
      },
      "source": [
        "### Operations on Strings\n",
        "\n",
        "In general, you cannot perform mathematical operations on strings, even if the strings look like numbers. \n",
        "\n",
        "The following are illegal:"
      ]
    },
    {
      "cell_type": "code",
      "metadata": {
        "id": "kK8qu9bjnluq",
        "colab_type": "code",
        "colab": {}
      },
      "source": [
        "fruit = \"banana\"\n",
        "fruit - 1\n",
        "fruit * \"Hello\""
      ],
      "execution_count": 0,
      "outputs": []
    },
    {
      "cell_type": "markdown",
      "metadata": {
        "id": "qSwQyO5pnpVw",
        "colab_type": "text"
      },
      "source": [
        "Interestingly, the + operator does work with strings, but for strings, the + operator represents **concatenation**, not addition. \n",
        "\n",
        "Concatenation means joining the two operands by linking them end-to-end. \n",
        "\n",
        "For example:"
      ]
    },
    {
      "cell_type": "code",
      "metadata": {
        "id": "EPaGgRDAnvUC",
        "colab_type": "code",
        "colab": {}
      },
      "source": [
        "fruit = \"banana\"\n",
        "bakedGood = \" nut bread\"\n",
        "print(fruit + bakedGood)"
      ],
      "execution_count": 0,
      "outputs": []
    },
    {
      "cell_type": "markdown",
      "metadata": {
        "id": "tcHTSHbsYdk4",
        "colab_type": "text"
      },
      "source": [
        "## 5.1.3 Working with the parts of a string"
      ]
    },
    {
      "cell_type": "markdown",
      "metadata": {
        "id": "npZqA-9vgkuN",
        "colab_type": "text"
      },
      "source": [
        "### Working with the parts of a string\n",
        "\n",
        "- The **indexing operator** selects a single character substring from\n",
        "    a string:\n",
        "\n",
        "```\n",
        "  >>> fruit = \"banana\"   # a string\n",
        "  >>> letter = fruit[0]  # this is also a string\n",
        "  >>> print(letter)\n",
        "```\n",
        "\n",
        "$\\Rightarrow$ \n",
        "<https://github.com/fpro-feup/public/tree/master/lectures/07/sindex.py>\n"
      ]
    },
    {
      "cell_type": "markdown",
      "metadata": {
        "id": "aTA6JoWjoT4P",
        "colab_type": "text"
      },
      "source": [
        "The characters are accessed by their *position* or *index value* (the expression in brackets). \n",
        "\n",
        "For example, in the string shown below, the 14 characters are indexed left to right from postion 0 to position 13.\n",
        "\n",
        "![string](images/07/s-index.png)"
      ]
    },
    {
      "cell_type": "code",
      "metadata": {
        "id": "1zVfL745gpPk",
        "colab_type": "code",
        "colab": {}
      },
      "source": [
        "mieic = \"Master in Informatics and Computing Engineering\"\n",
        "m = mieic[0]\n",
        "print(m)"
      ],
      "execution_count": 0,
      "outputs": []
    },
    {
      "cell_type": "code",
      "metadata": {
        "id": "J_fdJ-U_pf6B",
        "colab_type": "code",
        "colab": {}
      },
      "source": [
        "lastchar = mieic[-1]\n",
        "print(lastchar)"
      ],
      "execution_count": 0,
      "outputs": []
    },
    {
      "cell_type": "markdown",
      "metadata": {
        "id": "y5pimA6qYgir",
        "colab_type": "text"
      },
      "source": [
        "## 5.1.4 Length"
      ]
    },
    {
      "cell_type": "markdown",
      "metadata": {
        "id": "O_Fa3Pyyg0zj",
        "colab_type": "text"
      },
      "source": [
        "### Length\n",
        "\n",
        "- The `len` function, when applied to a string, returns the number of\n",
        "    characters in a string:\n",
        "\n",
        "```\n",
        "  size = len(word)\n",
        "  last = word[size-1]\n",
        "```\n",
        "\n",
        "Try it:"
      ]
    },
    {
      "cell_type": "code",
      "metadata": {
        "id": "bjZch9lig51J",
        "colab_type": "code",
        "colab": {}
      },
      "source": [
        "word = \"Monty\"\n",
        "size = len(word)\n",
        "word[size-1]"
      ],
      "execution_count": 0,
      "outputs": []
    },
    {
      "cell_type": "code",
      "metadata": {
        "id": "pd9J3Sp7q7bl",
        "colab_type": "code",
        "colab": {}
      },
      "source": [
        "print(size)\n",
        "print(word[size-1])"
      ],
      "execution_count": 0,
      "outputs": []
    },
    {
      "cell_type": "code",
      "metadata": {
        "id": "7tnO4OR0rNeb",
        "colab_type": "code",
        "colab": {}
      },
      "source": [
        "last = word[size]       # ERROR!"
      ],
      "execution_count": 0,
      "outputs": []
    },
    {
      "cell_type": "markdown",
      "metadata": {
        "id": "ESCT-_8uYk_Y",
        "colab_type": "text"
      },
      "source": [
        "## 5.1.5 Traversal and the `for` loop"
      ]
    },
    {
      "cell_type": "markdown",
      "metadata": {
        "id": "dvZ21ss6jWXc",
        "colab_type": "text"
      },
      "source": [
        "### Traversal and the `for` loop\n",
        "\n",
        "- A lot of computations involve processing a *string one character at\n",
        "    a time*\n",
        "\n",
        "- Often they start at the beginning, select each character in turn, do\n",
        "    something to it, and continue until the end\n",
        "\n",
        "- This pattern of processing is called a **traversal**\n",
        "\n",
        "```\n",
        "  word = \"Banana\"\n",
        "  for letter in word:\n",
        "      print(letter)\n",
        "```\n",
        "\n",
        "$\\Rightarrow$ \n",
        "<https://github.com/fpro-feup/public/tree/master/lectures/07/straversal.py>\n"
      ]
    },
    {
      "cell_type": "markdown",
      "metadata": {
        "id": "uhsi-7XqtWxa",
        "colab_type": "text"
      },
      "source": [
        "Since a string is simply a sequence of characters, the for loop iterates over each character automatically."
      ]
    },
    {
      "cell_type": "code",
      "metadata": {
        "id": "8yZzvRjEjc28",
        "colab_type": "code",
        "colab": {}
      },
      "source": [
        "words = \"Monty Python\"\n",
        "for l in words:\n",
        "    print(l)"
      ],
      "execution_count": 0,
      "outputs": []
    },
    {
      "cell_type": "markdown",
      "metadata": {
        "id": "1l32ckj4tcRf",
        "colab_type": "text"
      },
      "source": [
        "Recall that the loop variable takes on each value in the sequence of names. The body is performed once for each name."
      ]
    },
    {
      "cell_type": "code",
      "metadata": {
        "id": "u6uh0NxitFvH",
        "colab_type": "code",
        "colab": {}
      },
      "source": [
        "for aname in [\"Eric\", \"Graham\", \"John\", \"Michael\", \"Terry]:\n",
        "    invitation = \"Hi \" + aname + \".  Please come to my party on Saturday!\"\n",
        "    print(invitation)"
      ],
      "execution_count": 0,
      "outputs": []
    },
    {
      "cell_type": "markdown",
      "metadata": {
        "id": "6rgCgl8btufD",
        "colab_type": "text"
      },
      "source": [
        "### Traversal and looping: By Index\n",
        "\n",
        "- It is also possible to use the range function to systematically generate the indices of the characters. \n",
        "\n",
        "- The for loop can then be used to iterate over these positions. \n",
        "\n",
        "- These positions can be used together with the indexing operator to access the individual characters in the string.\n",
        "\n",
        "Try this (and then see it using [Python tutor](http://www.pythontutor.com/visualize.html#mode=edit))"
      ]
    },
    {
      "cell_type": "code",
      "metadata": {
        "id": "l2gCoHdst8RT",
        "colab_type": "code",
        "colab": {}
      },
      "source": [
        "fruit = \"apple\"\n",
        "for idx in range(5):\n",
        "    currentChar = fruit[idx]\n",
        "    print(currentChar)"
      ],
      "execution_count": 0,
      "outputs": []
    },
    {
      "cell_type": "markdown",
      "metadata": {
        "id": "p5qkIQRzupZp",
        "colab_type": "text"
      },
      "source": [
        "Likewise:\n"
      ]
    },
    {
      "cell_type": "code",
      "metadata": {
        "id": "JM2w2I5Huu5d",
        "colab_type": "code",
        "colab": {}
      },
      "source": [
        "fruit = \"apple\"\n",
        "\n",
        "position = 0\n",
        "while position < len(fruit):\n",
        "    print(fruit[position])\n",
        "    position = position + 1"
      ],
      "execution_count": 0,
      "outputs": []
    },
    {
      "cell_type": "markdown",
      "metadata": {
        "id": "_MjtH8NJYo64",
        "colab_type": "text"
      },
      "source": [
        "## 5.1.6 Slices"
      ]
    },
    {
      "cell_type": "markdown",
      "metadata": {
        "id": "XDtNZt7Djpc8",
        "colab_type": "text"
      },
      "source": [
        "### Slices\n",
        "\n",
        "- A substring of a string is obtained by taking *a slice*\n",
        "\n",
        "- Similarly, we can slice a list to refer to some sublist of the items\n",
        "    in the list\n",
        "\n",
        "$\\Rightarrow$ \n",
        "<https://github.com/fpro-feup/public/tree/master/lectures/07/slices.py>\n"
      ]
    },
    {
      "cell_type": "code",
      "metadata": {
        "id": "K8-BAwRGrrtm",
        "colab_type": "code",
        "colab": {}
      },
      "source": [
        "singers = \"Eric, Graham, John, Michael, Terry\"\n",
        "print(singers[0:4])\n",
        "print(singers[14:18])\n",
        "print(singers[:-22])"
      ],
      "execution_count": 0,
      "outputs": []
    },
    {
      "cell_type": "markdown",
      "metadata": {
        "id": "hYDACUMlYr0N",
        "colab_type": "text"
      },
      "source": [
        "## 5.1.7 String comparison"
      ]
    },
    {
      "cell_type": "markdown",
      "metadata": {
        "id": "nztU9CyxjyIx",
        "colab_type": "text"
      },
      "source": [
        "### String comparison\n",
        "\n",
        "- The comparison operators work on strings\n",
        "\n",
        "- To see if two strings are equal:\n",
        "\n",
        "```\n",
        "  if word == \"banana\":\n",
        "      print(\"Yes, we have bananas!\")\n",
        "```\n",
        "\n",
        "$\\Rightarrow$ \n",
        "<https://github.com/fpro-feup/public/tree/master/lectures/07/scomparison.py>"
      ]
    },
    {
      "cell_type": "code",
      "metadata": {
        "id": "w2eePpH0s2fp",
        "colab_type": "code",
        "colab": {}
      },
      "source": [
        "word = \"zebra\"\n",
        "\n",
        "if word < \"banana\":\n",
        "    print(\"Your word, \" + word + \", comes before banana.\")\n",
        "elif word > \"banana\":\n",
        "    print(\"Your word, \" + word + \", comes after banana.\")\n",
        "else:\n",
        "    print(\"Yes, we have no bananas!\")"
      ],
      "execution_count": 0,
      "outputs": []
    },
    {
      "cell_type": "markdown",
      "metadata": {
        "id": "xIxSSLala4VJ",
        "colab_type": "text"
      },
      "source": [
        "Strings are compared lexicographically by comparing corresponding elements."
      ]
    },
    {
      "cell_type": "code",
      "metadata": {
        "id": "jQECISTvZ7Sj",
        "colab_type": "code",
        "colab": {}
      },
      "source": [
        "print(\"zebra\" < \"banana\")"
      ],
      "execution_count": 0,
      "outputs": []
    },
    {
      "cell_type": "code",
      "metadata": {
        "id": "1xq6cyc3ac2k",
        "colab_type": "code",
        "colab": {}
      },
      "source": [
        "print(\"Zebra\" < \"banana\")"
      ],
      "execution_count": 0,
      "outputs": []
    },
    {
      "cell_type": "code",
      "metadata": {
        "id": "Jpkhcy9FaPyW",
        "colab_type": "code",
        "colab": {}
      },
      "source": [
        "print(\"zebra\" < \"Banana\")"
      ],
      "execution_count": 0,
      "outputs": []
    },
    {
      "cell_type": "markdown",
      "metadata": {
        "id": "mRl4pGXaYvbx",
        "colab_type": "text"
      },
      "source": [
        "## 5.1.8 Strings are immutable"
      ]
    },
    {
      "cell_type": "markdown",
      "metadata": {
        "id": "4U1ehZAFj8Kn",
        "colab_type": "text"
      },
      "source": [
        "### Strings are immutable\n",
        "\n",
        "- Strings are **immutable**, which means you can't change an existing\n",
        "    string\n",
        "\n",
        "- The best you can do is create a new string that is a variation on\n",
        "    the original\n",
        "\n",
        "```\n",
        "  greeting = \"Hello, world!\"\n",
        "  greeting[0] = 'h'            # ERROR!\n",
        "\n",
        "  greeting = \"h\" + greeting[1:]\n",
        "  print(greeting)\n",
        "```"
      ]
    },
    {
      "cell_type": "code",
      "metadata": {
        "id": "9b1dimY3kCXH",
        "colab_type": "code",
        "colab": {}
      },
      "source": [
        "greeting = \"Hello, world!\"\n",
        "greeting[0] = 'h'"
      ],
      "execution_count": 0,
      "outputs": []
    },
    {
      "cell_type": "code",
      "metadata": {
        "id": "M0trLy9LkNxG",
        "colab_type": "code",
        "colab": {}
      },
      "source": [
        "greeting = \"Hello, world!\"\n",
        "greeting = \"h\" + greeting[1:]\n",
        "  print(greeting)"
      ],
      "execution_count": 0,
      "outputs": []
    },
    {
      "cell_type": "markdown",
      "metadata": {
        "id": "RkdCteHjYyK8",
        "colab_type": "text"
      },
      "source": [
        "## 5.1.9 The `in` and `not in` operators"
      ]
    },
    {
      "cell_type": "markdown",
      "metadata": {
        "id": "8OhBxuARkWXK",
        "colab_type": "text"
      },
      "source": [
        "### The `in` and `not in` operators\n",
        "\n",
        "- The `in` operator tests for membership\n",
        "\n",
        "- The `not in` operator returns the logical opposite results of `in`\n",
        "\n",
        "```\n",
        "  >>> \"p\" in \"apple\"\n",
        "  True\n",
        "  >>> \"i\" in \"apple\"\n",
        "  False\n",
        "  >>> \"apple\" in \"apple\"\n",
        "  True\n",
        "  >>> \"\" in \"a\"\n",
        "  True\n",
        "  >>> \"x\" not in \"apple\"\n",
        "  True\n",
        "```\n",
        "\n",
        "$\\Rightarrow$ \n",
        "<https://github.com/fpro-feup/public/tree/master/lectures/07/removeVowels.py>"
      ]
    },
    {
      "cell_type": "code",
      "metadata": {
        "id": "hJqc0h1Zu65E",
        "colab_type": "code",
        "colab": {}
      },
      "source": [
        "print('p' in 'apple')\n",
        "print('i' in 'apple')\n",
        "print('ap' in 'apple')\n",
        "print('pa' in 'apple')\n",
        "print('apple' in 'apple')  # a string is a substring of itself"
      ],
      "execution_count": 0,
      "outputs": []
    },
    {
      "cell_type": "markdown",
      "metadata": {
        "id": "hphoRBqMY1lg",
        "colab_type": "text"
      },
      "source": [
        "## 5.1.10 A `find` function"
      ]
    },
    {
      "cell_type": "markdown",
      "metadata": {
        "id": "Z8vSHA8WwGp4",
        "colab_type": "text"
      },
      "source": [
        "### `enumerate` function\n",
        "\n",
        "- Enumerate is a built-in function of Python\n",
        "\n",
        "\n",
        "```\n",
        " enumerate(iterable, start=0)\n",
        "```\n",
        "\n",
        "- Return an enumerate object\n",
        "\n",
        "- iterable must be a sequence, an iterator, or some other object which supports iteration\n",
        "\n"
      ]
    },
    {
      "cell_type": "code",
      "metadata": {
        "id": "qMUKcSQXwMJv",
        "colab_type": "code",
        "colab": {}
      },
      "source": [
        "for counter, value in enumerate(some_list):\n",
        "    print(counter, value)"
      ],
      "execution_count": 0,
      "outputs": []
    },
    {
      "cell_type": "code",
      "metadata": {
        "id": "lbWerFEPw3Qi",
        "colab_type": "code",
        "colab": {}
      },
      "source": [
        "my_list = ['apple', 'banana', 'grapes', 'pear']\n",
        "for c, value in enumerate(my_list, 1):\n",
        "    print(c, value)"
      ],
      "execution_count": 0,
      "outputs": []
    },
    {
      "cell_type": "code",
      "metadata": {
        "id": "OntfCWoueWF9",
        "colab_type": "code",
        "colab": {}
      },
      "source": [
        "words = \"Eric Idle, Michael Palin\"\n",
        "for i, ch in enumerate(words):\n",
        "    print(i, \":\", ch)"
      ],
      "execution_count": 0,
      "outputs": []
    },
    {
      "cell_type": "markdown",
      "metadata": {
        "id": "VwGXgCjJkbtc",
        "colab_type": "text"
      },
      "source": [
        "### A `find` function\n",
        "\n",
        "- In a sense, find is the opposite of the indexing operator\n",
        "\n",
        "- What does the following function do?\n",
        "\n",
        "```\n",
        "  def my_find(haystack, needle):\n",
        "  \"\"\"\n",
        "  No clues here!\n",
        "  \"\"\"\n",
        "  for index, letter in enumerate(haystack):\n",
        "      if letter == needle:\n",
        "          return index\n",
        "  return -1\n",
        "```\n",
        "\n",
        "$\\Rightarrow$ \n",
        "<https://github.com/fpro-feup/public/tree/master/lectures/07/sfind.py>"
      ]
    },
    {
      "cell_type": "markdown",
      "metadata": {
        "id": "z1W-qDQgY4nL",
        "colab_type": "text"
      },
      "source": [
        "## 5.1.11 Looping and counting"
      ]
    },
    {
      "cell_type": "markdown",
      "metadata": {
        "id": "KMpIprackjc5",
        "colab_type": "text"
      },
      "source": [
        "### Looping and counting\n",
        "\n",
        "- another example of the **counter** pattern (introduced in *Counting\n",
        "    digits*)\n",
        "\n",
        "```\n",
        "  def count_a(text):\n",
        "      count = 0\n",
        "      for letter in text:\n",
        "          if letter == \"a\":\n",
        "              count += 1\n",
        "      return count\n",
        "  \n",
        "  print(count_a(\"banana\") == 3)\n",
        "```\n",
        "\n",
        "$\\Rightarrow$ \n",
        "<https://github.com/fpro-feup/public/tree/master/lectures/07/scount.py>"
      ]
    },
    {
      "cell_type": "markdown",
      "metadata": {
        "id": "Kr3beiNbvfvL",
        "colab_type": "text"
      },
      "source": [
        "Try this one:"
      ]
    },
    {
      "cell_type": "code",
      "metadata": {
        "id": "nN-s17XvkwqR",
        "colab_type": "code",
        "colab": {}
      },
      "source": [
        "def count(text, aChar):\n",
        "    lettercount = 0\n",
        "    for c in text:\n",
        "        if c == aChar:\n",
        "            lettercount = lettercount + 1\n",
        "    return lettercount\n",
        "\n",
        "print(count(\"banana\",\"a\"))"
      ],
      "execution_count": 0,
      "outputs": []
    },
    {
      "cell_type": "markdown",
      "metadata": {
        "id": "mBk6lgIdY7b7",
        "colab_type": "text"
      },
      "source": [
        "## 5.1.12 Optional parameters"
      ]
    },
    {
      "cell_type": "markdown",
      "metadata": {
        "id": "xUW-BpY_k-Bp",
        "colab_type": "text"
      },
      "source": [
        "### Optional parameters\n",
        "\n",
        "- To find the locations of the second or third occurrence of a\n",
        "    character in a string\n",
        "\n",
        "- we can modify the `find` function, adding a third parameter for the\n",
        "    starting position in the search string\n",
        "\n",
        "- Better still, we can combine find and find2 using an **optional\n",
        "    parameter**:\n",
        "\n",
        "```\n",
        "  def find(haystack, needle, start=0):\n",
        "      for index,letter in enumerate(haystack[start:]):\n",
        "          if letter == needle:\n",
        "              return index + start\n",
        "      return -1\n",
        "```\n",
        "\n",
        "$\\Rightarrow$ \n",
        "<https://github.com/fpro-feup/public/tree/master/lectures/07/optional.py>"
      ]
    },
    {
      "cell_type": "code",
      "metadata": {
        "id": "PJz4G_swxxTt",
        "colab_type": "code",
        "colab": {}
      },
      "source": [
        "def find(astring, achar, start=0):\n",
        "    \"\"\"\n",
        "    Find and return the index of achar in astring.\n",
        "    Return -1 if achar does not occur in astring.\n",
        "    \"\"\"\n",
        "    ix = start\n",
        "    found = False\n",
        "    while ix < len(astring) and not found:\n",
        "        if astring[ix] == achar:\n",
        "            found = True\n",
        "        else:\n",
        "            ix = ix + 1\n",
        "    if found:\n",
        "        return ix\n",
        "    else:\n",
        "        return -1\n",
        "\n",
        "print(find('banana', 'a', 2))"
      ],
      "execution_count": 0,
      "outputs": []
    },
    {
      "cell_type": "markdown",
      "metadata": {
        "id": "Q80oH34xY_RE",
        "colab_type": "text"
      },
      "source": [
        "## 5.1.13 The built-in `find` method"
      ]
    },
    {
      "cell_type": "markdown",
      "metadata": {
        "id": "VnVYV_kGlI_X",
        "colab_type": "text"
      },
      "source": [
        "### The built-in `find` method\n",
        "\n",
        "- The built-in `find` method is more general\n",
        "\n",
        "- It can find substrings, not just single characters:\n",
        "\n",
        "```\n",
        "  >>> \"banana\".find(\"nan\")\n",
        "  2\n",
        "  >>> \"banana\".find(\"na\", 3)\n",
        "  4\n",
        "```"
      ]
    },
    {
      "cell_type": "markdown",
      "metadata": {
        "id": "lodIOxlWZDxe",
        "colab_type": "text"
      },
      "source": [
        "## 5.1.14 The `split` method"
      ]
    },
    {
      "cell_type": "markdown",
      "metadata": {
        "id": "UnuMxMgflOYZ",
        "colab_type": "text"
      },
      "source": [
        "### The `split` method\n",
        "\n",
        "- One of the most useful methods on strings is the split method\n",
        "\n",
        "- it splits a single multi-word string into a list of individual\n",
        "    words, removing all the whitespace between them<sup>1</sup>\n",
        "\n",
        "```\n",
        "  >>> phrase = \"Oh, that's jolly good. Well, off you go then\"\n",
        "  >>> words = phrase.split()\n",
        "  >>> words\n",
        "  ['Oh,', \"that's\", 'jolly', 'good.', 'Well,', 'off', 'you', 'go', 'then']\n",
        "```\n",
        "\n",
        "<sup>1</sup> Whitespace means any tabs, newlines, or spaces."
      ]
    },
    {
      "cell_type": "code",
      "metadata": {
        "id": "6qEgOJ3tyhm7",
        "colab_type": "code",
        "colab": {}
      },
      "source": [
        "phrase = \"Oh, that's jolly good. Well, off you go then\"\n",
        "print(phrase.split())"
      ],
      "execution_count": 0,
      "outputs": []
    },
    {
      "cell_type": "markdown",
      "metadata": {
        "id": "CJEGJtWgZHn9",
        "colab_type": "text"
      },
      "source": [
        "## 5.1.15 Cleaning up your strings"
      ]
    },
    {
      "cell_type": "markdown",
      "metadata": {
        "id": "GroRZT7olVz4",
        "colab_type": "text"
      },
      "source": [
        "### Cleaning up your strings\n",
        "\n",
        "- We'll often work with strings that contain punctuation, or tab and\n",
        "    newline characters\n",
        "\n",
        "- But if we're writing a program, say, to count word frequency, we'd\n",
        "    prefer to strip off these unwanted characters.\n",
        "\n",
        "- We'll show just one example of how to strip punctuation from a\n",
        "    string\n",
        "\n",
        "    - we need to traverse the original string and create a new string,\n",
        "        omitting any punctuation\n",
        "\n",
        "$\\Rightarrow$ \n",
        "<https://github.com/fpro-feup/public/tree/master/lectures/07/strip.py>"
      ]
    },
    {
      "cell_type": "code",
      "metadata": {
        "id": "c6Hl6S2ZboKR",
        "colab_type": "code",
        "colab": {}
      },
      "source": [
        "s = \"  I'm not  clean.  \"\n",
        "print(s)\n",
        "print(s.strip())"
      ],
      "execution_count": 0,
      "outputs": []
    },
    {
      "cell_type": "markdown",
      "metadata": {
        "id": "PJFQhV2TZKQM",
        "colab_type": "text"
      },
      "source": [
        "## 5.1.16 The string `format` method"
      ]
    },
    {
      "cell_type": "markdown",
      "metadata": {
        "id": "7QkhAR6alciD",
        "colab_type": "text"
      },
      "source": [
        "### The string `format` method\n",
        "\n",
        "- The easiest and most powerful way to format a string in Python3 is\n",
        "    to use the `format` method\n",
        "\n",
        "- The template string contains place holders, ... `{0}` ...`{1}`\n",
        "    ...`{2}` ...etc\n",
        "\n",
        "- The format method substitutes its arguments into the place holders\n",
        "\n",
        "- To see how this works, let's start with a few examples:\n",
        "\n",
        "```\n",
        "  phrase = \"His name is {0}!\".format(\"Arthur\")\n",
        "  print(phrase)\n",
        "\n",
        "```\n",
        "\n",
        "$\\Rightarrow$ \n",
        "<https://github.com/fpro-feup/public/tree/master/lectures/07/format.py>"
      ]
    },
    {
      "cell_type": "code",
      "metadata": {
        "id": "TW1sKduJyZVJ",
        "colab_type": "code",
        "colab": {}
      },
      "source": [
        "name = \"Alice\"\n",
        "age = 10\n",
        "phrase = \"I am {0} and I am {1} years old.\".format(age, name)\n",
        "print(phrase)"
      ],
      "execution_count": 0,
      "outputs": []
    },
    {
      "cell_type": "markdown",
      "metadata": {
        "id": "gyVioFYFlf0x",
        "colab_type": "text"
      },
      "source": [
        "### Format specification\n",
        "\n",
        "- Each of the replacement fields can also contain a **format\n",
        "    specification**\n",
        "\n",
        "- This modifies how the substitutions are made into the template, and\n",
        "    can control things like:\n",
        "\n",
        "    - whether the field is aligned to the left **`<`**, center\n",
        "        **`^`**, or right **`>`**\n",
        "\n",
        "    - the width allocated to the field within the result string (a\n",
        "        number like 10)\n",
        "\n",
        "    - the type of conversion: we'll initially only force conversion to\n",
        "        float, **`f`** or perhaps we'll ask integer numbers to be\n",
        "        converted to hexadecimal using **`x`**)\n",
        "\n",
        "    - if the type conversion is a float, you can also specify how many\n",
        "        decimal places are wanted: typically, **`.2f`** is useful for\n",
        "        working with currencies to two decimal places\n",
        "\n",
        "$\\Rightarrow$ \n",
        "<https://github.com/fpro-feup/public/tree/master/lectures/07/formatspec.py>"
      ]
    },
    {
      "cell_type": "markdown",
      "metadata": {
        "id": "5kt_F9JdbpyP",
        "colab_type": "text"
      },
      "source": [
        "## f-strings"
      ]
    },
    {
      "cell_type": "markdown",
      "metadata": {
        "id": "_1TvY01XbyrU",
        "colab_type": "text"
      },
      "source": [
        "### f-strings\n",
        "\n",
        "[Python 3's f-Strings: An Improved String Formatting Syntax (Guide)](https://realpython.com/python-f-strings/)\n",
        "\n",
        "\n",
        "```\n",
        "name = \"Eric\"\n",
        "age = 74\n",
        "f\"Hello, {name}. You are {age}.\"\n",
        "```\n"
      ]
    },
    {
      "cell_type": "markdown",
      "metadata": {
        "id": "ydRiRiL6cD3z",
        "colab_type": "text"
      },
      "source": [
        "Because f-strings are evaluated at runtime, you can put any and all valid Python expressions in them:"
      ]
    },
    {
      "cell_type": "code",
      "metadata": {
        "id": "k_pPbfXVcFXK",
        "colab_type": "code",
        "colab": {}
      },
      "source": [
        "f\"{2 * 37}\""
      ],
      "execution_count": 0,
      "outputs": []
    },
    {
      "cell_type": "markdown",
      "metadata": {
        "id": "WJFjXjXzcIu7",
        "colab_type": "text"
      },
      "source": [
        "But you could also call functions. Here’s an example:"
      ]
    },
    {
      "cell_type": "code",
      "metadata": {
        "id": "Tbk_SzszcJh7",
        "colab_type": "code",
        "colab": {}
      },
      "source": [
        "def to_lowercase(input):\n",
        "    return input.lower()\n",
        "\n",
        "name = \"Eric Idle\"\n",
        "f\"{to_lowercase(name)} is funny.\""
      ],
      "execution_count": 0,
      "outputs": []
    },
    {
      "cell_type": "markdown",
      "metadata": {
        "id": "4vVXRqT4cYOT",
        "colab_type": "text"
      },
      "source": [
        "You also have the option of calling a method directly:"
      ]
    },
    {
      "cell_type": "code",
      "metadata": {
        "id": "vAPIasPmcY9M",
        "colab_type": "code",
        "colab": {}
      },
      "source": [
        "f\"{name.lower()} is funny.\""
      ],
      "execution_count": 0,
      "outputs": []
    },
    {
      "cell_type": "markdown",
      "metadata": {
        "id": "lT1FtkSycbPU",
        "colab_type": "text"
      },
      "source": [
        "f-strings are faster than both %-formatting and str.format(). \n",
        "\n",
        "As you already saw, f-strings are expressions evaluated at runtime rather than constant values.\n",
        "\n",
        "[PEP 498 -- Literal String Interpolation](https://www.python.org/dev/peps/pep-0498/#abstract)\n"
      ]
    },
    {
      "cell_type": "markdown",
      "metadata": {
        "id": "myRr0idGZV9y",
        "colab_type": "text"
      },
      "source": [
        "## Operations on Strings"
      ]
    },
    {
      "cell_type": "markdown",
      "metadata": {
        "id": "2AjwpghpclZy",
        "colab_type": "text"
      },
      "source": [
        "### Common string operations\n",
        "\n",
        "- See the Python Standard Library for a comprehensive list of\n",
        "    operations on strings:\n",
        "    \n",
        "<https://docs.python.org/3.7/library/string.html>\n"
      ]
    },
    {
      "cell_type": "code",
      "metadata": {
        "id": "1IBOTwtgyOsB",
        "colab_type": "code",
        "colab": {}
      },
      "source": [
        "import string\n",
        "print(string.ascii_lowercase)\n",
        "print(string.ascii_uppercase)\n",
        "print(string.digits)\n",
        "print(string.punctuation)"
      ],
      "execution_count": 0,
      "outputs": []
    },
    {
      "cell_type": "markdown",
      "metadata": {
        "id": "Zz-UtV8ORH_t",
        "colab_type": "text"
      },
      "source": [
        "# Ticket to leave"
      ]
    },
    {
      "cell_type": "markdown",
      "metadata": {
        "id": "C-hchAExRRVh",
        "colab_type": "text"
      },
      "source": [
        "## Moodle activity\n",
        "\n",
        "[LE07: Strings](https://moodle.up.pt/mod/quiz/view.php?id=39211)"
      ]
    },
    {
      "cell_type": "markdown",
      "metadata": {
        "id": "uV1OP6ahRYne",
        "colab_type": "text"
      },
      "source": [
        "\n",
        "$\\Rightarrow$ \n",
        "[Go back to the Table of Contents](00-contents.ipynb)\n",
        "\n",
        "$\\Rightarrow$ \n",
        "[Read the Preface](00-preface.ipynb)"
      ]
    }
  ]
}
