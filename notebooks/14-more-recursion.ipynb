{
  "nbformat": 4,
  "nbformat_minor": 0,
  "metadata": {
    "colab": {
      "name": "14-more-recursion.ipynb",
      "provenance": [],
      "private_outputs": true,
      "collapsed_sections": [
        "Zz-UtV8ORH_t"
      ],
      "toc_visible": true
    },
    "kernelspec": {
      "name": "python3",
      "display_name": "Python 3"
    }
  },
  "cells": [
    {
      "cell_type": "markdown",
      "metadata": {
        "id": "8z5cONg8rUrX",
        "colab_type": "text"
      },
      "source": [
        "# More Recursion\n",
        "\n",
        "## Programming Fundamentals (NB14)\n",
        "\n",
        "### MIEIC/2019-20\n",
        "\n",
        "#### João Correia Lopes\n",
        "\n",
        "FEUP/DEI and INESC TEC"
      ]
    },
    {
      "cell_type": "markdown",
      "metadata": {
        "id": "MZzE7pYorju5",
        "colab_type": "text"
      },
      "source": [
        "## Goals\n",
        "\n",
        "By the end of this class, the student should be able to:\n",
        "\n",
        "- Identify some complex problems, that may otherwise be difficult to\n",
        "    solve, that may have a simple recursive solution\n",
        "\n",
        "- Describe how to formulate programs recursively\n",
        "\n",
        "- Describe recursion as a form of iteration\n",
        "\n",
        "- Implement the recursive formulation of a problem"
      ]
    },
    {
      "cell_type": "markdown",
      "metadata": {
        "id": "eR5Lh1jNroE2",
        "colab_type": "text"
      },
      "source": [
        "## Bibliography\n",
        "\n",
        "- Brad Miller and David Ranum, *Problem Solving with Algorithms and \n",
        "    Data Structures using Python*  (Chapter 5)\n",
        "    [[HTML]](https://runestone.academy/runestone/books/published/pythonds/Recursion/toctree.html)\n",
        "\n",
        "- Brad Miller and David Ranum, *How to Think Like a Computer Scientist:\n",
        "    Interactive Edition*. Based on material by Jeffrey Elkner, Allen B.\n",
        "    Downey, and Chris Meyers (Chapter 16)\n",
        "    [[HTML]](https://runestone.academy/runestone/books/published/thinkcspy/IntroRecursion/toctree.html)"
      ]
    },
    {
      "cell_type": "markdown",
      "metadata": {
        "id": "rp0xhM5RT_-a",
        "colab_type": "text"
      },
      "source": [
        "# More Recursion"
      ]
    },
    {
      "cell_type": "markdown",
      "metadata": {
        "id": "FdbqvSj8VEIw",
        "colab_type": "text"
      },
      "source": [
        "## Case study: Tower of Hanoi"
      ]
    },
    {
      "cell_type": "markdown",
      "metadata": {
        "id": "97RiHTYsUCFW",
        "colab_type": "text"
      },
      "source": [
        "### Tower of Hanoi\n",
        "\n",
        "- The Tower of Hanoi puzzle was invented by the French mathematician\n",
        "    Edouard Lucas in 1883 [[wiki]](http://en.wikipedia.org/wiki/Tower_of_Hanoi)\n",
        "\n",
        "- The priests were given three poles and a stack of 64 gold disks\n",
        "\n",
        "- Their assignment was to transfer all 64 disks from one of the three\n",
        "    poles to another, with two important constraints:\n",
        "\n",
        "    - They could only move one disk at a time, and\n",
        "\n",
        "    - They could never place a larger disk on top of a smaller one\n",
        "\n",
        "![hanoi](images/14/hanoi.png)\n",
        "\n",
        "source: [[Section 5.10]](http://interactivepython.org/runestone/static/pythonds/Recursion/TowerofHanoi.html)"
      ]
    },
    {
      "cell_type": "markdown",
      "metadata": {
        "id": "cYxE5XssW-fE",
        "colab_type": "text"
      },
      "source": [
        "### Tower of Hanoi (2)\n",
        "\n",
        "- The number of moves required to correctly move a tower of 64 disks\n",
        "    is: $2^{64}-1$\n",
        "\n",
        "- At a rate of one move per second, it takes: 584 942 417 355 years!\n",
        "\n",
        "$\\Rightarrow$\n",
        "[Tower of Hanoi | GeeksforGeeks](https://www.youtube.com/watch?v=YstLjLCGmgg)\n",
        "\n",
        "$2^{64}-1 = 18 446 744 073 709 551 615$ seconds\n"
      ]
    },
    {
      "cell_type": "markdown",
      "metadata": {
        "id": "P5a0zgBbYGDu",
        "colab_type": "text"
      },
      "source": [
        "- Pseudo-code:\n",
        "\n",
        "    1. *Move a tower of `height-1` from the `original pole` \n",
        "    to the `intermediate pole`, using the `final pole`*\n",
        "\n",
        "    2. *Move the `remaining disk` to the `final pole`*\n",
        "\n",
        "    3. *Move the tower of `height-1` from the `intermediate pole` \n",
        "       to the `final pole` using the `original pole`*\n",
        "\n",
        "$\\Rightarrow$\n",
        "<https://github.com/fpro-feup/public/tree/master/lectures/14/hanoi.py>\n",
        "\n",
        "$\\Rightarrow$\n",
        "<https://github.com/fpro-feup/public/tree/master/lectures/14/hanoi2.py>"
      ]
    },
    {
      "cell_type": "markdown",
      "metadata": {
        "id": "F1_vMFedl7vT",
        "colab_type": "text"
      },
      "source": [
        "Python code to move a tower of `height` from source to target:"
      ]
    },
    {
      "cell_type": "code",
      "metadata": {
        "id": "0C6eWRqxlYOI",
        "colab_type": "code",
        "colab": {}
      },
      "source": [
        "def move_tower(height, from_pole, to_pole, with_pole):\n",
        "    if height >= 1:\n",
        "        # move n-1 disks from source to auxiliary, so they are out of the way\n",
        "        move_tower(height-1, from_pole, with_pole, to_pole)\n",
        "        # move the nth disk from source to target\n",
        "        move_disk(height, from_pole, to_pole)\n",
        "        # move the n-1 disks that we left on auxiliary onto target\n",
        "        move_tower(height-1, with_pole, to_pole, from_pole)"
      ],
      "execution_count": 0,
      "outputs": []
    },
    {
      "cell_type": "markdown",
      "metadata": {
        "id": "n7jvgDFdlrch",
        "colab_type": "text"
      },
      "source": [
        "Display our progress"
      ]
    },
    {
      "cell_type": "code",
      "metadata": {
        "id": "ymFi8qm3lcv0",
        "colab_type": "code",
        "colab": {}
      },
      "source": [
        "def move_disk(n, fp, tp):\n",
        "    print(\"Moving disk\", n, \"from\", fp, \"to\", tp)"
      ],
      "execution_count": 0,
      "outputs": []
    },
    {
      "cell_type": "markdown",
      "metadata": {
        "id": "Zbz1gio5l2qq",
        "colab_type": "text"
      },
      "source": [
        "initiate call from source A to target C with auxiliary B"
      ]
    },
    {
      "cell_type": "code",
      "metadata": {
        "id": "W-XMA0mEl3tY",
        "colab_type": "code",
        "colab": {}
      },
      "source": [
        "move_tower(4, \"A\", \"C\", \"B\")"
      ],
      "execution_count": 0,
      "outputs": []
    },
    {
      "cell_type": "markdown",
      "metadata": {
        "id": "JA-mUpQrVOIM",
        "colab_type": "text"
      },
      "source": [
        "## Iteration versus Recursion"
      ]
    },
    {
      "cell_type": "markdown",
      "metadata": {
        "id": "Wf1-KHWMZTuz",
        "colab_type": "text"
      },
      "source": [
        "### Iteration vs. Recursion\n",
        "\n",
        "- Recursion and iteration perform the same kinds of tasks:\n",
        "\n",
        "    - Solve a complicated task, one piece at a time, and combine the results\n"
      ]
    },
    {
      "cell_type": "markdown",
      "metadata": {
        "id": "rj2AcYgoZdVC",
        "colab_type": "text"
      },
      "source": [
        "- Emphasis of iteration:\n",
        "\n",
        "    - keep repeating until a task is finished\n",
        "\n",
        "    - e.g. loop counter reaches limit, list reaches the end, ..."
      ]
    },
    {
      "cell_type": "markdown",
      "metadata": {
        "id": "JvYRSyIRZrr-",
        "colab_type": "text"
      },
      "source": [
        "- Emphasis of recursion:\n",
        "\n",
        "    - Solve a large problem by breaking it up into smaller and smaller\n",
        "        pieces until you can solve it; combine the results\n",
        "\n",
        "    - e.g. recursive factorial function"
      ]
    },
    {
      "cell_type": "markdown",
      "metadata": {
        "id": "RajVbmUlVSmy",
        "colab_type": "text"
      },
      "source": [
        "## Calculating the Sum of a List of Numbers"
      ]
    },
    {
      "cell_type": "markdown",
      "metadata": {
        "id": "9KhrKTPjZfT4",
        "colab_type": "text"
      },
      "source": [
        "### Sum of a List of Numbers\n",
        "\n",
        "- We will begin our investigation with a simple problem that you\n",
        "    already know how to solve without using recursion\n",
        "\n",
        "- Suppose that you want to calculate the sum of a list of numbers such as: \n",
        "    \n",
        "    $$[1, 3, 5, 7, 9]$$"
      ]
    },
    {
      "cell_type": "markdown",
      "metadata": {
        "id": "LgbrKHmsaHEi",
        "colab_type": "text"
      },
      "source": [
        "### Sum of a List of Numbers Iterative\n",
        "\n",
        "- The function uses an accumulator variable (`the_sum`) to compute a running total of all the numbers in the list by starting with `0` and adding each number in the list\n",
        "\n",
        "$\\Rightarrow$\n",
        "<https://github.com/fpro-feup/public/tree/master/lectures/14/listsum_iter.py>"
      ]
    },
    {
      "cell_type": "code",
      "metadata": {
        "id": "BpPslyiIs83S",
        "colab_type": "code",
        "colab": {}
      },
      "source": [
        "def listsum(num_list):\n",
        "    the_sum = 0\n",
        "    for i in num_list:\n",
        "        the_sum = the_sum + i\n",
        "    return the_sum"
      ],
      "execution_count": 0,
      "outputs": []
    },
    {
      "cell_type": "code",
      "metadata": {
        "id": "nf-0-E6as_Fb",
        "colab_type": "code",
        "colab": {}
      },
      "source": [
        "print(listsum([1, 3, 5, 7, 9]))"
      ],
      "execution_count": 0,
      "outputs": []
    },
    {
      "cell_type": "markdown",
      "metadata": {
        "id": "K8KpsOZ-aaDC",
        "colab_type": "text"
      },
      "source": [
        "### Sum of a List of Numbers Recursive\n",
        "\n",
        "- The sum of a list of length 1 is **trivial**; it is just the number\n",
        "    in the list\n",
        "\n",
        "- The series of (recursive) calls may be seen as a **series of\n",
        "    simplifications** \n",
        "    \n",
        "    $$(1+(3+(5+(7+9))))$$\n",
        "\n",
        "- Each time we make a recursive call we are solving a smaller problem,\n",
        "    until we reach the point where the problem cannot get any smaller\n",
        "\n",
        "$\\Rightarrow$\n",
        "<https://github.com/fpro-feup/public/tree/master/lectures/14/listsum_rec.py>"
      ]
    },
    {
      "cell_type": "code",
      "metadata": {
        "id": "AjUO2ysBtFqi",
        "colab_type": "code",
        "colab": {}
      },
      "source": [
        "def listsum_rec(num_list):\n",
        "    if len(num_list) == 1:\n",
        "        return num_list[0]\n",
        "    else:\n",
        "        return num_list[0] + listsum_rec(num_list[1:])"
      ],
      "execution_count": 0,
      "outputs": []
    },
    {
      "cell_type": "code",
      "metadata": {
        "id": "CaukAUd8tItO",
        "colab_type": "code",
        "colab": {}
      },
      "source": [
        "print(listsum_rec([1, 3, 5, 7, 9]))"
      ],
      "execution_count": 0,
      "outputs": []
    },
    {
      "cell_type": "markdown",
      "metadata": {
        "id": "eeYQ8eOrtZz8",
        "colab_type": "text"
      },
      "source": [
        "What about?"
      ]
    },
    {
      "cell_type": "code",
      "metadata": {
        "id": "oybv_LwVtTqy",
        "colab_type": "code",
        "colab": {}
      },
      "source": [
        "print(listsum_rec([]))"
      ],
      "execution_count": 0,
      "outputs": []
    },
    {
      "cell_type": "markdown",
      "metadata": {
        "id": "xkeXNyX3VUJ-",
        "colab_type": "text"
      },
      "source": [
        "## Factorial"
      ]
    },
    {
      "cell_type": "markdown",
      "metadata": {
        "id": "pIsn0ui5avCm",
        "colab_type": "text"
      },
      "source": [
        "### Factorial Recursive\n",
        "\n",
        "```\n",
        "   def fact_rec(n):\n",
        "      \"\"\" assume n >= 0 \"\"\"\n",
        "      if n <= 1:\n",
        "         return 1\n",
        "      else:\n",
        "         return n * fact_rec(n-1)\n",
        "```\n"
      ]
    },
    {
      "cell_type": "markdown",
      "metadata": {
        "id": "0XS2tkvuDt3e",
        "colab_type": "text"
      },
      "source": [
        "- $O(n)$\n",
        "\n",
        "- Look at **tail recursion**\n",
        "\n",
        "- Guido van Rossum, 2009 at [[Neopythonic]](http://neopythonic.blogspot.com/2009/04/final-words-on-tail-calls.html)\n"
      ]
    },
    {
      "cell_type": "markdown",
      "metadata": {
        "id": "x9PNUgsQbHZO",
        "colab_type": "text"
      },
      "source": [
        "### Factorial Iterative\n",
        "\n",
        "```\n",
        "   def fact_iter(n):\n",
        "      prod = 1\n",
        "      for i in range(1, n+1):\n",
        "         prod = i * prod\n",
        "      return prod\n",
        "```\n"
      ]
    },
    {
      "cell_type": "markdown",
      "metadata": {
        "id": "gGyqKaScDzyq",
        "colab_type": "text"
      },
      "source": [
        "- $O(n)$\n",
        "\n",
        "- Is it easier to read?\n",
        "\n",
        "- Is it faster?"
      ]
    },
    {
      "cell_type": "markdown",
      "metadata": {
        "id": "kZ5MAhrQVa0N",
        "colab_type": "text"
      },
      "source": [
        "## Fibonacci"
      ]
    },
    {
      "cell_type": "markdown",
      "metadata": {
        "id": "PMt1L0yxdOiQ",
        "colab_type": "text"
      },
      "source": [
        "### Fibonacci Recursive\n",
        "\n",
        "![fib](images/14/fib.png)\n",
        "\n",
        "- $O(2^n)$\n",
        "\n",
        "- It is a **binary tree** of height $n$: for $n=4$ we have\n",
        "    $2^n-1 = 15$ nodes\n",
        "\n",
        "- Nice discussion here: [StackExchange](https://cs.stackexchange.com/questions/44855/if-recursive-fibonacci-is-o2n-then-why-do-i-get-15-calls-for-n-5)\n",
        "\n",
        "$\\Rightarrow$\n",
        "<https://github.com/fpro-feup/public/tree/master/lectures/14/fib_rec.py>"
      ]
    },
    {
      "cell_type": "code",
      "metadata": {
        "id": "nbvd-b5q3ypn",
        "colab_type": "code",
        "colab": {}
      },
      "source": [
        "def fib_rec(n):\n",
        "    \"\"\" assumes n an int >= 0 \"\"\"\n",
        "    if n == 0:\n",
        "        return 0\n",
        "    elif n == 1:\n",
        "        return 1\n",
        "    else:\n",
        "        return fib_rec(n-1) + fib_rec(n-2)"
      ],
      "execution_count": 0,
      "outputs": []
    },
    {
      "cell_type": "code",
      "metadata": {
        "id": "-za-wA9R34ZT",
        "colab_type": "code",
        "colab": {}
      },
      "source": [
        "print(fib_rec(7))\n",
        "print(fib_rec(35))\n",
        "# Worst case O(2^n)"
      ],
      "execution_count": 0,
      "outputs": []
    },
    {
      "cell_type": "markdown",
      "metadata": {
        "id": "ROOLT4AreGf2",
        "colab_type": "text"
      },
      "source": [
        "### Fibonacci Efficient\n",
        "\n",
        "- Calling `fib(34)` results in **11 405 773** recursive calls\n",
        "\n",
        "- Calling `fib_efficient(34)` results in **65** recursive calls\n",
        "\n",
        "- Using dictionaries to capture intermediate results can be very\n",
        "    efficient (**memoisation**)\n",
        "\n",
        "$\\Rightarrow$\n",
        "<https://github.com/fpro-feup/public/tree/master/lectures/14/fib_efficient.py>"
      ]
    },
    {
      "cell_type": "code",
      "metadata": {
        "id": "56ExRIwa4KWe",
        "colab_type": "code",
        "colab": {}
      },
      "source": [
        "def fib_efficient(n, d):\n",
        "    if n in d:\n",
        "        return d[n]\n",
        "    else:\n",
        "        ans = fib_efficient(n-1, d) + fib_efficient(n-2, d)\n",
        "        d[n] = ans\n",
        "    return ans"
      ],
      "execution_count": 0,
      "outputs": []
    },
    {
      "cell_type": "code",
      "metadata": {
        "id": "Ho61YVhR4M0v",
        "colab_type": "code",
        "colab": {}
      },
      "source": [
        "d = {0: 0, 1: 1}\n",
        "print(fib_efficient(7, d))\n",
        "print(fib_efficient(350, d))"
      ],
      "execution_count": 0,
      "outputs": []
    },
    {
      "cell_type": "markdown",
      "metadata": {
        "id": "c3Wfc93UeNS1",
        "colab_type": "text"
      },
      "source": [
        "### Fibonacci Iterative\n",
        "\n",
        "- $O(n)$ --- it's a `for` cycle\n",
        "\n",
        "$\\Rightarrow$\n",
        "<https://github.com/fpro-feup/public/tree/master/lectures/14/fib_iter.py>\n"
      ]
    },
    {
      "cell_type": "code",
      "metadata": {
        "id": "INK5dP8Z4WOY",
        "colab_type": "code",
        "colab": {}
      },
      "source": [
        "# pythonic version\n",
        "def fib_iter(n):\n",
        "    fib1, fib2 = 0, 1\n",
        "    for _ in range(0, n):\n",
        "        fib1, fib2 = fib2, fib1 + fib2\n",
        "    return fib1"
      ],
      "execution_count": 0,
      "outputs": []
    },
    {
      "cell_type": "code",
      "metadata": {
        "id": "CVjhAvqu4euk",
        "colab_type": "code",
        "colab": {}
      },
      "source": [
        "print(fib_iter(7))\n",
        "print(fib_iter(350))\n",
        "# Best case: O(1)\n",
        "# Worst case: O(1) + O(n) + O(1)"
      ],
      "execution_count": 0,
      "outputs": []
    },
    {
      "cell_type": "markdown",
      "metadata": {
        "id": "80NOHzqVVd4O",
        "colab_type": "text"
      },
      "source": [
        "## Is a Palindrome?"
      ]
    },
    {
      "cell_type": "markdown",
      "metadata": {
        "id": "6l70oTGwem0j",
        "colab_type": "text"
      },
      "source": [
        "### Is a Palindrome Recursive\n",
        "\n",
        "![palindrome](images/14/palindrome.png)\n",
        "\n",
        "$\\Rightarrow$\n",
        "<https://github.com/fpro-feup/public/tree/master/lectures/14/is_palindrome_rec.py>\n"
      ]
    },
    {
      "cell_type": "code",
      "metadata": {
        "id": "OSCOp5jZ5OJz",
        "colab_type": "code",
        "colab": {}
      },
      "source": [
        "def is_palindrome_rec(s):\n",
        "    # transform to lower case letters only\n",
        "    def to_chars(s):\n",
        "        s = s.lower()\n",
        "        ans = ''\n",
        "        for c in s:\n",
        "            if c in 'abcdefghijklmnopqrstuvwxyz':\n",
        "                ans = ans + c\n",
        "        return ans\n",
        "\n",
        "    # the recursive function\n",
        "    def ispal(s):\n",
        "        if len(s) <= 1:\n",
        "            return True\n",
        "        else:\n",
        "            return s[0] == s[-1] and ispal(s[1:-1])\n",
        "\n",
        "    return ispal(to_chars(s))"
      ],
      "execution_count": 0,
      "outputs": []
    },
    {
      "cell_type": "code",
      "metadata": {
        "id": "-G3o8fVC5eJy",
        "colab_type": "code",
        "colab": {}
      },
      "source": [
        "print(is_palindrome_rec(\"MadamLaMadam\"))\n",
        "print(is_palindrome_rec(\"Lewd did I live & evil I did dwel.\"))\n",
        "print(is_palindrome_rec(\"Snug & raw was I ere I saw war & guns\"))\n",
        "print(is_palindrome_rec(\"Able was I, ere I saw Elba\"))"
      ],
      "execution_count": 0,
      "outputs": []
    },
    {
      "cell_type": "markdown",
      "metadata": {
        "id": "g5TgmY9ve0j_",
        "colab_type": "text"
      },
      "source": [
        "### Is a Palindrome Iterative\n",
        "\n",
        "- $O(n)$ --- complexity of the `join` method\n",
        "\n",
        "$\\Rightarrow$\n",
        "<https://github.com/fpro-feup/public/tree/master/lectures/14/is_palindrome_iter.py>\n"
      ]
    },
    {
      "cell_type": "code",
      "metadata": {
        "id": "xgIIwE8f4yan",
        "colab_type": "code",
        "colab": {}
      },
      "source": [
        "def is_palindrome_iter(s):\n",
        "    def to_chars(s):\n",
        "        s = s.lower()\n",
        "        ans = ''\n",
        "        for c in s:\n",
        "            if c in 'abcdefghijklmnopqrstuvwxyz':\n",
        "                ans = ans + c\n",
        "        return ans\n",
        "\n",
        "    def is_pal(s):\n",
        "        # Using predefined function to reverse to string\n",
        "        rev = ''.join(reversed(s))\n",
        "        # Checking if both string are equal or not\n",
        "        if (s == rev):\n",
        "            return True\n",
        "        return False\n",
        "\n",
        "    return is_pal(to_chars(s))"
      ],
      "execution_count": 0,
      "outputs": []
    },
    {
      "cell_type": "code",
      "metadata": {
        "id": "KeZsWRV249ae",
        "colab_type": "code",
        "colab": {}
      },
      "source": [
        "print(is_palindrome_rec(\"MadamLaMadam\"))\n",
        "print(is_palindrome_iter(\"Able was I, ere I saw Elba\"))"
      ],
      "execution_count": 0,
      "outputs": []
    },
    {
      "cell_type": "markdown",
      "metadata": {
        "id": "60Qxvni5Vhoj",
        "colab_type": "text"
      },
      "source": [
        "## Converting to any Base"
      ]
    },
    {
      "cell_type": "markdown",
      "metadata": {
        "id": "rNdrqxPre6ET",
        "colab_type": "text"
      },
      "source": [
        "### Converting an Integer to a string in any base\n",
        "\n",
        "- Suppose you want to convert an integer to a string in some base\n",
        "    between binary and hexadecimal\n",
        "\n",
        "- While there are many approaches one can take to solve this problem,\n",
        "    the recursive formulation of the problem is very elegant:\n",
        "\n",
        "    1.  *Reduce the original number to a series of single-digit numbers*\n",
        "\n",
        "    2.  *Convert the single digit-number to a string using a lookup*\n",
        "\n",
        "    3.  *Concatenate the single-digit strings together to form the final\n",
        "        result*"
      ]
    },
    {
      "cell_type": "markdown",
      "metadata": {
        "id": "HZQiqyXtfQcc",
        "colab_type": "text"
      },
      "source": [
        "### Converting an Integer to Base 2\n",
        "\n",
        "![anybase](images/14/anybase.png)\n",
        "\n",
        "$\\Rightarrow$\n",
        "<https://github.com/fpro-feup/public/tree/master/lectures/14/to_base.py>\n"
      ]
    },
    {
      "cell_type": "code",
      "metadata": {
        "id": "4y0oarhT5pz2",
        "colab_type": "code",
        "colab": {}
      },
      "source": [
        "def to_base(n, base):\n",
        "    hexa = \"0123456789ABCDEF\"\n",
        "    if n < base:\n",
        "        return hexa[n]\n",
        "    else:\n",
        "        return to_base(n//base, base) + hexa[n%base]"
      ],
      "execution_count": 0,
      "outputs": []
    },
    {
      "cell_type": "code",
      "metadata": {
        "id": "N49sJMSZ5sZC",
        "colab_type": "code",
        "colab": {}
      },
      "source": [
        "n = 2018\n",
        "basis = [16, 10, 8, 2]\n",
        "for b in basis:\n",
        "    print(\"{0} to base {1} - {2}\".format(n, b, to_base(n, b)))"
      ],
      "execution_count": 0,
      "outputs": []
    },
    {
      "cell_type": "markdown",
      "metadata": {
        "id": "-EcSc-6IfXPT",
        "colab_type": "text"
      },
      "source": [
        "## Summary"
      ]
    },
    {
      "cell_type": "markdown",
      "metadata": {
        "id": "TX3pR9kYfgke",
        "colab_type": "text"
      },
      "source": [
        "### Recursion vs. Iteration\n",
        "\n",
        "- **Advantages of Python Recursion**\n",
        "\n",
        "    - Recursive functions make the code look clean and elegant\n",
        "\n",
        "    - Very flexible in data structure like *tree traversals*,\n",
        "        *stacks*, *queues*, *linked list*\n",
        "\n",
        "    - Big and complex iterative solutions are easy and simple with\n",
        "        Python recursion\n",
        "\n",
        "    - Sequence generation is easier with recursion than using some\n",
        "        nested iteration\n",
        "\n",
        "    - Algorithms can be defined recursively making it much easier to\n",
        "        visualize and prove"
      ]
    },
    {
      "cell_type": "markdown",
      "metadata": {
        "id": "BBdyR7oYfkRs",
        "colab_type": "text"
      },
      "source": [
        "- **Disadvantages of Python Recursion**\n",
        "\n",
        "    - Sometimes the logic behind recursion is hard to follow\n",
        "\n",
        "    - Recursive calls are expensive (inefficient) as they take up a\n",
        "        lot of memory and time<sup>2</sup>\n",
        "\n",
        "    - More difficult to trace and debug\n",
        "\n",
        "    - Recursive functions often throw a *Stack Overflow Exception*\n",
        "        when processing or operations are too large\n",
        "\n",
        "<sup>2</sup> For every recursive call, separate memory is allocated for the variables (the *Activation Record* aka *Stack Frame*)."
      ]
    },
    {
      "cell_type": "markdown",
      "metadata": {
        "id": "FiLr8Q7Hf81p",
        "colab_type": "text"
      },
      "source": [
        "### Summary about Recursion\n",
        "\n",
        "- All recursive algorithms must have a base case\n",
        "\n",
        "- A recursive algorithm must change its state and make progress toward\n",
        "    the base case\n",
        "\n",
        "- A recursive algorithm must call itself (recursively)\n",
        "\n",
        "- Recursion can take the place of iteration in some cases\n",
        "\n",
        "- Recursive algorithms often map very naturally to a formal expression\n",
        "    of the problem you are trying to solve\n",
        "\n",
        "- Recursion is not always the answer: sometimes a recursive solution\n",
        "    may be more computationally expensive than an alternative algorithm."
      ]
    },
    {
      "cell_type": "markdown",
      "metadata": {
        "id": "Zz-UtV8ORH_t",
        "colab_type": "text"
      },
      "source": [
        "# Ticket to leave"
      ]
    },
    {
      "cell_type": "markdown",
      "metadata": {
        "id": "C-hchAExRRVh",
        "colab_type": "text"
      },
      "source": [
        "## Moodle activity\n",
        "\n",
        "[LE14: More Recursion](https://moodle.up.pt/mod/quiz/view.php?id=45223)"
      ]
    },
    {
      "cell_type": "markdown",
      "metadata": {
        "id": "uV1OP6ahRYne",
        "colab_type": "text"
      },
      "source": [
        "\n",
        "$\\Rightarrow$ \n",
        "[Go back to the Table of Contents](00-contents.ipynb)\n",
        "\n",
        "$\\Rightarrow$ \n",
        "[Read the Preface](00-preface.ipynb)"
      ]
    }
  ]
}