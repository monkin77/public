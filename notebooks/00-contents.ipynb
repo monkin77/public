{
  "nbformat": 4,
  "nbformat_minor": 0,
  "metadata": {
    "colab": {
      "name": "00-contents.ipynb",
      "provenance": [],
      "collapsed_sections": [],
      "toc_visible": true
    },
    "kernelspec": {
      "name": "python3",
      "display_name": "Python 3"
    }
  },
  "cells": [
    {
      "cell_type": "markdown",
      "metadata": {
        "id": "89c5-BpMY8y2",
        "colab_type": "text"
      },
      "source": [
        "# FPRO: Programming Fundamentals (with Python)\n",
        "\n",
        "> The Unit aim at giving the student the ability to create algorithms, and to use a programming language to implement, test, and debug algorithms to solve simple problems.\n",
        "\n",
        "Here you find:\n",
        "- a collection of Jupyter Notebooks that help you learn: basic principles of programming, problem solving, testing and data structures\n",
        "- it's based on the open-source book: http://openbookproject.net/thinkcs/python/english3e/index.html\n",
        "- and inspired by open-source notebooks: https://github.com/rambasnet/FDSPython-Notebooks\n",
        "\n",
        "For more, go to FPRO's landing page at https://fpro.fe.up.pt/\n",
        "\n",
        "## Table of Contents\n",
        "\n",
        "- [NB00: Preface](00-preface.ipynb)\n",
        "- [NB01: Introduction](01-introduction.ipynb)\n",
        "- [NB02: Data, Variables Expressions, and Statements](02-simple-data.ipynb)\n",
        "- [NB03: Program flow, Conditionals](03-flow-conditionals.ipynb)\n",
        "- [NB04: Iteration](04-iteration.ipynb)\n",
        "\n",
        "> to be continued...\n",
        "\n",
        "---\n",
        "-- JCL,  Tue Sep 17 17:01:45 2019"
      ]
    }
  ]
}