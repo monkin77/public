{
 "cells": [
  {
   "cell_type": "markdown",
   "metadata": {},
   "source": [
    "# FPRO: Programming Fundamentals with Python\n",
    "\n",
    "> The Unit aim at giving the student the ability to create algorithms, and to use a programming language to implement, test, and debug algorithms to solve simple problems.\n",
    "\n",
    "- a collection of Jupyter Notebooks that help you learn basic principles of programming, problem solving, testing and data structures\n",
    "- based on the open-source book: http://openbookproject.net/thinkcs/python/english3e/index.html\n",
    "- inspired on open-source notebooks: https://github.com/rambasnet/FDSPython-Notebooks\n",
    "\n",
    "## Table of Contents\n",
    "\n",
    "[NB #00: Preface](00-preface.ipynb)  \n",
    "[NB #01: Introduction](01-introduction.ipynb)  \n",
    "[NB #02: Data, Variables Expressions, and Statements](02-simple-data.ipynb)  \n",
    "[NB #03: Program flow, Conditionals](03-flow-conditional.ipynb)  \n",
    "\n",
    "#### -- JCL, Tue Sep 17 17:01:45 2019"
   ]
  }
 ],
 "metadata": {
  "kernelspec": {
   "display_name": "Python 3",
   "language": "python",
   "name": "python3"
  },
  "language_info": {
   "codemirror_mode": {
    "name": "ipython",
    "version": 3
   },
   "file_extension": ".py",
   "mimetype": "text/x-python",
   "name": "python",
   "nbconvert_exporter": "python",
   "pygments_lexer": "ipython3",
   "version": "3.7.3"
  }
 },
 "nbformat": 4,
 "nbformat_minor": 2
}
