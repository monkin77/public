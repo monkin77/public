{
  "nbformat": 4,
  "nbformat_minor": 0,
  "metadata": {
    "colab": {
      "name": "01-introduction.ipynb",
      "provenance": [],
      "private_outputs": true,
      "collapsed_sections": []
    },
    "kernelspec": {
      "name": "python3",
      "display_name": "Python 3"
    }
  },
  "cells": [
    {
      "cell_type": "markdown",
      "metadata": {
        "id": "GzSCPtLAiSVL",
        "colab_type": "text"
      },
      "source": [
        "# Introduction & The way of the program\n",
        "\n",
        "## Programming Fundamentals (NB01)\n",
        "\n",
        "### MIEIC/2019-20\n",
        "\n",
        "#### João Correia Lopes\n",
        "\n",
        "INESC TEC, FEUP"
      ]
    },
    {
      "cell_type": "markdown",
      "metadata": {
        "id": "w7857I20jvwB",
        "colab_type": "text"
      },
      "source": [
        "## Goals\n",
        "\n",
        "By the end of this class, the student should be able to:\n",
        "\n",
        "- Describe the goals, methods and assessment of the Unit \n",
        "- Describe introductory concepts on Problem solving, Algorithms and Programming Languages \n",
        "- Describe the concepts of program, errors and debugging"
      ]
    },
    {
      "cell_type": "markdown",
      "metadata": {
        "id": "LcIbekB4uK5-",
        "colab_type": "text"
      },
      "source": [
        "## Bibliography\n",
        "\n",
        "* J. Correia Lopes, *Description of Course Unit*, September 2018, available at content Wiki \n",
        "[EN](https://web.fe.up.pt/~jlopes/doku.php/teach/fpro/sheet) and\n",
        "[PT](https://web.fe.up.pt/~jlopes/doku.php/teach/fpro/ficha)\n",
        "\n",
        "* Peter Wentworth, Jeffrey Elkner, Allen B. Downey, and Chris Meyers, *How to Think Like a Computer Scientist — Learning with Python 3*, 2012 (Chapter 1)\n",
        "\n"
      ]
    },
    {
      "cell_type": "markdown",
      "metadata": {
        "id": "qMKn533Illri",
        "colab_type": "text"
      },
      "source": [
        "# Presentation of the Course"
      ]
    },
    {
      "cell_type": "markdown",
      "metadata": {
        "id": "32DKGwBZmktU",
        "colab_type": "text"
      },
      "source": [
        "## Unit Goals\n",
        "\n",
        "> The global aim of this Unit is to give the student the ability to \n",
        "create algorithms, and to use a programming anguage to implement, \n",
        "test, and debug algorithms for solving simple problems. \n",
        "\n",
        "\n",
        "> The student will be able to understand and use the fundamental\n",
        "programming constructs, and the Functional approach to\n",
        "programming, specifically effect-free programming where function\n",
        "calls have no side-effects and variables are immutable, and\n",
        "contrast it with the Imperative approach. \n",
        "\n",
        "https://web.fe.up.pt/~jlopes/doku.php/teach/fpro/sheet >>"
      ]
    },
    {
      "cell_type": "markdown",
      "metadata": {
        "id": "JqdyvF0wm9Xl",
        "colab_type": "text"
      },
      "source": [
        "## Bibliography\n",
        "\n",
        "main>\n",
        "\n",
        "* Peter Wentworth, Jeffrey Elkner, Allen B. Downey, and Chris Meyers, _How to Think Like a Computer Scientist — Learning with Python 3_, 2012 \n",
        "[[PDF 2019](https://media.readthedocs.org/pdf/howtothink/latest/howtothink.pdf)] \n",
        "[[HTML](http://openbookproject.net/thinkcs/python/english3e/)]\n",
        "\n",
        "more>\n",
        "\n",
        "* David Mertz, _Functional Programming in Python_, O’Reilly Media, 2015\n",
        "[[PDF](http://www.devlang.com/static/s17/cse294/functional-prog-in-python.pdf)]\n",
        "* Brad Miller and David Ranum, _Learning with Python: Interactive Edition_. Based on material by Jeffrey Elkner, Allen B. Downey, and Chris Meyers \n",
        "[[HTML][http://interactivepython.org/runestone/static/CS152f17/index.html#]]\n",
        "* Steven F. Lott, _Building Skills in Python - A Programmer's Introduction to Python_, FreeTechBooks, 2010 \n",
        "[[HTML](http://interactivepython.org/runestone/static/CS152f17/index.html)]\n",
        "* Ernesto Costa, _Programação em Python – Fundamentos e Resolução de Problemas_. FCA – Editora de Informática, 2015. ISBN: 978-972-722-816-4 \n",
        "[[Library](http://catalogo.up.pt/F/-?func=find-b&local_base=FEUP&find_code=SYS&request=000585384)]\n",
        "\n"
      ]
    },
    {
      "cell_type": "markdown",
      "metadata": {
        "id": "bY9nga3Cq9Oj",
        "colab_type": "text"
      },
      "source": [
        "## Assessment\n",
        "\n",
        "### Eligibility for exams\n",
        "\n",
        ">  Students are eligible for the final theory evaluation (TE), if they do not exceed the absences limit (**25% of the total number of estimated recitation classes**) and if they obtain a minimum of 40% at least in one of the two last practical on computer evaluations (**MAX(PE04, PE05) >= 40%**). \n",
        "\n",
        "### Calculation formula of final grade\n",
        "\n",
        "> LE = Lecture in-class evaluation\n",
        "\n",
        "> RE = Recitation and away weekly evaluation\n",
        "\n",
        "> PE = Practical on computer evaluation: **Individual** programming assignments\n",
        "\n",
        "> TE = Theory evaluation: **Individual** multiple-choice questions about programming concepts\n",
        "\n",
        "> Final classification: $10\\% LE + 10\\% RE + 50\\% PE + 30\\% TE$\n",
        "\n",
        "\n",
        "[Read the full story](https://web.fe.up.pt/~jlopes/doku.php/teach/fpro/sheet#eligibility_for_exams) >>"
      ]
    },
    {
      "cell_type": "markdown",
      "metadata": {
        "id": "tW_J7AXyvihB",
        "colab_type": "text"
      },
      "source": [
        "# Computers, Algorithms and Programs\n"
      ]
    },
    {
      "cell_type": "markdown",
      "metadata": {
        "id": "SkWLiSnxv6vD",
        "colab_type": "text"
      },
      "source": [
        "## Computer Scientists\n",
        "\n",
        "\n",
        "- Like **mathematicians**, computer scientists use formal languages to denote ideas (specifically computations). \n",
        "\n",
        "- Like **engineers**, they design things, assembling components into systems and evaluating tradeoffs among alternatives. \n",
        "\n",
        "- Like **scientists**, they observe the behavior of complex systems, form hypotheses, and test predictions.\n",
        "    "
      ]
    },
    {
      "cell_type": "markdown",
      "metadata": {
        "id": "3MHNy0jmv-nt",
        "colab_type": "text"
      },
      "source": [
        "## Computational thinking\n",
        "\n",
        ". \n",
        "\n",
        "![Computational thinking](images/01/comp-thinking.png)\n",
        "\n",
        ".\n",
        "\n",
        "\n",
        "[BBC, Bitsize, Introduction to computational thinking](https://www.bbc.com/bitesize/guides/zp92mp3/revision/1)"
      ]
    },
    {
      "cell_type": "markdown",
      "metadata": {
        "id": "4rp6P30kvxtU",
        "colab_type": "text"
      },
      "source": [
        "## Problem solving\n",
        "\n",
        "The single most important skill for a computer scientist is **problem solving**.\n",
        "\n",
        "* Problem solving means the ability to formulate problems, think creatively about solutions, and express a solution clearly and accurately\n",
        "\n",
        "* The process of learning to program is an excellent opportunity to practice problem-solving skills.\n",
        "\n"
      ]
    },
    {
      "cell_type": "markdown",
      "metadata": {
        "id": "hv3EiREtzX9z",
        "colab_type": "text"
      },
      "source": [
        "## Algorithm\n",
        "\n",
        "| A set of specific steps for solving a category of problems\n",
        "\n",
        "| **steps + flow + stop decision**"
      ]
    },
    {
      "cell_type": "markdown",
      "metadata": {
        "id": "dJSvRzc_zsqw",
        "colab_type": "text"
      },
      "source": [
        "## The computer architecture\n",
        "\n",
        "![The von neumann architecture](images/01/)\n",
        "\n",
        "https://www.computerscience.gcse.guru/theory/von-neumann-architecture >>"
      ]
    },
    {
      "cell_type": "markdown",
      "metadata": {
        "id": "skAwoFxG0TBE",
        "colab_type": "text"
      },
      "source": [
        "## High-level languages\n",
        "\n",
        "- Low-level languages (machine languages or assembly languages),\n",
        "    are the only languages a computer executes; \n",
        "    \n",
        "- Thus, programs written in a high-level language have to be\n",
        "    translated into something \\emph{more suitable} before they can run;\n",
        "    \n",
        "- Python is an example of a high-level language; \n",
        "\n",
        "- Other high-level languages you might have heard of are C++,\n",
        "    JavaScript, PHP, Pascal, C#, and Java.\n",
        "    \n",
        " "
      ]
    },
    {
      "cell_type": "markdown",
      "metadata": {
        "id": "hiwgjkBw0pDm",
        "colab_type": "text"
      },
      "source": [
        "## Python Interpreter\n",
        "\n",
        "There are two ways to use it: \n",
        "\n",
        "- In *immediate mode*, you type Python expressions into the Python\n",
        "    Interpreter window, and the interpreter immediately shows the result;\n",
        "\n",
        "- In *script mode*, you can write a program in a file and use the\n",
        "    interpreter to execute the contents of the file.\n",
        "\n",
        "[Spyder3](https://pythonhosted.org/spyder/) >>"
      ]
    },
    {
      "cell_type": "markdown",
      "metadata": {
        "id": "b0Nbon_Z1Z6y",
        "colab_type": "text"
      },
      "source": [
        "# The way of the program"
      ]
    },
    {
      "cell_type": "markdown",
      "metadata": {
        "id": "Eo3uP8Je1eoT",
        "colab_type": "text"
      },
      "source": [
        "## Python\n",
        "\n",
        "\n",
        "```python\n",
        "#!/usr/bin/env python3\n",
        "\n",
        "import datetime\n",
        "now = datetime.datetime.now()\n",
        "\n",
        "print()\n",
        "print(\"Current date and time using str method of datetime object:\")\n",
        "print()\n",
        "print(str(now))\n",
        "\n",
        "print()\n",
        "print(\"Current date and time using instance attributes:\")\n",
        "print()\n",
        "print(\"Current year: %d\" % now.year)\n",
        "print(\"Current month: %d\" % now.month)\n",
        "print(\"Current day: %d\" % now.day)\n",
        "print(\"Current hour: %d\" % now.hour)\n",
        "print(\"Current minute: %d\" % now.minute)\n",
        "print(\"Current second: %d\" % now.second)\n",
        "print(\"Current microsecond: %d\" % now.microsecond)\n",
        "\n",
        "print()\n",
        "print(\"Current date and time using strftime:\")\n",
        "print(now.strftime(\"%Y-%m-%d %H:%M\"))\n",
        "\n",
        "```\n",
        "\n",
        "https://github.com/fpro-admin/lectures/blob/master/01/basics.py"
      ]
    },
    {
      "cell_type": "markdown",
      "metadata": {
        "id": "QB3dx-Jo3L80",
        "colab_type": "text"
      },
      "source": [
        "## 1.1 The Python programming language\n",
        "\n",
        "- Python is an interpreted high-level programming language for\n",
        "    general-purpose programming\n",
        "\n",
        "- Created by Guido van Rossum and first released in 1991,\n",
        "\n",
        "- Python has a design philosophy that emphasizes code\n",
        "    readability, notably using significant whitespace.\n",
        "\n",
        "- It provides constructs that enable clear programming on both\n",
        "    small and large scales\n",
        "\n",
        "- Python features a dynamic type system and automatic memory\n",
        "    management\n",
        "\n",
        "- It supports multiple programming paradigms, including\n",
        "    imperative, functional, procedural and object-oriented\n",
        "- It has a large and comprehensive standard library\n"
      ]
    },
    {
      "cell_type": "markdown",
      "metadata": {
        "id": "YNKNDIZm3rTg",
        "colab_type": "text"
      },
      "source": [
        "## 1.2 What is a program?\n",
        "\n",
        "- A program is a sequence of instructions that specifies how to\n",
        "    perform a computation\n",
        "\n",
        "- A few basic instructions appear in just about every language:\n",
        "\n",
        "  * **input**: Get data from the keyboard, a file, or some other\n",
        "      device (such as a sensor) \n",
        "\n",
        "  * **output**: Display data on the screen or send data to a file\n",
        "      or other device (such as a motor)\n",
        "\n",
        "  * **math**: Perform basic mathematical operations like addition\n",
        "      and multiplication \n",
        "\n",
        "  * **conditional execution**: Check for certain conditions and\n",
        "      execute the appropriate sequence of statements \n",
        "\n",
        "  * **repetition**: Perform some action repeatedly, usually with\n",
        "      some variation "
      ]
    }
  ]
}