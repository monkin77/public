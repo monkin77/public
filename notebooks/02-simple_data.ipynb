{
  "nbformat": 4,
  "nbformat_minor": 0,
  "metadata": {
    "colab": {
      "name": "02-simple-data.ipynb",
      "provenance": [],
      "private_outputs": true,
      "collapsed_sections": [],
      "toc_visible": true
    },
    "kernelspec": {
      "name": "python3",
      "display_name": "Python 3"
    }
  },
  "cells": [
    {
      "cell_type": "markdown",
      "metadata": {
        "id": "8z5cONg8rUrX",
        "colab_type": "text"
      },
      "source": [
        "# Data, Variables Expressions and Statements\n",
        "\n",
        "## Programming Fundamentals (NB02)\n",
        "\n",
        "### MIEIC/2019-20\n",
        "\n",
        "#### João Correia Lopes\n",
        "\n",
        "INESC TEC, FEUP"
      ]
    },
    {
      "cell_type": "markdown",
      "metadata": {
        "id": "MZzE7pYorju5",
        "colab_type": "text"
      },
      "source": [
        "## Goals\n",
        "\n",
        "---\n",
        "\n",
        "By the end of this class, the student should be able to:\n",
        "\n",
        "- Describe and distinguish the concepts of variable, location, value, type\n",
        "\n",
        "- Identify the Python reserved words\n",
        "\n",
        "- Describe the concepts of statement and expression\n",
        "\n",
        "- Identify some of the Python operands and their precedence\n",
        "\n",
        "- Use operators with suitable operands\n",
        "\n",
        "- Describe the Python cast operations and use them\n",
        "\n",
        "- *Describe* how to get input, at runtime, from an user of the program"
      ]
    },
    {
      "cell_type": "markdown",
      "metadata": {
        "id": "eR5Lh1jNroE2",
        "colab_type": "text"
      },
      "source": [
        "## Bibliography\n",
        "\n",
        "---\n",
        "\n",
        "* Peter Wentworth, Jeffrey Elkner, Allen B. Downey, and Chris Meyers, *How to Think Like a Computer Scientist — Learning with Python 3* (Chapter 2)\n",
        "[[PDF 2019](https://media.readthedocs.org/pdf/howtothink/latest/howtothink.pdf)] \n",
        "[[HTML](http://openbookproject.net/thinkcs/python/english3e/)]\n",
        "\n",
        "* Brad Miller and David Ranum, *How to Think Like a Computer Scientist: Interactive Edition*. (Chapter 2)\n",
        "    [[HTML](https://runestone.academy/runestone/books/published/thinkcspy/SimplePythonData/toctree.html)]"
      ]
    },
    {
      "cell_type": "markdown",
      "metadata": {
        "id": "pPfDMznP1B1k",
        "colab_type": "text"
      },
      "source": [
        "# Simple Python Data\n"
      ]
    },
    {
      "cell_type": "markdown",
      "metadata": {
        "id": "sWBpWyCZ1GY-",
        "colab_type": "text"
      },
      "source": [
        "## Python\n",
        "\n",
        "$\\Rightarrow$ \n",
        "https://github.com/fpro-feup/public/blob/master/lectures/01/basics.py\n",
        "\n",
        "```python\n",
        "#!/usr/bin/env python3\n",
        "\n",
        "import datetime\n",
        "now = datetime.datetime.now()\n",
        "\n",
        "print()\n",
        "print(\"Current date and time using str method of datetime object:\")\n",
        "print()\n",
        "print(str(now))\n",
        "\n",
        "print()\n",
        "print(\"Current date and time using instance attributes:\")\n",
        "print()\n",
        "print(\"Current year: %d\" % now.year)\n",
        "print(\"Current month: %d\" % now.month)\n",
        "print(\"Current day: %d\" % now.day)\n",
        "print(\"Current hour: %d\" % now.hour)\n",
        "print(\"Current minute: %d\" % now.minute)\n",
        "print(\"Current second: %d\" % now.second)\n",
        "print(\"Current microsecond: %d\" % now.microsecond)\n",
        "\n",
        "print()\n",
        "print(\"Current date and time using strftime:\")\n",
        "print(now.strftime(\"%Y-%m-%d %H:%M\"))\n",
        "\n",
        "```"
      ]
    },
    {
      "cell_type": "markdown",
      "metadata": {
        "id": "MagKTtyv1QlU",
        "colab_type": "text"
      },
      "source": [
        "## 2.1 Values and data types\n",
        "\n",
        "---\n",
        "\n",
        "Values and data types\n",
        "\n",
        "-   A **value** is one of the fundamental things that a program\n",
        "    manipulates\n",
        "\n",
        "-   Values are classified into different classes, or **data types**\n",
        "\n",
        "-   **type()** is a function that tell us the type of a value"
      ]
    },
    {
      "cell_type": "markdown",
      "metadata": {
        "id": "4O8qqdlx2kHp",
        "colab_type": "text"
      },
      "source": [
        ""
      ]
    },
    {
      "cell_type": "markdown",
      "metadata": {
        "id": "ez_5o9ir2oDq",
        "colab_type": "text"
      },
      "source": [
        "## 2.2 Variables\n",
        "\n",
        "---\n",
        "\n",
        "-   A variable is a **name** that refers to a **value**\n",
        "\n",
        "-   The **assignment statement** gives a value to a variable\n",
        "\n",
        "-   The assignment statement binds a *name*, on the left-hand side of\n",
        "    the operator, to a *value*, on the right-hand side\n",
        "\n",
        "-   Later, one can assign a different value to the same variable (this\n",
        "    is different from maths!)\n",
        "\n",
        "-   The assignment token, `=`, should not be confused with the equals\n",
        "    token, `==`\n",
        "\n",
        "$\\Rightarrow$ \n",
        "[Visualise a **state snapshot**](http://www.pythontutor.com/visualize.html#mode=edit)\n"
      ]
    },
    {
      "cell_type": "markdown",
      "metadata": {
        "id": "lEU7DVfQ3Dcr",
        "colab_type": "text"
      },
      "source": [
        "## 2.3 Variable names and keywords\n",
        "\n",
        "---\n",
        "\n",
        "### Variable names\n",
        "\n",
        "-   **Variable names** can be arbitrarily long\n",
        "\n",
        "-   They can contain both letters and digits, but they have to begin\n",
        "    with a letter or an underscore\n",
        "\n",
        "-   It is legal to use uppercase letters, but it is not done (by\n",
        "    convention)\n",
        "\n",
        "-   Names should be \"meaningful to the human readers\" (not to be\n",
        "    confused with \"meaningful to the computer\")\n"
      ]
    },
    {
      "cell_type": "markdown",
      "metadata": {
        "id": "Ndal8aHn3Lej",
        "colab_type": "text"
      },
      "source": [
        "### Keywords\n",
        "\n",
        "-   Keywords define the language's syntax rules and structure\n",
        "\n",
        "-   They cannot be used as variable names\n",
        "\n",
        "| and     | as    | assert | break    | class  | continue |\n",
        "|:--------|:------|:-------|:---------|:-------|:---------|\n",
        "| def     | del   | elif   | else     | except | exec     |\n",
        "| finally | for   | from   | global   | if     | import   |\n",
        "| in      | is    | lambda | nonlocal | not    | or       |\n",
        "| pass    | raise | return | try      | while  | with     |\n",
        "| yield   | True  | False  | None     |        |          |\n",
        "          "
      ]
    },
    {
      "cell_type": "markdown",
      "metadata": {
        "id": "GzAzTYG63qTF",
        "colab_type": "text"
      },
      "source": [
        "## 2.4 Statements\n",
        "\n",
        "---\n",
        "\n",
        "-   A **statement** is an instruction that the Python interpreter can\n",
        "    execute\n",
        "\n",
        "-   Statements don't produce any result\n",
        "\n",
        "-   Further to the assignment statement, there are others (`while`\n",
        "    statements, `for` statements, `if` statements, `import` statements)\n"
      ]
    },
    {
      "cell_type": "markdown",
      "metadata": {
        "id": "1vWbvpEA3yxE",
        "colab_type": "text"
      },
      "source": [
        "## 2.5 Evaluating expressions\n",
        "\n",
        "---\n",
        "\n",
        "-   An **expression** is a combination of values, variables, operators,\n",
        "    and calls to functions\n",
        "\n",
        "-   The Python interpreter evaluates expressions and displays its result\n",
        "    (a value)\n",
        "\n",
        "-   A value all by itself is a simple expression, and so is a variable\n"
      ]
    },
    {
      "cell_type": "markdown",
      "metadata": {
        "id": "CjmNjO7K38mG",
        "colab_type": "text"
      },
      "source": [
        "## 2.6 Operators and operands\n",
        "\n",
        "---\n",
        "\n",
        "-   **Operators** are special tokens that represent computations like\n",
        "    addition, multiplication and division\n",
        "\n",
        "-   The values the operator uses are called **operands**\n",
        "\n",
        "-   When a variable name appears in the place of an operand, it is\n",
        "    replaced with its value before the operation is performed\n",
        "\n",
        "-   Operations in Python (`+`, `-`, `/`) mean what they mean in\n",
        "    mathematics\n",
        "\n",
        "-   Asterisk ( `*` ) is the token for multiplication, and `**` is the\n",
        "    token for exponentiation\n",
        "\n"
      ]
    },
    {
      "cell_type": "markdown",
      "metadata": {
        "id": "3xse6J8l4E5J",
        "colab_type": "text"
      },
      "source": [
        "## 2.7 Type converter functions\n",
        "\n",
        "---\n",
        "\n",
        "-   Type converter functions `int()`, `float()` and `str()`\n",
        "\n",
        "-   will (attempt to) convert their arguments into types `int`, `float`\n",
        "    and `str` respectively\n"
      ]
    },
    {
      "cell_type": "markdown",
      "metadata": {
        "id": "NLkBO8bl4MtV",
        "colab_type": "text"
      },
      "source": [
        "## 2.8 Order of operations\n",
        "\n",
        "---\n",
        "\n",
        "-   When more than one operator appears in an expression, the order of\n",
        "    evaluation depends on the rules of precedence\n",
        "\n",
        "-   Python follows the same precedence rules for its mathematical\n",
        "    operators that mathematics does (PEMDAS)\n",
        "\n",
        "-   Operators with the same precedence are evaluated from left-to-right\n",
        "    (*left-associative*)\n",
        "\n",
        "-   An exception to the left-to-right left-associative rule is the\n",
        "    exponentiation operator `**`"
      ]
    },
    {
      "cell_type": "markdown",
      "metadata": {
        "id": "4S79Tply4SCl",
        "colab_type": "text"
      },
      "source": [
        "## 2.9 Operations on strings\n",
        "\n",
        "---\n",
        "\n",
        "-   One cannot perform mathematical operations on strings, even if the\n",
        "    strings look like numbers\n",
        "\n",
        "-   The `+` operator represents concatenation, not addition\n",
        "\n",
        "-   The `*` operator also works on strings; it performs repetition\n"
      ]
    },
    {
      "cell_type": "markdown",
      "metadata": {
        "id": "JhAHpRed4fHw",
        "colab_type": "text"
      },
      "source": [
        "## 2.10 Input\n",
        "\n",
        "---\n",
        "\n",
        "-   There is a built-in function in Python, `input()`, for getting input\n",
        "    from the user\n",
        "\n",
        "-   The user of the program can enter the input and click OK\n",
        "\n",
        "-   The `input()` function always return a string (without the new-line)\n"
      ]
    },
    {
      "cell_type": "markdown",
      "metadata": {
        "id": "nl2HIiIy5e12",
        "colab_type": "text"
      },
      "source": [
        "## 2.11 Composition\n",
        "\n",
        "---\n",
        "\n",
        "-   One of the most useful features of programming languages is their\n",
        "    ability to take small building blocks and **compose** them into\n",
        "    larger chunks.\n",
        "\n",
        "-   Let's do four-step program that asks the user to input a value for\n",
        "    the radius of a circle, and then computes the area of the circle\n",
        "    from the formula $\\pi r^{2}$\n",
        "\n",
        ".\n",
        "\n",
        "-   TIP: try to make code as simple as you can for the human to follow\n",
        "\n",
        "$\\Rightarrow$\n",
        "<https://github.com/fpro-feup/public/tree/master/lectures/02/area.py>"
      ]
    },
    {
      "cell_type": "markdown",
      "metadata": {
        "id": "LuWB8wa16xHw",
        "colab_type": "text"
      },
      "source": [
        "## 2.12 The modulus operator\n",
        "\n",
        "---\n",
        "\n",
        "- The **modulus operator** works on integers (and integer expressions)\n",
        "\n",
        "- and gives the remainder when the first number is divided by the\n",
        "    second\n",
        "\n",
        "- In Python, the modulus operator is a percent sign (`%`)\n",
        "\n",
        "- It has the same precedence as the multiplication operator\n",
        "\n",
        "\n",
        "$\\Rightarrow$\n",
        "<https://github.com/fpro-feup/public/tree/master/lectures/02/remainder.py>\n",
        "\n"
      ]
    },
    {
      "cell_type": "markdown",
      "metadata": {
        "id": "kiX4OWRo7HAa",
        "colab_type": "text"
      },
      "source": [
        "# Ticket to Leave"
      ]
    },
    {
      "cell_type": "markdown",
      "metadata": {
        "id": "WFz9dmO07Tes",
        "colab_type": "text"
      },
      "source": [
        "## Moodle activity\n",
        "\n",
        "---\n",
        "\n",
        "[LE02: Simple Python Data](https://moodle.up.pt/mod/quiz/view.php?id=27079)"
      ]
    },
    {
      "cell_type": "markdown",
      "metadata": {
        "id": "4NDZSZIG7Rid",
        "colab_type": "text"
      },
      "source": [
        "\n",
        "$\\Rightarrow$ \n",
        "[Go back to the Table of Contents](00-contents.ipynb)"
      ]
    }
  ]
}