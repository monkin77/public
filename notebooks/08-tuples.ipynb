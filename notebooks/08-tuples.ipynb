{
  "nbformat": 4,
  "nbformat_minor": 0,
  "metadata": {
    "colab": {
      "name": "08-tuples.ipynb",
      "provenance": [],
      "private_outputs": true,
      "collapsed_sections": [
        "Zz-UtV8ORH_t"
      ],
      "toc_visible": true
    },
    "kernelspec": {
      "name": "python3",
      "display_name": "Python 3"
    }
  },
  "cells": [
    {
      "cell_type": "markdown",
      "metadata": {
        "id": "8z5cONg8rUrX",
        "colab_type": "text"
      },
      "source": [
        "# Tuples\n",
        "\n",
        "## Programming Fundamentals (NB08)\n",
        "\n",
        "### MIEIC/2019-20\n",
        "\n",
        "#### João Correia Lopes\n",
        "\n",
        "INESC TEC, FEUP"
      ]
    },
    {
      "cell_type": "markdown",
      "metadata": {
        "id": "MZzE7pYorju5",
        "colab_type": "text"
      },
      "source": [
        "## Goals\n",
        "\n",
        "By the end of this class, the student should be able to:\n",
        "\n",
        "- Describe how to work with tuples\n",
        "\n",
        "- Enumerate the main methods available to work with tuples"
      ]
    },
    {
      "cell_type": "markdown",
      "metadata": {
        "id": "eR5Lh1jNroE2",
        "colab_type": "text"
      },
      "source": [
        "## Bibliography\n",
        "\n",
        "- Peter Wentworth, Jeffrey Elkner, Allen B. Downey, and Chris Meyers, *How to Think Like a Computer Scientist — Learning with Python 3* (Section 5.2)\n",
        "\n",
        "- Brad Miller and David Ranum, Learning with Python: Interactive Edition. Based on material by Jeffrey Elkner, Allen B. Downey, and Chris Meyers (Section 10.26, Section 10.27, Section 10.28)\n"
      ]
    },
    {
      "cell_type": "markdown",
      "metadata": {
        "id": "BtTUKvPBUlYl",
        "colab_type": "text"
      },
      "source": [
        "# Data types: Tuples"
      ]
    },
    {
      "cell_type": "markdown",
      "metadata": {
        "id": "TsVUpnGjVs0o",
        "colab_type": "text"
      },
      "source": [
        "## 5.1.1 A compound data type"
      ]
    },
    {
      "cell_type": "markdown",
      "metadata": {
        "id": "NT1rxQU-Wdpe",
        "colab_type": "text"
      },
      "source": [
        "### A compound data type (recap)\n",
        "\n",
        "- So far we have seen built-in types like `int`, `float`, `bool`,\n",
        "    `str` and we've seen lists and pairs\n",
        "\n",
        "- Strings, lists, and **tuples** are qualitatively different from the\n",
        "    others because they are made up of smaller pieces\n",
        "\n",
        "- **Tuples group any number of items, of different types, into a single\n",
        "    compound value**\n",
        "\n",
        "- Types that comprise smaller pieces are called **collection** or\n",
        "    **compound data types**\n",
        "\n",
        "- Depending on what we are doing, we may want to treat a compound data\n",
        "    type as a single thing"
      ]
    },
    {
      "cell_type": "markdown",
      "metadata": {
        "id": "6L50SN3EVwYs",
        "colab_type": "text"
      },
      "source": [
        "## 5.2.1 Tuples are used for grouping data"
      ]
    },
    {
      "cell_type": "markdown",
      "metadata": {
        "id": "6nPYjl2bW2ji",
        "colab_type": "text"
      },
      "source": [
        "### Tuples are used for grouping data\n",
        "\n",
        "- A **data structure** is a mechanism for grouping and organizing data\n",
        "    to make it easier to use\n",
        "\n",
        "- We saw earlier that we could group together pairs of values:\n",
        "\n",
        "```\n",
        "  >>> year_born = (\"Paris Hilton\", 1981)\n",
        "  \n",
        "```\n",
        "\n",
        "- The pair is an example of a **tuple**"
      ]
    },
    {
      "cell_type": "markdown",
      "metadata": {
        "id": "zwy-6598W7Fk",
        "colab_type": "text"
      },
      "source": [
        "\n",
        "- Generalizing this, a tuple can be used to group any number of items\n",
        "    into a single compound value\n",
        "\n",
        "```\n",
        "  >>> julia = (\"Julia\", \"Roberts\", 1967, \"Duplicity\", 2009, \"Actress\", \"Atlanta, Georgia\")\n",
        "  >>> \n",
        "  >>> empty_tuple = ()\n",
        "  \n",
        "```"
      ]
    },
    {
      "cell_type": "code",
      "metadata": {
        "id": "Ez712vc-xYjy",
        "colab_type": "code",
        "colab": {}
      },
      "source": [
        "empty_tuple = ()\n",
        "type(())"
      ],
      "execution_count": 0,
      "outputs": []
    },
    {
      "cell_type": "markdown",
      "metadata": {
        "id": "gnnnpMGWXMox",
        "colab_type": "text"
      },
      "source": [
        "### Operations on Tuples\n",
        "\n",
        "- A tuple lets us \"chunk\" together related information and use it as a\n",
        "    single thing\n",
        "\n",
        "- Tuples support the same sequence operations as strings\n",
        "\n",
        "- The index operator selects an element from a tuple\n",
        "\n",
        "$\\Rightarrow$\n",
        "<https://github.com/fpro-feup/public/tree/master/lectures/08/tmethods.py>\n"
      ]
    },
    {
      "cell_type": "markdown",
      "metadata": {
        "id": "oOBZpj6Cdf8I",
        "colab_type": "text"
      },
      "source": [
        "What is the output?"
      ]
    },
    {
      "cell_type": "code",
      "metadata": {
        "id": "nNJRybM1deZc",
        "colab_type": "code",
        "colab": {}
      },
      "source": [
        "tup = (5,)\n",
        "print(type(tup))"
      ],
      "execution_count": 0,
      "outputs": []
    },
    {
      "cell_type": "code",
      "metadata": {
        "id": "Iye_fIoydmeN",
        "colab_type": "code",
        "colab": {}
      },
      "source": [
        "x = (5)\n",
        "print(type(x))"
      ],
      "execution_count": 0,
      "outputs": []
    },
    {
      "cell_type": "code",
      "metadata": {
        "id": "miQIMvuPdqBt",
        "colab_type": "code",
        "colab": {}
      },
      "source": [
        "julia = (\"Julia\", \"Roberts\", 1967, \"Duplicity\", 2009, \"Actress\", \"Atlanta, Georgia\")\n",
        "print(julia)"
      ],
      "execution_count": 0,
      "outputs": []
    },
    {
      "cell_type": "markdown",
      "metadata": {
        "id": "11xtPDmHdwYF",
        "colab_type": "text"
      },
      "source": [
        "What about this?"
      ]
    },
    {
      "cell_type": "code",
      "metadata": {
        "id": "fGlS9uJXdu7L",
        "colab_type": "code",
        "colab": {}
      },
      "source": [
        "julia[0] = \"X\""
      ],
      "execution_count": 0,
      "outputs": []
    },
    {
      "cell_type": "code",
      "metadata": {
        "id": "2sCjsC21d2zE",
        "colab_type": "code",
        "colab": {}
      },
      "source": [
        "julia = julia[:3] + (\"Eat Pray Love\", 2010) + julia[5:]\n",
        "print(julia)"
      ],
      "execution_count": 0,
      "outputs": []
    },
    {
      "cell_type": "markdown",
      "metadata": {
        "id": "A_1f0_S9V1hD",
        "colab_type": "text"
      },
      "source": [
        "## 5.2.2 Tuple assignment"
      ]
    },
    {
      "cell_type": "markdown",
      "metadata": {
        "id": "5gLWwpvaXXGB",
        "colab_type": "text"
      },
      "source": [
        "### Tuple assignment\n",
        "\n",
        "- Python has a very powerful tuple assignment feature\n",
        "\n",
        "- Allows a tuple of variables on the left of an assignment to be\n",
        "    assigned values from a tuple on the right of the assignment\n",
        "\n",
        "```\n",
        "  (name, surname, year_born, movie, year_movie, profession, birthplace) = julia\n",
        "  \n",
        "```\n",
        "\n",
        "$\\Rightarrow$\n",
        "<https://github.com/fpro-feup/public/tree/master/lectures/08/tassign.py>"
      ]
    },
    {
      "cell_type": "markdown",
      "metadata": {
        "id": "mxOJ4d-geH3n",
        "colab_type": "text"
      },
      "source": [
        "Tuple packing:"
      ]
    },
    {
      "cell_type": "code",
      "metadata": {
        "id": "XZ_4QEMzeM2A",
        "colab_type": "code",
        "colab": {}
      },
      "source": [
        "bob = (\"Bob\", 19, \"CS\")\n",
        "print(bob)"
      ],
      "execution_count": 0,
      "outputs": []
    },
    {
      "cell_type": "markdown",
      "metadata": {
        "id": "ciJ_8N47ePBN",
        "colab_type": "text"
      },
      "source": [
        "Tuple unpacking:"
      ]
    },
    {
      "cell_type": "code",
      "metadata": {
        "id": "7jPRJmbmeWS5",
        "colab_type": "code",
        "colab": {}
      },
      "source": [
        "(name, age, studies) = bob\n",
        "print(name)\n",
        "print(age)\n",
        "print(studies)"
      ],
      "execution_count": 0,
      "outputs": []
    },
    {
      "cell_type": "markdown",
      "metadata": {
        "id": "J59bXBg53LuN",
        "colab_type": "text"
      },
      "source": [
        "Swap values:"
      ]
    },
    {
      "cell_type": "code",
      "metadata": {
        "id": "6_t1mki33CS2",
        "colab_type": "code",
        "colab": {}
      },
      "source": [
        "a = \"Gin\"\n",
        "b = \"tonic\"\n",
        "temp = a\n",
        "a = b\n",
        "b = temp\n",
        "print(a + \" \" + b)"
      ],
      "execution_count": 0,
      "outputs": []
    },
    {
      "cell_type": "markdown",
      "metadata": {
        "id": "swTCvz84eh7b",
        "colab_type": "text"
      },
      "source": [
        "Swap without using temp:"
      ]
    },
    {
      "cell_type": "code",
      "metadata": {
        "id": "zoqWHDtYen48",
        "colab_type": "code",
        "colab": {}
      },
      "source": [
        "a = \"Gin\"\n",
        "b = \"tonic\"\n",
        "(a, b) = (b, a)\n",
        "print(a + \" \" + b)"
      ],
      "execution_count": 0,
      "outputs": []
    },
    {
      "cell_type": "code",
      "metadata": {
        "id": "FHMMCOgc3hCl",
        "colab_type": "code",
        "colab": {}
      },
      "source": [
        "(one, two, three, four) = (1, 2, 3)"
      ],
      "execution_count": 0,
      "outputs": []
    },
    {
      "cell_type": "markdown",
      "metadata": {
        "id": "HcZLerLoV5nF",
        "colab_type": "text"
      },
      "source": [
        "## 5.2.3 Tuples as return values"
      ]
    },
    {
      "cell_type": "markdown",
      "metadata": {
        "id": "VG-PqgT3Xcfb",
        "colab_type": "text"
      },
      "source": [
        "### Tuples as return values\n",
        "\n",
        "- Functions can always only return a single value\n",
        "\n",
        "- By making that value a tuple, we can effectively group together as\n",
        "    many values as we like, and return them together\n",
        "\n",
        "$\\Rightarrow$\n",
        "<https://github.com/fpro-feup/public/tree/master/lectures/08/circle_stats.py>"
      ]
    },
    {
      "cell_type": "code",
      "metadata": {
        "id": "qwkkjy3P3oHh",
        "colab_type": "code",
        "colab": {}
      },
      "source": [
        "import math\n",
        "\n",
        "def circle_stats(r):\n",
        "    \"\"\" Return (circumference, area) of a circle of radius r \"\"\"\n",
        "    circumference = 2 * math.pi * r\n",
        "    area = math.pi * r * r\n",
        "    return (circumference, area)\n",
        "\n",
        "print(circle_stats(1))"
      ],
      "execution_count": 0,
      "outputs": []
    },
    {
      "cell_type": "markdown",
      "metadata": {
        "id": "MYn0cCQ7V9dI",
        "colab_type": "text"
      },
      "source": [
        "## 5.2.4 Composability of Data Structures"
      ]
    },
    {
      "cell_type": "markdown",
      "metadata": {
        "id": "7tC-I8E_Xe_D",
        "colab_type": "text"
      },
      "source": [
        "### Composability of Data Structures\n",
        "\n",
        "- Tuples items can themselves be other tuples\n",
        "\n",
        "- Tuples may be **heterogeneous**, meaning that they can be composed\n",
        "    of elements of different type\n",
        "\n",
        "```\n",
        "  julia_more_info = ( (\"Julia\", \"Roberts\"), (8, \"October\", 1967),\n",
        "                       \"Actress\", (\"Atlanta\", \"Georgia\"),\n",
        "                       [ (\"Duplicity\", 2009),\n",
        "                         (\"Notting Hill\", 1999),\n",
        "                         (\"Pretty Woman\", 1990),\n",
        "                         (\"Erin Brockovich\", 2000),\n",
        "                         (\"Eat Pray Love\", 2010),\n",
        "                         (\"Mona Lisa Smile\", 2003),\n",
        "                         (\"Oceans Twelve\", 2004) ])\n",
        "  \n",
        "```"
      ]
    },
    {
      "cell_type": "markdown",
      "metadata": {
        "id": "LjK_TkX3he5D",
        "colab_type": "text"
      },
      "source": [
        "### Traverse and index"
      ]
    },
    {
      "cell_type": "code",
      "metadata": {
        "id": "Xj4z9Q69giFd",
        "colab_type": "code",
        "colab": {}
      },
      "source": [
        "mps = ((\"Cleese\", \"John\"), (\"Gilliam\", \"Terry\"), (\"Idle\", \"Eric\"),\n",
        "       (\"Jones\", \"Terry\"), (\"Palin\", \"Michael\"))\n",
        "print(mps)"
      ],
      "execution_count": 0,
      "outputs": []
    },
    {
      "cell_type": "code",
      "metadata": {
        "id": "QiHyl0tCgtLP",
        "colab_type": "code",
        "colab": {}
      },
      "source": [
        "for pair in mps:\n",
        "    print(pair[1], pair[0])"
      ],
      "execution_count": 0,
      "outputs": []
    },
    {
      "cell_type": "code",
      "metadata": {
        "id": "faUcNQU4hD6s",
        "colab_type": "code",
        "colab": {}
      },
      "source": [
        "for p, value in enumerate(mps):\n",
        "    print(p, \":\", value[1], value[0])"
      ],
      "execution_count": 0,
      "outputs": []
    },
    {
      "cell_type": "markdown",
      "metadata": {
        "id": "deZhWfwxbPgi",
        "colab_type": "text"
      },
      "source": [
        "## Tuple comparison"
      ]
    },
    {
      "cell_type": "markdown",
      "metadata": {
        "id": "BCdxe2PDbT67",
        "colab_type": "text"
      },
      "source": [
        "### Tuple comparison\n",
        "\n",
        "- Sequences of the same type support comparisons\n",
        "- tuples (and lists) are compared lexicographically by comparing corresponding elements. \n",
        "- This means that to compare equal, every element must compare equal and the two sequences must be of the same type and have the same length.\n",
        "\n",
        "\n",
        "```\n",
        ">>> a = (1, 2, 3)\n",
        ">>> b = (1, 2, 5)\n",
        ">>> a < b\n",
        "```"
      ]
    },
    {
      "cell_type": "markdown",
      "metadata": {
        "id": "TpweoJX-dIx4",
        "colab_type": "text"
      },
      "source": [
        "Try this:"
      ]
    },
    {
      "cell_type": "code",
      "metadata": {
        "id": "sdIrWaZQc5Oz",
        "colab_type": "code",
        "colab": {}
      },
      "source": [
        "a = (2, 1, 3)\n",
        "b = (1, 2, 5)\n",
        "a < b"
      ],
      "execution_count": 0,
      "outputs": []
    },
    {
      "cell_type": "code",
      "metadata": {
        "id": "4Wv_2VSndAbw",
        "colab_type": "code",
        "colab": {}
      },
      "source": [
        "a = (2, 1)\n",
        "b = (1, 2, 5)\n",
        "a < b"
      ],
      "execution_count": 0,
      "outputs": []
    },
    {
      "cell_type": "code",
      "metadata": {
        "id": "sdsMY0CHdE49",
        "colab_type": "code",
        "colab": {}
      },
      "source": [
        "a = ()\n",
        "b = (1, 2, 5)\n",
        "a < b"
      ],
      "execution_count": 0,
      "outputs": []
    },
    {
      "cell_type": "markdown",
      "metadata": {
        "id": "dKS_qPS6WRl0",
        "colab_type": "text"
      },
      "source": [
        "## Tuple operations"
      ]
    },
    {
      "cell_type": "markdown",
      "metadata": {
        "id": "Wd7sWnFcXrt_",
        "colab_type": "text"
      },
      "source": [
        "### Updating Tuples\n",
        "\n",
        "- Tuples are **immutable**, which means you cannot update or change the\n",
        "    values of tuple elements\n",
        "\n",
        "- You are able to take portions of existing tuples to create new\n",
        "    tuples\n",
        "\n",
        "```\n",
        "  tup1 = (12, 34.56)\n",
        "\n",
        "  # Following action is not valid for tuples\n",
        "  # tup1[0] = 100\n",
        "\n",
        "  # So let's create a new tuple as follows\n",
        "  tup1 = (100,) + tup1[1:]\n",
        "  print(tup1)\n",
        "  \n",
        "```\n",
        "\n",
        "$\\Rightarrow$\n",
        "<https://github.com/fpro-feup/public/tree/master/lectures/08/tmore.py>"
      ]
    },
    {
      "cell_type": "code",
      "metadata": {
        "id": "_39IDiVA534z",
        "colab_type": "code",
        "colab": {}
      },
      "source": [
        "tup = (1000, 3.14159)\n",
        "print(tup)\n",
        "tup[0] = 100 # an ERROR!"
      ],
      "execution_count": 0,
      "outputs": []
    },
    {
      "cell_type": "code",
      "metadata": {
        "id": "I6whDqNi6D4_",
        "colab_type": "code",
        "colab": {}
      },
      "source": [
        "tup = (100,) + tup[1:]\n",
        "print(tup)"
      ],
      "execution_count": 0,
      "outputs": []
    },
    {
      "cell_type": "markdown",
      "metadata": {
        "id": "QIVD81fkXyhN",
        "colab_type": "text"
      },
      "source": [
        "### Common Sequence Operations\n",
        "\n",
        "- See the Python Standard Library for a comprehensive list of\n",
        "    operations on tuples (and other sequences)\n",
        "    \n",
        "[Common Sequence Operations](https://docs.python.org/3.7/library/stdtypes.html#common-sequence-operations)"
      ]
    },
    {
      "cell_type": "markdown",
      "metadata": {
        "id": "Zz-UtV8ORH_t",
        "colab_type": "text"
      },
      "source": [
        "# Ticket to leave"
      ]
    },
    {
      "cell_type": "markdown",
      "metadata": {
        "id": "C-hchAExRRVh",
        "colab_type": "text"
      },
      "source": [
        "## Moodle activity\n",
        "\n",
        "[LE08: Tuples](https://moodle.up.pt/mod/quiz/view.php?id=39214)"
      ]
    },
    {
      "cell_type": "markdown",
      "metadata": {
        "id": "uV1OP6ahRYne",
        "colab_type": "text"
      },
      "source": [
        "\n",
        "$\\Rightarrow$ \n",
        "[Go back to the Table of Contents](00-contents.ipynb)\n",
        "\n",
        "$\\Rightarrow$ \n",
        "[Read the Preface](00-preface.ipynb)"
      ]
    }
  ]
}