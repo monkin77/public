{
 "cells": [
  {
   "cell_type": "markdown",
   "metadata": {
    "colab_type": "text",
    "id": "8z5cONg8rUrX",
    "slideshow": {
     "slide_type": "slide"
    }
   },
   "source": [
    "# Iteration\n",
    "\n",
    "## Programming Fundamentals (NB04)\n",
    "\n",
    "### MIEIC/2019-20\n",
    "\n",
    "#### João Correia Lopes\n",
    "\n",
    "INESC TEC, FEUP"
   ]
  },
  {
   "cell_type": "markdown",
   "metadata": {
    "colab_type": "text",
    "id": "MZzE7pYorju5",
    "slideshow": {
     "slide_type": "subslide"
    }
   },
   "source": [
    "## Goals\n",
    "\n",
    "By the end of this class, the student should be able to:\n",
    "\n",
    "- Describe how to do iterations using `while` statements\n",
    "- Describe *middle-test* and *post-test* loops using the `break` and `continue` statements\n",
    "- Choose between `for` and `while` loops\n",
    "- Use nested loops for nested data (for example list of pairs)\n"
   ]
  },
  {
   "cell_type": "markdown",
   "metadata": {
    "colab_type": "text",
    "id": "eR5Lh1jNroE2",
    "slideshow": {
     "slide_type": "subslide"
    }
   },
   "source": [
    "## Bibliography\n",
    "\n",
    "- Peter Wentworth, Jeffrey Elkner, Allen B. Downey, and Chris Meyers, *How to Think Like a Computer Scientist — Learning with Python 3* (Section 3.3)\n",
    "\n",
    "- Brad Miller and David Ranum, Learning with Python: Interactive Edition. Based on material by Jeffrey Elkner, Allen B. Downey, and Chris Meyers (Chapter 8)\n"
   ]
  },
  {
   "cell_type": "markdown",
   "metadata": {
    "colab_type": "text",
    "id": "fxtTHNoKPrAL",
    "slideshow": {
     "slide_type": "slide"
    }
   },
   "source": [
    "# 3.3 Iteration"
   ]
  },
  {
   "cell_type": "markdown",
   "metadata": {
    "colab_type": "text",
    "id": "7OzPLY5nV86k",
    "slideshow": {
     "slide_type": "subslide"
    }
   },
   "source": [
    "## 3.3 Iteration\n",
    "----------------\n",
    "\n",
    "- Computers are often used to automate repetitive tasks\n",
    "\n",
    "- Repeating identical or similar tasks without making errors is\n",
    "    something that computers do well and people do poorly\n",
    "\n",
    "- Repeated execution of a set of statements is called **iteration**\n",
    "\n",
    "- Python provides several language features to make it easier\n",
    "\n",
    "    - We've already seen the `for` statement\n",
    "\n",
    "    - We're going to look at the `while` statement\n",
    "\n",
    "- Before we do that, let's just review a few ideas ..."
   ]
  },
  {
   "cell_type": "markdown",
   "metadata": {
    "colab_type": "text",
    "id": "RhCMFHvrPyx6",
    "slideshow": {
     "slide_type": "subslide"
    }
   },
   "source": [
    "## 3.3.1 Assignment\n",
    "================\n",
    "\n",
    "Hello"
   ]
  },
  {
   "cell_type": "markdown",
   "metadata": {
    "colab_type": "text",
    "id": "XipXFNAuWQ70",
    "slideshow": {
     "slide_type": "subslide"
    }
   },
   "source": [
    "## Assignment revisited\n",
    "\n",
    "- It is legal to make more than one assignment to the same variable\n",
    "\n",
    "- A new assignment makes an existing variable refer to a new value\n",
    "\n",
    "- Because Python uses the equal token (`=`) for assignment, it is\n",
    "    tempting to interpret a statement like `a = b` as a Boolean test.\n",
    "\n",
    "- Unlike mathematics, it is not!\n",
    "\n",
    "- Remember that the Python token for the equality operator is `==`\n",
    "\n",
    "$\\Rightarrow$\n",
    "<https://github.com/fpro-feup/public/blob/master/lectures/04/assignment.py>"
   ]
  },
  {
   "cell_type": "markdown",
   "metadata": {
    "colab_type": "text",
    "id": "kYshn-6hP14z"
   },
   "source": [
    "## 3.3.2 Updating variables\n"
   ]
  },
  {
   "cell_type": "markdown",
   "metadata": {
    "colab_type": "text",
    "id": "NwUYq0LNQIRp"
   },
   "source": [
    "## 3.3.3 The for loop revisited\n"
   ]
  },
  {
   "cell_type": "markdown",
   "metadata": {
    "colab_type": "text",
    "id": "Tsbev9rvQL85"
   },
   "source": [
    "## 3.3.4 The while statement\n"
   ]
  },
  {
   "cell_type": "markdown",
   "metadata": {
    "colab_type": "text",
    "id": "4-GaAHiSQPK9"
   },
   "source": [
    "## 3.3.5 The Collatz 3n + 1 sequence\n"
   ]
  },
  {
   "cell_type": "markdown",
   "metadata": {
    "colab_type": "text",
    "id": "WCWwKypCQSKK"
   },
   "source": [
    "## 3.3.7 Counting digits\n"
   ]
  },
  {
   "cell_type": "markdown",
   "metadata": {
    "colab_type": "text",
    "id": "8cKQ9WoyQVNw"
   },
   "source": [
    "## 3.3.9 Tables\n"
   ]
  },
  {
   "cell_type": "markdown",
   "metadata": {
    "colab_type": "text",
    "id": "aWq6u0nJQYPV"
   },
   "source": [
    "## 3.3.10 Two-dimensional tables\n"
   ]
  },
  {
   "cell_type": "markdown",
   "metadata": {
    "colab_type": "text",
    "id": "AzCJWn-hQcge"
   },
   "source": [
    "## 3.3.11 The `break` statement\n"
   ]
  },
  {
   "cell_type": "markdown",
   "metadata": {
    "colab_type": "text",
    "id": "AKZFku5HQhcz"
   },
   "source": [
    "## 3.3.12 Other flavours of loops\n"
   ]
  },
  {
   "cell_type": "markdown",
   "metadata": {
    "colab_type": "text",
    "id": "S4beccoDQksR"
   },
   "source": [
    "## 3.3.13 An example\n"
   ]
  },
  {
   "cell_type": "markdown",
   "metadata": {
    "colab_type": "text",
    "id": "loSntQunQn2a"
   },
   "source": [
    "## 3.3.14 The continue statement\n"
   ]
  },
  {
   "cell_type": "markdown",
   "metadata": {
    "colab_type": "text",
    "id": "A2hjV5qVQqvM"
   },
   "source": [
    "## 3.3.15 Paired Data\n"
   ]
  },
  {
   "cell_type": "markdown",
   "metadata": {
    "colab_type": "text",
    "id": "Lx7yW31wQt4G"
   },
   "source": [
    "## 3.3.16 Nested Loops for Nested Data\n"
   ]
  },
  {
   "cell_type": "markdown",
   "metadata": {
    "colab_type": "text",
    "id": "5Ce1EmdLQw91"
   },
   "source": [
    "## 3.3.17 Newton’s method for finding square roots\n"
   ]
  },
  {
   "cell_type": "markdown",
   "metadata": {
    "colab_type": "text",
    "id": "xTNGKjhcQzpU"
   },
   "source": [
    "## 3.3.18 Algorithms\n"
   ]
  },
  {
   "cell_type": "markdown",
   "metadata": {
    "colab_type": "text",
    "id": "Zz-UtV8ORH_t"
   },
   "source": [
    "# Ticket to leave"
   ]
  },
  {
   "cell_type": "markdown",
   "metadata": {
    "colab_type": "text",
    "id": "C-hchAExRRVh"
   },
   "source": [
    "## Moodle activity\n",
    "\n",
    "[LE04: Iteration](ttps://moodle.up.pt/mod/quiz/view.php?id=34868)"
   ]
  },
  {
   "cell_type": "markdown",
   "metadata": {
    "colab_type": "text",
    "id": "uV1OP6ahRYne"
   },
   "source": [
    "\n",
    "$\\Rightarrow$ \n",
    "[Go back to the Table of Contents](00-contents.ipynb)\n",
    "\n",
    "$\\Rightarrow$ \n",
    "[Read the Preface](00-preface.ipynb)"
   ]
  }
 ],
 "metadata": {
  "celltoolbar": "Slideshow",
  "colab": {
   "collapsed_sections": [],
   "name": "04-iteration.ipynb",
   "private_outputs": true,
   "provenance": [],
   "toc_visible": true
  },
  "kernelspec": {
   "display_name": "Python 3",
   "language": "python",
   "name": "python3"
  },
  "language_info": {
   "codemirror_mode": {
    "name": "ipython",
    "version": 3
   },
   "file_extension": ".py",
   "mimetype": "text/x-python",
   "name": "python",
   "nbconvert_exporter": "python",
   "pygments_lexer": "ipython3",
   "version": "3.7.3"
  }
 },
 "nbformat": 4,
 "nbformat_minor": 1
}
