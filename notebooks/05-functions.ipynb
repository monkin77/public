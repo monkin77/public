{
  "nbformat": 4,
  "nbformat_minor": 0,
  "metadata": {
    "colab": {
      "name": "05-functions.ipynb",
      "provenance": [],
      "private_outputs": true,
      "collapsed_sections": [],
      "toc_visible": true
    },
    "kernelspec": {
      "name": "python3",
      "display_name": "Python 3"
    }
  },
  "cells": [
    {
      "cell_type": "markdown",
      "metadata": {
        "id": "8z5cONg8rUrX",
        "colab_type": "text"
      },
      "source": [
        "# Functions\n",
        "\n",
        "## Programming Fundamentals (NB05)\n",
        "\n",
        "### MIEIC/2019-20\n",
        "\n",
        "#### João Correia Lopes\n",
        "\n",
        "FEUP/DEI and INESC TEC"
      ]
    },
    {
      "cell_type": "markdown",
      "metadata": {
        "id": "MZzE7pYorju5",
        "colab_type": "text"
      },
      "source": [
        "## Goals\n",
        "\n",
        "By the end of this class, the student should be able to:\n",
        "\n",
        "\n",
        "- Describe function definition and formal parameters\n",
        "\n",
        "- Describe function body and local variables\n",
        "\n",
        "- Describe function call, actual parameters or arguments and the flow\n",
        "    of execution\n",
        "\n",
        "- Describe void functions and fruitful functions that return values\n",
        "\n",
        "- Use the Python Help and understand its meta-notation\n",
        "\n",
        "- Describe the basics of program debugging\n"
      ]
    },
    {
      "cell_type": "markdown",
      "metadata": {
        "id": "eR5Lh1jNroE2",
        "colab_type": "text"
      },
      "source": [
        "## Bibliography\n",
        "\n",
        "- Peter Wentworth, Jeffrey Elkner, Allen B. Downey, and Chris Meyers, *How to Think Like a Computer Scientist — Learning with Python 3* (Chapter 4, Section 3.3.8)\n",
        "\n",
        "- Brad Miller and David Ranum, Learning with Python: Interactive Edition. Based on material by Jeffrey Elkner, Allen B. Downey, and Chris Meyers (Chapter 6, Chapter 3)\n"
      ]
    },
    {
      "cell_type": "markdown",
      "metadata": {
        "id": "5-x3RnJ0WpW5",
        "colab_type": "text"
      },
      "source": [
        "# Help & debug"
      ]
    },
    {
      "cell_type": "markdown",
      "metadata": {
        "id": "ZtOFJ3RaWIJi",
        "colab_type": "text"
      },
      "source": [
        "### 3.3.8 Help & Meta-notation\n",
        "\n",
        "- Python comes with extensive documentation for all its built-in\n",
        "    functions, and its libraries.\n",
        "\n",
        "- See for example\n",
        "    [[docs.python.org/3/library/\\...range](https://docs.python.org/3/library/stdtypes.html#typesseq-range)]\n",
        "    \n",
        "- The square brackets (in the description of the arguments) are\n",
        "    examples of *meta-notation* --- notation that describes Python\n",
        "    syntax, but is not part of it\n",
        "\n",
        "    -   `range([start,] stop [, step])`\n",
        "\n",
        "    -   `for variable in list :`\n",
        "\n",
        "    -   `print( [object, ... ] )`\n",
        "\n",
        "-   Meta-notation gives us a concise and powerful way to describe the\n",
        "    *pattern* of some syntax or feature."
      ]
    },
    {
      "cell_type": "markdown",
      "metadata": {
        "id": "2RRDA-HfW7Og",
        "colab_type": "text"
      },
      "source": [
        "### How to be a Successful Programmer\n",
        "\n",
        "- One of the most important skills you need to aquire is the ability\n",
        "    to debug your programs\n",
        "\n",
        "- Debugging is a skill that you need to master over time\n",
        "\n",
        "- As programmers we spend 99% of our time trying to get our program to\n",
        "    work\n",
        "\n",
        "- But here is the secret, when you are successful, you are happy, your\n",
        "    brain releases a bit of chemical that makes you feel good\n",
        "\n",
        "- **Start small, get something small working, and then add to it**\n"
      ]
    },
    {
      "cell_type": "markdown",
      "metadata": {
        "id": "KryyOvPAXDal",
        "colab_type": "text"
      },
      "source": [
        "### How to Avoid Debugging\n",
        "\n",
        "\n",
        ">Mantra: Get something working and keep it working\n",
        "\n",
        "- **Start Small**\n",
        "\n",
        "    - This is probably the single biggest piece of advice for\n",
        "        programmers at every level.\n",
        "\n",
        "- **Keep it working**\n",
        "\n",
        "    - Once you have a small part of your program working the next step\n",
        "        is to figure out something small to add to it.\n"
      ]
    },
    {
      "cell_type": "markdown",
      "metadata": {
        "id": "4VWan9AmXeWA",
        "colab_type": "text"
      },
      "source": [
        "### Beginning tips for Debugging\n",
        "\n",
        "Debugging a program is a different way of thinking than writing a\n",
        "program.\n",
        "\n",
        "The process of debugging is much more like being a detective.\n",
        "\n",
        "1. Everyone is a suspect (Except Python)!\n",
        "\n",
        "2. Find clues\n",
        "\n",
        "    -   Error messages\n",
        "\n",
        "    -   Print statements"
      ]
    },
    {
      "cell_type": "markdown",
      "metadata": {
        "id": "kqDH7CMXXk8h",
        "colab_type": "text"
      },
      "source": [
        "### Summary on debugging\n",
        "\n",
        "- Make sure you take the time to understand error messages\n",
        "\n",
        "    - They can help you a lot\n",
        "\n",
        "- `print` statements are your friends\n",
        "\n",
        "    - Use them to help you uncover what is **really** happening in\n",
        "        your code\n",
        "\n",
        "- Work backward from the error\n",
        "\n",
        "    - Many times an error message is caused by something that has\n",
        "        happened before it in the program\n",
        "\n",
        "    - Always remember that python evaluates a program top to bottom"
      ]
    },
    {
      "cell_type": "markdown",
      "metadata": {
        "id": "fxtTHNoKPrAL",
        "colab_type": "text"
      },
      "source": [
        "# 4. Functions"
      ]
    },
    {
      "cell_type": "markdown",
      "metadata": {
        "id": "UU97kB5o7v_n",
        "colab_type": "text"
      },
      "source": [
        "## 4.1 Functions"
      ]
    },
    {
      "cell_type": "markdown",
      "metadata": {
        "id": "LHos_7XR9Usg",
        "colab_type": "text"
      },
      "source": [
        "### Functions\n",
        "\n",
        "- A *function* is a named sequence of statements that belong together\n",
        "\n",
        "- Their primary purpose is to help us organize programs into chunks\n",
        "    that match how we think about the problem\n",
        "\n",
        "- The syntax for a function definition is:\n",
        "\n",
        "```\n",
        "   def <NAME>( <PARAMETERS> ):\n",
        "       <STATEMENTS>\n",
        "```"
      ]
    },
    {
      "cell_type": "markdown",
      "metadata": {
        "id": "7CiUOTCpB-Pr",
        "colab_type": "text"
      },
      "source": [
        "Runestone Interactive vídeo:"
      ]
    },
    {
      "cell_type": "code",
      "metadata": {
        "id": "5ZomfzYWB5Zi",
        "colab_type": "code",
        "colab": {}
      },
      "source": [
        "from IPython.display import YouTubeVideo\n",
        "YouTubeVideo('4wKtB57J5J4')"
      ],
      "execution_count": 0,
      "outputs": []
    },
    {
      "cell_type": "markdown",
      "metadata": {
        "id": "dmwqYSHc9bM-",
        "colab_type": "text"
      },
      "source": [
        "### Function definitions\n",
        "\n",
        "- Function definitions are **compound statements**<sup>1</sup> which follow\n",
        "    the pattern:\n",
        "\n",
        "    1.  A **header** line which begins with the keyword **def** and ends with a\n",
        "        *colon*\n",
        "\n",
        "    2.  A **body** consisting of *one or more* Python statements, each\n",
        "        *indented* the same amount from the header line\n",
        "\n",
        "\n",
        "<sup>1</sup> as was the case with `for` before\n"
      ]
    },
    {
      "cell_type": "markdown",
      "metadata": {
        "id": "e_7A01TK9jer",
        "colab_type": "text"
      },
      "source": [
        "### Draw a square\n",
        "\n",
        "\n",
        "- Suppose we're working with turtles, and a common operation we need\n",
        "    is to *draw squares*\n",
        "\n",
        "- \"Draw a square\" is an abstraction, or a mental chunk, of a number of\n",
        "    smaller steps\n",
        "\n",
        "- So let's write a function to capture the pattern of this \"building\n",
        "    block\"\n",
        "\n",
        "$\\Rightarrow$\n",
        "<https://github.com/fpro-feup/public/blob/master/lectures/05/turles.py>"
      ]
    },
    {
      "cell_type": "code",
      "metadata": {
        "id": "7DgYrnW0cOBP",
        "colab_type": "code",
        "colab": {}
      },
      "source": [
        "import turtle\n",
        "\n",
        "def draw_square(t, sz):\n",
        "    \"\"\"Make turtle t draw a square of with side sz.\"\"\"\n",
        "    for i in range(4):\n",
        "        t.forward(sz)\n",
        "        t.left(90)\n",
        "\n",
        "\n",
        "wn = turtle.Screen()      # Set up the window and its attributes\n",
        "wn.bgcolor(\"lightgreen\")\n",
        "\n",
        "alex = turtle.Turtle()    # create alex\n",
        "draw_square(alex, 50)      # Call the function to draw the square \n",
        "                          # passing the actual turtle and the actual side size\n",
        "\n",
        "wn.mainloop()"
      ],
      "execution_count": 0,
      "outputs": []
    },
    {
      "cell_type": "markdown",
      "metadata": {
        "id": "_gMkNMkn9pm_",
        "colab_type": "text"
      },
      "source": [
        "### *Docstrings* for documentation\n",
        "\n",
        "- If the first thing after the function header is a string, it is\n",
        "    treated as a **docstring** and gets special treatment\n",
        "\n",
        "- *Docstrings* are usually formed using triple-quoted strings\n",
        "\n",
        "- *Docstrings* are the key way to document our functions in Python and\n",
        "    the documentation part is important\n",
        "\n",
        "- *docstrings* are not comments:\n",
        "\n",
        "    - a string at the start of a function (a *docstring*) is retrievable\n",
        "        by Python tools *at runtime*\n",
        "\n",
        "    - comments are completely eliminated when the program is parsed\n"
      ]
    },
    {
      "cell_type": "markdown",
      "metadata": {
        "id": "cg8s3YmO91s_",
        "colab_type": "text"
      },
      "source": [
        "### Function call\n",
        "\n",
        "\n",
        "- Defining the function just tells Python *how* to do a particular\n",
        "    task, not to *perform* it\n",
        "\n",
        "- In order to execute a function we need to make a **function call**\n",
        "\n",
        "- Function calls contain the name of the function being executed\n",
        "    followed by a list of values, called *arguments* (**actual\n",
        "    parameters**), which are assigned to the parameters in the function\n",
        "    definition (**formal parameters**)\n",
        "\n",
        "- Once we've defined a function, we can call it as often as we like,\n",
        "    and its statements will be executed each time we call it\n",
        "\n",
        "$\\Rightarrow$\n",
        "<https://github.com/fpro-feup/public/blob/master/lectures/05/moreturtles.py>"
      ]
    },
    {
      "cell_type": "markdown",
      "metadata": {
        "id": "ZKXE3UeN96q6",
        "colab_type": "text"
      },
      "source": [
        "### Abstraction\n",
        "\n",
        "- The following diagram is often called a **black-box diagram**\n",
        "    because it only states the requirements from the perspective of the\n",
        "    user\n",
        "\n",
        "- The user must know the name of the function and what arguments need\n",
        "    to be passed\n",
        "\n",
        "- The details of how the function works are hidden inside the\n",
        "    \"black-box\"\n",
        "\n",
        "![blackbox](images/05/blackbox.png)\n"
      ]
    },
    {
      "cell_type": "markdown",
      "metadata": {
        "id": "0YqTw30071Z-",
        "colab_type": "text"
      },
      "source": [
        "## 4.2 Functions can call other functions\n",
        "\n",
        "A Square is a (special) Rectangle\n",
        "\n",
        "- Let's assume now we want a function to draw a rectangle\n",
        "\n",
        "- We may use it to draw a square\n",
        "\n",
        "$\\Rightarrow$\n",
        "<https://github.com/fpro-feup/public/blob/master/lectures/05/rectangle.py>\n"
      ]
    },
    {
      "cell_type": "code",
      "metadata": {
        "id": "paSQokz9gh3E",
        "colab_type": "code",
        "colab": {}
      },
      "source": [
        "import turtle\n",
        "\n",
        "\n",
        "def draw_rectangle(animal, width, height):\n",
        "    \"\"\"Get animal to draw a rectangle of given width and height.\"\"\"\n",
        "    for _ in range(2):\n",
        "        animal.forward(width)\n",
        "        animal.left(90)\n",
        "        animal.forward(height)\n",
        "        animal.left(90)\n",
        "\n",
        "\n",
        "wn = turtle.Screen()             # Set up the window and its attributes\n",
        "wn.bgcolor(\"lightgreen\")\n",
        "tess = turtle.Turtle()           # create tess and set some attributes\n",
        "tess.pensize(3)\n",
        "\n",
        "draw_rectangle(tess, 200, 80)"
      ],
      "execution_count": 0,
      "outputs": []
    },
    {
      "cell_type": "code",
      "metadata": {
        "id": "lFVY4l0AgpP6",
        "colab_type": "code",
        "colab": {}
      },
      "source": [
        "def draw_square(animal, size):   # A new version of draw_square\n",
        "    draw_rectangle(animal, size, size)"
      ],
      "execution_count": 0,
      "outputs": []
    },
    {
      "cell_type": "code",
      "metadata": {
        "id": "SSgrOgdrgwRJ",
        "colab_type": "code",
        "colab": {}
      },
      "source": [
        "def move_n_draw(animal, x, y):\n",
        "    \"\"\" Get an animal to go to (x,y) and draw a square 80x80 \"\"\"\n",
        "    animal.penup()\n",
        "    animal.goto(x, y)\n",
        "    animal.pendown()\n",
        "    draw_square(animal, 80)\n",
        "\n",
        "\n",
        "move_n_draw(tess, 120, 100)\n",
        "move_n_draw(tess, 120, -100)\n",
        "move_n_draw(tess, 0, -100)\n",
        "move_n_draw(tess, 0, 100)\n",
        "move_n_draw(tess, -100, 0)\n",
        "\n",
        "wn.mainloop()\n",
        "turtle.done()"
      ],
      "execution_count": 0,
      "outputs": []
    },
    {
      "cell_type": "markdown",
      "metadata": {
        "id": "bsH-_Dky75Jj",
        "colab_type": "text"
      },
      "source": [
        "## 4.3 Flow of execution"
      ]
    },
    {
      "cell_type": "markdown",
      "metadata": {
        "id": "84EcgWU_-aFa",
        "colab_type": "text"
      },
      "source": [
        "### Flow of execution\n",
        "\n",
        "\n",
        "- Execution always begins at the first statement of the program\n",
        "\n",
        "- Statements are executed one at a time, in order from top to bottom\n",
        "\n",
        "- Function definitions do not alter the flow of execution of the\n",
        "    program\n",
        "\n",
        "    - Statements inside the function are not executed until the\n",
        "        function is called\n",
        "\n",
        "- Function calls are like a detour in the flow of execution\n",
        "\n",
        "    - Instead of going to the next statement, the flow jumps to the\n",
        "        first line of the called function, executes all the statements\n",
        "        there, and then comes back to pick up where it left off.\n",
        "\n",
        "$\\Rightarrow$\n",
        "<https://github.com/fpro-feup/public/blob/master/lectures/05/pytutor.py>"
      ]
    },
    {
      "cell_type": "code",
      "metadata": {
        "id": "ymc_fjCLg9uZ",
        "colab_type": "code",
        "colab": {}
      },
      "source": [
        "def square(x):\n",
        "    y = x * x\n",
        "    return y"
      ],
      "execution_count": 0,
      "outputs": []
    },
    {
      "cell_type": "code",
      "metadata": {
        "id": "PSxNH-YVhAFo",
        "colab_type": "code",
        "colab": {}
      },
      "source": [
        "def sum_of_squares(x, y, z):\n",
        "    a = square(x)\n",
        "    b = square(y)\n",
        "    c = square(z)\n",
        "    return a + b + c"
      ],
      "execution_count": 0,
      "outputs": []
    },
    {
      "cell_type": "code",
      "metadata": {
        "id": "XxdYwEx8hClR",
        "colab_type": "code",
        "colab": {}
      },
      "source": [
        "a = -5\n",
        "b = 2\n",
        "c = 10\n",
        "result = sum_of_squares(a, b, c)\n",
        "print(result)\n",
        "\n",
        "# visualise it in http://www.pythontutor.com/"
      ],
      "execution_count": 0,
      "outputs": []
    },
    {
      "cell_type": "markdown",
      "metadata": {
        "id": "7W8Kt2Bh-6VU",
        "colab_type": "text"
      },
      "source": [
        "### Trace a program\n",
        "\n",
        "> **Moral**:\n",
        ">\n",
        "> When we read a program, don't read from top to bottom.\n",
        ">\n",
        "> Instead, follow the flow of execution.\n"
      ]
    },
    {
      "cell_type": "markdown",
      "metadata": {
        "id": "LhHvh7At7869",
        "colab_type": "text"
      },
      "source": [
        "## 4.4 Functions that require arguments"
      ]
    },
    {
      "cell_type": "markdown",
      "metadata": {
        "id": "VXefh-b__KYs",
        "colab_type": "text"
      },
      "source": [
        "### Functions that require arguments\n",
        "\n",
        "- Most functions require arguments: the arguments provide for\n",
        "    generalisation\n",
        "\n",
        "- Some examples:\n"
      ]
    },
    {
      "cell_type": "code",
      "metadata": {
        "id": "XluI2Hsdc0Fs",
        "colab_type": "code",
        "colab": {}
      },
      "source": [
        "print(abs(5))\n",
        "\n",
        "print(abs(-5))"
      ],
      "execution_count": 0,
      "outputs": []
    },
    {
      "cell_type": "code",
      "metadata": {
        "id": "kMmOsVNEc8bg",
        "colab_type": "code",
        "colab": {}
      },
      "source": [
        "import math\n",
        "\n",
        "print(math.pow(2, 3))\n",
        "print(math.pow(7, 4))"
      ],
      "execution_count": 0,
      "outputs": []
    },
    {
      "cell_type": "code",
      "metadata": {
        "id": "k_BKxlbMdC-A",
        "colab_type": "code",
        "colab": {}
      },
      "source": [
        "print(max(7, 11))\n",
        "print(max(4, 1, 17, 2, 12))\n",
        "print(max(3 * 11, 5 ** 3, 512 - 9, 1024 ** 0))"
      ],
      "execution_count": 0,
      "outputs": []
    },
    {
      "cell_type": "markdown",
      "metadata": {
        "id": "D0tIb4d48AhK",
        "colab_type": "text"
      },
      "source": [
        "## 4.5 Functions that return values"
      ]
    },
    {
      "cell_type": "markdown",
      "metadata": {
        "id": "07gchgQU_ZP2",
        "colab_type": "text"
      },
      "source": [
        "### Functions that return values\n",
        "\n",
        "- A function that returns a value is called a **fruitful function**\n",
        "\n",
        "- The opposite of a fruitful function is **void function** --- one\n",
        "    that is not executed for its resulting value (e.g. `draw_square`)\n",
        "\n",
        "- Python will automatically return the value `None` for void functions\n",
        "    (aka *procedures*)\n",
        "\n",
        "- Most of the time, calling functions generates a value, which we\n",
        "    usually assign to a variable or use as part of an expression"
      ]
    },
    {
      "cell_type": "code",
      "metadata": {
        "id": "fQmTTDLadvAZ",
        "colab_type": "code",
        "colab": {}
      },
      "source": [
        "biggest = max(3, 7, 2, 5)\n",
        "\n",
        "x = abs(3 - 11) + 10"
      ],
      "execution_count": 0,
      "outputs": []
    },
    {
      "cell_type": "code",
      "metadata": {
        "id": "K1F2rfggd-E6",
        "colab_type": "code",
        "colab": {}
      },
      "source": [
        "print(biggest)\n",
        "print(x)"
      ],
      "execution_count": 0,
      "outputs": []
    },
    {
      "cell_type": "markdown",
      "metadata": {
        "id": "VsGGwH-s_o1U",
        "colab_type": "text"
      },
      "source": [
        "### Interest rates\n",
        "\n",
        " The standard formula for compound interest:\n",
        "$$A = P \\left(1 + \\frac{r}{n}\\right)^{nt}$$\n",
        "\n",
        "Where:\n",
        "\n",
        "- P = principal amount (initial investment)\n",
        "\n",
        "- r = annual nominal interest rate (as a decimal)\n",
        "\n",
        "- n = the number of times the interest is compounded per year\n",
        "\n",
        "- t = the number of years that the interest is calculated for\n",
        "\n",
        "\n",
        "Recall your implementation without functions. Cumbersome,\n",
        "right?\n",
        "\n",
        "$\\Rightarrow$\n",
        "<https://github.com/fpro-feup/public/blob/master/lectures/05/interests.py>"
      ]
    },
    {
      "cell_type": "code",
      "metadata": {
        "id": "mut2adCpioqv",
        "colab_type": "code",
        "colab": {}
      },
      "source": [
        "def final_amount(p, r, n, t):\n",
        "    a = p * (1 + r/n) ** (n*t)\n",
        "    return a\n",
        "\n",
        "to_invest = float(input(\"How much do you want to invest?\"))\n",
        "fnl = final_amount(to_invest, 0.02, 12, 5)\n",
        "print(\"At the end of the period you'll have\", fnl)"
      ],
      "execution_count": 0,
      "outputs": []
    },
    {
      "cell_type": "markdown",
      "metadata": {
        "id": "xrVoJGhq8ErU",
        "colab_type": "text"
      },
      "source": [
        "## 4.6 Variables and parameters are local"
      ]
    },
    {
      "cell_type": "markdown",
      "metadata": {
        "id": "3GZYQK38AA9V",
        "colab_type": "text"
      },
      "source": [
        "### Variables and parameters are local\n",
        "\n",
        "- When we create a local variable inside a function, it only exists\n",
        "    inside the function, and we cannot use it outside\n",
        "\n",
        "- For example, consider again this function:\n",
        "\n",
        "\n",
        "```\n",
        "  def final_amount(p, r, n, t):\n",
        "      a = p * (1 + r/n) ** (n*t)\n",
        "      return a\n",
        "```\n",
        "\n",
        "- If we try to use `a`, outside the function, we'll get an error\n",
        "\n",
        "- `a` only exists while the function is being executed --- its\n",
        "    **lifetime**\n",
        "\n",
        "- When the execution of the function terminates, the local variables\n",
        "    are destroyed"
      ]
    },
    {
      "cell_type": "code",
      "metadata": {
        "id": "TrrIQa1XejSh",
        "colab_type": "code",
        "colab": {}
      },
      "source": [
        "def square(x):\n",
        "    y = x * x\n",
        "    return y\n",
        "\n",
        "z = square(10)\n",
        "print(y)        # what do you get here?"
      ],
      "execution_count": 0,
      "outputs": []
    },
    {
      "cell_type": "markdown",
      "metadata": {
        "id": "ELWEZP-0AlvY",
        "colab_type": "text"
      },
      "source": [
        "### Variables and parameters are local (2)\n",
        "\n",
        "\n",
        "- Parameters are also local, and act like local variables\n",
        "\n",
        "- Remember, `pythontutor` is your friend!"
      ]
    },
    {
      "cell_type": "code",
      "metadata": {
        "id": "qea3lfqefE6C",
        "colab_type": "code",
        "colab": {}
      },
      "source": [
        "def square(x):\n",
        "    y = x * x\n",
        "    x = 0       # assign a new value to the parameter x\n",
        "    return y\n",
        "\n",
        "x = 2\n",
        "z = square(x)\n",
        "print(x, z)"
      ],
      "execution_count": 0,
      "outputs": []
    },
    {
      "cell_type": "markdown",
      "metadata": {
        "id": "e4ZuRg_5ev03",
        "colab_type": "text"
      },
      "source": [
        "$\\Rightarrow$\n",
        "http://pythontutor.com/visualize.html#mode=edit"
      ]
    },
    {
      "cell_type": "markdown",
      "metadata": {
        "id": "ut2WGZ3k8H7-",
        "colab_type": "text"
      },
      "source": [
        "## 4.7 Turtles Revisited"
      ]
    },
    {
      "cell_type": "markdown",
      "metadata": {
        "id": "pUgooidIAEoH",
        "colab_type": "text"
      },
      "source": [
        "### Turtles Revisited\n",
        "\n",
        "\n",
        "- Now that we have fruitful functions, we can focus our attention on\n",
        "    reorganizing our code so that it fits more nicely into our mental\n",
        "    chunks\n",
        "\n",
        "- This process of rearrangement is called **refactoring** the code\n",
        "\n",
        "\n",
        "> Two things we’re always going to want to do when working with turtles is to create the window \n",
        "> for the turtle, and to create one or more turtles. \n",
        "> We could write some functions to make these tasks easier in future:\n",
        "\n",
        "$\\Rightarrow$\n",
        "<https://github.com/fpro-feup/public/blob/master/lectures/05/refactoring.py>\n"
      ]
    },
    {
      "cell_type": "markdown",
      "metadata": {
        "id": "Zz-UtV8ORH_t",
        "colab_type": "text"
      },
      "source": [
        "# Ticket to leave"
      ]
    },
    {
      "cell_type": "markdown",
      "metadata": {
        "id": "C-hchAExRRVh",
        "colab_type": "text"
      },
      "source": [
        "## Moodle activity\n",
        "\n",
        "[LE05: Functions](https://moodle.up.pt/mod/quiz/view.php?id=34897)"
      ]
    },
    {
      "cell_type": "markdown",
      "metadata": {
        "id": "uV1OP6ahRYne",
        "colab_type": "text"
      },
      "source": [
        "\n",
        "$\\Rightarrow$ \n",
        "[Go back to the Table of Contents](00-contents.ipynb)\n",
        "\n",
        "$\\Rightarrow$ \n",
        "[Read the Preface](00-preface.ipynb)"
      ]
    }
  ]
}
