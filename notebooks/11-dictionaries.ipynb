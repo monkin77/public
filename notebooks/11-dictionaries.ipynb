{
  "nbformat": 4,
  "nbformat_minor": 0,
  "metadata": {
    "colab": {
      "name": "11-dictionaries.ipynb",
      "provenance": [],
      "private_outputs": true,
      "collapsed_sections": [],
      "toc_visible": true
    },
    "kernelspec": {
      "name": "python3",
      "display_name": "Python 3"
    }
  },
  "cells": [
    {
      "cell_type": "markdown",
      "metadata": {
        "id": "8z5cONg8rUrX",
        "colab_type": "text"
      },
      "source": [
        "# Dictionaries\n",
        "\n",
        "## Programming Fundamentals (NB11)\n",
        "\n",
        "### MIEIC/2019-20\n",
        "\n",
        "#### João Correia Lopes\n",
        "\n",
        "FEUP/DEI and INESC TEC"
      ]
    },
    {
      "cell_type": "markdown",
      "metadata": {
        "id": "MZzE7pYorju5",
        "colab_type": "text"
      },
      "source": [
        "## Goals\n",
        "\n",
        "By the end of this class, the student should be able to:\n",
        "\n",
        "- Use the main operations and methods available to work with dictionaries\n",
        "- Describe the differences between dictionary aliasing and shallow copying\n"
      ]
    },
    {
      "cell_type": "markdown",
      "metadata": {
        "id": "eR5Lh1jNroE2",
        "colab_type": "text"
      },
      "source": [
        "## Bibliography\n",
        "\n",
        "- Peter Wentworth, Jeffrey Elkner, Allen B. Downey, and Chris Meyers, *How to Think Like a Computer Scientist — Learning with Python 3* (Section 5.4)\n",
        "\n",
        "- Brad Miller and David Ranum, Learning with Python: Interactive Edition. Based on material by Jeffrey Elkner, Allen B. Downey, and Chris Meyers (Chapter 12)\n"
      ]
    },
    {
      "cell_type": "markdown",
      "metadata": {
        "id": "QiR_tOOIkpCT",
        "colab_type": "text"
      },
      "source": [
        "# Data type: Dictionaries"
      ]
    },
    {
      "cell_type": "markdown",
      "metadata": {
        "id": "aO_WjhJaOLx7",
        "colab_type": "text"
      },
      "source": [
        "### A compound data type\n",
        "\n",
        "- So far we have seen built-in types like `int`, `float`, `bool`,\n",
        "    `str` and also lists, pairs or tuples\n",
        "\n",
        "- Strings, lists, and tuples are qualitatively different from the\n",
        "    others because they are made up of smaller pieces\n",
        "\n",
        "- Lists, tuples, and strings have been called *sequences*, because\n",
        "    their items occur in order"
      ]
    },
    {
      "cell_type": "markdown",
      "metadata": {
        "id": "zfj2mfLsOhTR",
        "colab_type": "text"
      },
      "source": [
        "### Dictionary\n",
        "\n",
        "- Dictionaries are yet another kind of compound type\n",
        "\n",
        "- They are Python’s built-in **mapping type**\n",
        "\n",
        "- They map **keys**, which can be any *immutable type*, to **values**,\n",
        "    which can be any type (heterogeneous)<sup>1</sup> \n",
        "\n",
        "- In other languages, they are called *associative arrays* since they\n",
        "    associate a key with a value\n",
        "\n",
        "- One way to create a dictionary is to start with the empty dictionary\n",
        "    and add **key:value** pairs\n",
        "\n",
        "```\n",
        "    >>> english_spanish = {}\n",
        "    >>> english_spanish['one'] = \"uno\"\n",
        "    >>> english_spanish[\"two\"] = 'dos'\n",
        "    >>> print(english_spanish)\n",
        "    {'one': 'uno', 'two': 'dos'}\n",
        "```\n",
        "\n",
        "<sup>1</sup> \n",
        "Just like the elements of a list or tuple"
      ]
    },
    {
      "cell_type": "code",
      "metadata": {
        "id": "RRoPs7gqd6kX",
        "colab_type": "code",
        "colab": {}
      },
      "source": [
        "english_spanish = {}\n",
        "print(english_spanish)"
      ],
      "execution_count": 0,
      "outputs": []
    },
    {
      "cell_type": "code",
      "metadata": {
        "id": "FDRdv2GleX41",
        "colab_type": "code",
        "colab": {}
      },
      "source": [
        "english_spanish['one'] = \"uno\"\n",
        "english_spanish[\"two\"] = 'dos'\n",
        "print(english_spanish)"
      ],
      "execution_count": 0,
      "outputs": []
    },
    {
      "cell_type": "markdown",
      "metadata": {
        "id": "NSZliOG-O8ai",
        "colab_type": "text"
      },
      "source": [
        "### Hashing\n",
        "\n",
        "- Python uses complex algorithms, designed for very fast access, to\n",
        "    determine where the **key:value** pairs are stored in a dictionary\n",
        "\n",
        "- For 3.7 onwards, the order of the pairs *key:value* follows the insertion order\n",
        "\n",
        "- The implementation uses a technique called **hashing**\n",
        "[[wiki]](https://en.wikipedia.org/wiki/Hash_function)\n",
        "\n",
        "- The same concept of mapping a key to a value could be implemented\n",
        "    using a list of tuples...\n",
        "\n",
        "```\n",
        "  >>> {\"apples\": 430, \"bananas\": 312, \"oranges\": 525, \"pears\": 217}\n",
        "  {'apples': 430, 'bananas': 312, 'oranges': 525, 'pears': 217}\n",
        "\n",
        "  >>> [(\"apples\", 430), (\"bananas\", 312), (\"oranges\", 525), (\"pears\", 217)]\n",
        "  [('apples', 430), ('bananas', 312), ('oranges', 525), ('pears', 217)]\n",
        "```"
      ]
    },
    {
      "cell_type": "markdown",
      "metadata": {
        "id": "00iUd9pZPkKm",
        "colab_type": "text"
      },
      "source": [
        "### Efficiency\n",
        "\n",
        "- The reason to choose this new data type is because dictionaries are **very fast**\n",
        "- Hashing allows us to access a value very quickly\n",
        "- By contrast, the list of tuples implementation is slow\n",
        "  - If we wanted to find a value associated with a key, we would have to iterate over every tuple, checking the 0th element\n",
        "  - What if the key wasn’t even in the list? \n",
        "  - We would have to get to the end of it to find out"
      ]
    },
    {
      "cell_type": "markdown",
      "metadata": {
        "id": "5bnZHXFpQnIp",
        "colab_type": "text"
      },
      "source": [
        "### Look up a value\n",
        "\n",
        "![mafalda](images/11/mafalda.png)\n",
        "\n",
        "$\\Rightarrow$\n",
        "<https://en.wikipedia.org/wiki/Mafalda>\n"
      ]
    },
    {
      "cell_type": "markdown",
      "metadata": {
        "id": "ZSZ2BBa8QtGZ",
        "colab_type": "text"
      },
      "source": [
        "### Look up a value\n",
        "\n",
        "- Another way to create a dictionary is to provide a list of\n",
        "    **key:value** pairs using the same syntax as the previous output\n",
        "\n",
        "- It doesn’t matter what order we write the pairs (there’s no\n",
        "    indexing!)<sup>2</sup> \n",
        "\n",
        "```\n",
        "  >>> english_spanish = {\"one\": \"uno\", \"three\": \"tres\", \"two\": \"dos\"}\n",
        "  >>> english_spanish\n",
        "  {'one': 'uno', 'three': 'tres', 'two': 'dos'}\n",
        "\n",
        "  >>> print(english_spanish[\"two\"])\n",
        "  dos\n",
        "```\n",
        "\n",
        "<sup>2</sup> \n",
        "The dictionary is the first compound type that we’ve seen that is\n",
        "    not a sequence, so we can’t index or slice a dictionary"
      ]
    },
    {
      "cell_type": "code",
      "metadata": {
        "id": "Z0RX9-eSemsQ",
        "colab_type": "code",
        "colab": {}
      },
      "source": [
        "english_spanish = {\"one\": \"uno\", \"three\": \"tres\", \"two\": \"dos\"}\n",
        "print(english_spanish[\"three\"])"
      ],
      "execution_count": 0,
      "outputs": []
    },
    {
      "cell_type": "markdown",
      "metadata": {
        "id": "5xbtkngBqNS_",
        "colab_type": "text"
      },
      "source": [
        "## 5.4.1 Dictionary operations"
      ]
    },
    {
      "cell_type": "markdown",
      "metadata": {
        "id": "xHNuGoUzQ-34",
        "colab_type": "text"
      },
      "source": [
        "### Dictionary operations\n",
        "\n",
        "- The `del` statement removes a *key:value* pair from a dictionary\n",
        "\n",
        "- The `len` function also works on dictionaries; it returns the number\n",
        "    of *key:value* pairs\n",
        "\n",
        "```\n",
        "   >>> inventory = {\"apples\": 430, \"bananas\": 312, \"quinces\": 217}\n",
        "   >>> del inventory[\"bananas\"]\n",
        "   >>> len(inventory)\n",
        "```\n",
        "\n",
        "$\\Rightarrow$\n",
        "<https://github.com/fpro-feup/public/tree/master/lectures/11/operations.py>"
      ]
    },
    {
      "cell_type": "markdown",
      "metadata": {
        "id": "yUBrHCvie6AT",
        "colab_type": "text"
      },
      "source": [
        "Watch for some operations:"
      ]
    },
    {
      "cell_type": "code",
      "metadata": {
        "id": "lnsa3wZVexsP",
        "colab_type": "code",
        "colab": {}
      },
      "source": [
        "inventory = {\"apples\": 430, \"bananas\": 312, \"oranges\": 525, \"pears\": 217}\n",
        "print(inventory)"
      ],
      "execution_count": 0,
      "outputs": []
    },
    {
      "cell_type": "code",
      "metadata": {
        "id": "8-czAIwIe4yf",
        "colab_type": "code",
        "colab": {}
      },
      "source": [
        "del inventory[\"pears\"]\n",
        "print(inventory)"
      ],
      "execution_count": 0,
      "outputs": []
    },
    {
      "cell_type": "code",
      "metadata": {
        "id": "_a-jrdPtfC5b",
        "colab_type": "code",
        "colab": {}
      },
      "source": [
        "inventory[\"bananas\"] = 0\n",
        "print(inventory)"
      ],
      "execution_count": 0,
      "outputs": []
    },
    {
      "cell_type": "code",
      "metadata": {
        "id": "qiSDuYBLfFfG",
        "colab_type": "code",
        "colab": {}
      },
      "source": [
        "inventory[\"bananas\"] += 200\n",
        "print(inventory)"
      ],
      "execution_count": 0,
      "outputs": []
    },
    {
      "cell_type": "markdown",
      "metadata": {
        "id": "H_0EKF-zqR7T",
        "colab_type": "text"
      },
      "source": [
        "## 5.4.2 Dictionary methods"
      ]
    },
    {
      "cell_type": "markdown",
      "metadata": {
        "id": "F-raMYM8Rh_6",
        "colab_type": "text"
      },
      "source": [
        "### Dictionary methods\n",
        "\n",
        "- Dictionaries have a number of useful built-in methods\n",
        "\n",
        "- The `keys()` method returns what Python3 calls a *view* of its\n",
        "    underlying keys\n",
        "\n",
        "    - A *view* object has some similarities to the *range* object we saw\n",
        "        earlier — it is a **lazy promise**, to deliver its elements when\n",
        "        they’re needed by the rest of the program\n",
        "\n",
        "    - We can *iterate over the view*, or turn the view into a list\n",
        "\n",
        "- The `values()` method is similar\n",
        "\n",
        "- The `items()` method also returns a *view*, which *promises* a list of\n",
        "    tuples\n",
        "\n",
        "```\n",
        "  for key in english_spanish.keys():\n",
        "      print(\"Got key\", key, \"which maps to value\", english_spanish[key])\n",
        "```\n",
        "\n",
        "$\\Rightarrow$\n",
        "<https://github.com/fpro-feup/public/tree/master/lectures/11/methods.py>"
      ]
    },
    {
      "cell_type": "markdown",
      "metadata": {
        "id": "l5T2FzlhgJhs",
        "colab_type": "text"
      },
      "source": [
        "Use `keys()`:"
      ]
    },
    {
      "cell_type": "code",
      "metadata": {
        "id": "F8FQ-dqrfaa4",
        "colab_type": "code",
        "colab": {}
      },
      "source": [
        "english_spanish = {\"one\": \"uno\", \"two\": \"dos\", \"three\": \"tres\"}\n",
        "\n",
        "for key in english_spanish.keys():\n",
        "    print(\"Got key\", key, \"which maps to value\", english_spanish[key])"
      ],
      "execution_count": 0,
      "outputs": []
    },
    {
      "cell_type": "code",
      "metadata": {
        "id": "SdtZAuBYgTyP",
        "colab_type": "code",
        "colab": {}
      },
      "source": [
        "keys = list(english_spanish.keys())\n",
        "print(keys)"
      ],
      "execution_count": 0,
      "outputs": []
    },
    {
      "cell_type": "markdown",
      "metadata": {
        "id": "egKfxKr4gaM9",
        "colab_type": "text"
      },
      "source": [
        "Iterating over a dictionary implicitly iterates over its keys"
      ]
    },
    {
      "cell_type": "code",
      "metadata": {
        "id": "weaK1-z3gYlP",
        "colab_type": "code",
        "colab": {}
      },
      "source": [
        "for key in english_spanish:\n",
        "    print(\"Got key\", key)"
      ],
      "execution_count": 0,
      "outputs": []
    },
    {
      "cell_type": "markdown",
      "metadata": {
        "id": "OgLTWbW4gh7D",
        "colab_type": "text"
      },
      "source": [
        "Use `values()`:"
      ]
    },
    {
      "cell_type": "code",
      "metadata": {
        "id": "l1k645i0gq9f",
        "colab_type": "code",
        "colab": {}
      },
      "source": [
        "values = list(english_spanish.values())\n",
        "print(values)"
      ],
      "execution_count": 0,
      "outputs": []
    },
    {
      "cell_type": "markdown",
      "metadata": {
        "id": "rnP7plTigwVR",
        "colab_type": "text"
      },
      "source": [
        "Use `items()`:"
      ]
    },
    {
      "cell_type": "code",
      "metadata": {
        "id": "PMNGse1IhNNI",
        "colab_type": "code",
        "colab": {}
      },
      "source": [
        "print(list(english_spanish.items()))"
      ],
      "execution_count": 0,
      "outputs": []
    },
    {
      "cell_type": "code",
      "metadata": {
        "id": "59GraRivhQJU",
        "colab_type": "code",
        "colab": {}
      },
      "source": [
        "for (key, value) in english_spanish.items():\n",
        "    print(\"Got key\", key, \"which maps to value\", value)"
      ],
      "execution_count": 0,
      "outputs": []
    },
    {
      "cell_type": "markdown",
      "metadata": {
        "id": "jhkeGyj0hbeb",
        "colab_type": "text"
      },
      "source": [
        "Membership"
      ]
    },
    {
      "cell_type": "code",
      "metadata": {
        "id": "3LEUWYeMhXYZ",
        "colab_type": "code",
        "colab": {}
      },
      "source": [
        "print(\"one\" in english_spanish)\n",
        "print(\"six\" in english_spanish)"
      ],
      "execution_count": 0,
      "outputs": []
    },
    {
      "cell_type": "markdown",
      "metadata": {
        "id": "xQ0n06S2hk5l",
        "colab_type": "text"
      },
      "source": [
        "Note that 'in' tests *keys*, not *values*"
      ]
    },
    {
      "cell_type": "code",
      "metadata": {
        "id": "EVgZvFWthjK_",
        "colab_type": "code",
        "colab": {}
      },
      "source": [
        "print(\"tres\" in english_spanish)"
      ],
      "execution_count": 0,
      "outputs": []
    },
    {
      "cell_type": "markdown",
      "metadata": {
        "id": "Yb04Wtj-hqai",
        "colab_type": "text"
      },
      "source": [
        "What's the result of looking up a non-existent key in a dictionary?"
      ]
    },
    {
      "cell_type": "code",
      "metadata": {
        "id": "UHmYTQnmhvJc",
        "colab_type": "code",
        "colab": {}
      },
      "source": [
        "print(english_spanish[\"dog\"])"
      ],
      "execution_count": 0,
      "outputs": []
    },
    {
      "cell_type": "markdown",
      "metadata": {
        "id": "ELzSB8mOqV3w",
        "colab_type": "text"
      },
      "source": [
        "## 5.4.3 Aliasing and copying"
      ]
    },
    {
      "cell_type": "markdown",
      "metadata": {
        "id": "aVrq-lh_SHiO",
        "colab_type": "text"
      },
      "source": [
        "### Aliasing and copying\n",
        "\n",
        "- As in the case of lists, because **dictionaries are mutable**, we\n",
        "    need to be aware of *aliasing*\n",
        "\n",
        "- Whenever two variables refer to the same object, changes to one\n",
        "    affect the other\n",
        "\n",
        "- To modify a dictionary and keep a copy of the original,\n",
        "    use the `copy()` method\n",
        "\n",
        "```\n",
        "  >>> opposites = {\"up\": \"down\", \"right\": \"wrong\", \"yes\": \"no\"}\n",
        "  >>> alias = opposites\n",
        "  >>> copy = opposites.copy()  # Shallow copy\n",
        "```\n",
        "\n",
        "$\\Rightarrow$\n",
        "<https://github.com/fpro-feup/public/tree/master/lectures/11/aliases.py>\n"
      ]
    },
    {
      "cell_type": "markdown",
      "metadata": {
        "id": "BDc6KcBEiLOt",
        "colab_type": "text"
      },
      "source": [
        "Aliases"
      ]
    },
    {
      "cell_type": "code",
      "metadata": {
        "id": "xzVNr7OFiD5L",
        "colab_type": "code",
        "colab": {}
      },
      "source": [
        "opposites = {\"up\": \"down\", \"right\": \"wrong\", \"yes\": \"no\"}\n",
        "\n",
        "alias = opposites"
      ],
      "execution_count": 0,
      "outputs": []
    },
    {
      "cell_type": "markdown",
      "metadata": {
        "id": "hxZRZsrXiase",
        "colab_type": "text"
      },
      "source": [
        "Shallow copy"
      ]
    },
    {
      "cell_type": "code",
      "metadata": {
        "id": "lyj1hBHdiYec",
        "colab_type": "code",
        "colab": {}
      },
      "source": [
        "copy = opposites.copy()"
      ],
      "execution_count": 0,
      "outputs": []
    },
    {
      "cell_type": "markdown",
      "metadata": {
        "id": "fece1unjiVHj",
        "colab_type": "text"
      },
      "source": [
        "What now?\n",
        "\n"
      ]
    },
    {
      "cell_type": "code",
      "metadata": {
        "id": "xyswZ4FSiij5",
        "colab_type": "code",
        "colab": {}
      },
      "source": [
        "alias[\"right\"] = \"left\"\n",
        "print(opposites[\"right\"])"
      ],
      "execution_count": 0,
      "outputs": []
    },
    {
      "cell_type": "code",
      "metadata": {
        "id": "LlQ-4gTGij2t",
        "colab_type": "code",
        "colab": {}
      },
      "source": [
        "copy[\"right\"] = \"Guiness\"\n",
        "print(opposites[\"right\"])"
      ],
      "execution_count": 0,
      "outputs": []
    },
    {
      "cell_type": "markdown",
      "metadata": {
        "id": "ttztXYUtqYr1",
        "colab_type": "text"
      },
      "source": [
        "## 5.4.4 Counting letters"
      ]
    },
    {
      "cell_type": "markdown",
      "metadata": {
        "id": "0KBjCaYbSp0R",
        "colab_type": "text"
      },
      "source": [
        "### Generate a Frequency Table\n",
        "\n",
        "- To write a function that counted the number of occurrences of a\n",
        "    letter in a string\n",
        "\n",
        "- Dictionaries provide an elegant way to generate a frequency table\n",
        "\n",
        "```\n",
        "     start with an empty dictionary\n",
        "     for each letter in the string:\n",
        "        find the current count (possibly zero) and increment it\n",
        "     the dictionary contains pairs of letters and their frequencies \n",
        "```\n",
        "\n",
        "$\\Rightarrow$\n",
        "<https://github.com/fpro-feup/public/tree/master/lectures/11/frequency-table.py>"
      ]
    },
    {
      "cell_type": "markdown",
      "metadata": {
        "id": "UuW7MrqSi-s0",
        "colab_type": "text"
      },
      "source": [
        "Consider the text:"
      ]
    },
    {
      "cell_type": "code",
      "metadata": {
        "id": "BOUaCS4KjAVI",
        "colab_type": "code",
        "colab": {}
      },
      "source": [
        "s = \"\"\" \n",
        "This parrot is no more! It has ceased to be! \n",
        "It’s expired and gone to meet its maker! \n",
        "This is a late parrot! It’s a stiff! \n",
        "Bereft of life, it rests in peace! \n",
        "If you hadn’t nailed it to the perch, it would be pushing up the daisies! \n",
        "It’s run down the curtain and joined the choir invisible! \n",
        "This is an ex-parrot!\n",
        "\"\"\""
      ],
      "execution_count": 0,
      "outputs": []
    },
    {
      "cell_type": "markdown",
      "metadata": {
        "id": "mIn1VbzjkBjZ",
        "colab_type": "text"
      },
      "source": [
        "Let's count the letters of the text (any idea where it came from?)"
      ]
    },
    {
      "cell_type": "code",
      "metadata": {
        "id": "mERpKMTjkEZo",
        "colab_type": "code",
        "colab": {}
      },
      "source": [
        "letter_counts = {}\n",
        "for letter in s:\n",
        "    letter_counts[letter] = letter_counts.get(letter, 0) + 1 \n",
        "print(letter_counts)"
      ],
      "execution_count": 0,
      "outputs": []
    },
    {
      "cell_type": "markdown",
      "metadata": {
        "id": "J36r5SCRqcUF",
        "colab_type": "text"
      },
      "source": [
        "## Sparse matrices"
      ]
    },
    {
      "cell_type": "markdown",
      "metadata": {
        "id": "HuxSv0blS2Hx",
        "colab_type": "text"
      },
      "source": [
        "### Sparse matrices\n",
        "\n",
        "- We previously used a list of lists to represent a matrix\n",
        "\n",
        "- That is a good choice for a matrix with mostly nonzero values, but\n",
        "    consider a sparse matrix like this one:\n",
        "\n",
        "$$\\left[\n",
        "    \\begin{array}{ccccc}\n",
        "    0 & 0 & 0 & 1 & 0 \\\\\n",
        "    0 & 0 & 0 & 0 & 0 \\\\\n",
        "    0 & 2 & 0 & 0 & 0 \\\\\n",
        "    0 & 0 & 0 & 0 & 0 \\\\\n",
        "    0 & 0 & 0 & 3 & 0 \\\\\n",
        "    \\end{array}\n",
        "  \\right]$$\n",
        "\n",
        "- The list representation contains a lot of zeroes\n",
        "\n",
        "- An alternative is to use a dictionary and the `get()` method\n",
        "\n",
        "- There’s a trade-off here as the access may take more time\n",
        "\n",
        "$\\Rightarrow$\n",
        "<https://github.com/fpro-feup/public/tree/master/lectures/11/matrix.py>"
      ]
    },
    {
      "cell_type": "markdown",
      "metadata": {
        "id": "gSxSJPgglUU3",
        "colab_type": "text"
      },
      "source": [
        "The sparse matrix as a list"
      ]
    },
    {
      "cell_type": "code",
      "metadata": {
        "id": "Df3wrni1lX89",
        "colab_type": "code",
        "colab": {}
      },
      "source": [
        "matrix = [[0, 0, 0, 1, 0],\n",
        "          [0, 0, 0, 0, 0],\n",
        "          [0, 2, 0, 0, 0],\n",
        "          [0, 0, 0, 0, 0],\n",
        "          [0, 0, 0, 3, 0]]\n",
        "\n",
        "print(matrix)"
      ],
      "execution_count": 0,
      "outputs": []
    },
    {
      "cell_type": "markdown",
      "metadata": {
        "id": "g_FhYjI9lbqb",
        "colab_type": "text"
      },
      "source": [
        "The sparse matrix as a dictionary"
      ]
    },
    {
      "cell_type": "code",
      "metadata": {
        "id": "41CogqNVle5j",
        "colab_type": "code",
        "colab": {}
      },
      "source": [
        "# For the keys, we can use tuples that contain the row and column numbers\n",
        "matrix = {(0, 3): 1, (2, 1): 2, (4, 3): 3}\n",
        "\n",
        "print(matrix)"
      ],
      "execution_count": 0,
      "outputs": []
    },
    {
      "cell_type": "markdown",
      "metadata": {
        "id": "niJbaznwlpff",
        "colab_type": "text"
      },
      "source": [
        "Accessing matrix elements"
      ]
    },
    {
      "cell_type": "code",
      "metadata": {
        "id": "fFg6anGIluXb",
        "colab_type": "code",
        "colab": {}
      },
      "source": [
        "print(matrix[(0, 3)])"
      ],
      "execution_count": 0,
      "outputs": []
    },
    {
      "cell_type": "markdown",
      "metadata": {
        "id": "jooz24CKlw2j",
        "colab_type": "text"
      },
      "source": [
        "What happen if we try"
      ]
    },
    {
      "cell_type": "code",
      "metadata": {
        "id": "Sqnc2ZnVl1_9",
        "colab_type": "code",
        "colab": {}
      },
      "source": [
        "print(matrix[(1, 3)])"
      ],
      "execution_count": 0,
      "outputs": []
    },
    {
      "cell_type": "markdown",
      "metadata": {
        "id": "fTvV-mAal9sW",
        "colab_type": "text"
      },
      "source": [
        "The `get()` method solves this problem:"
      ]
    },
    {
      "cell_type": "code",
      "metadata": {
        "id": "irThl_o6mHHS",
        "colab_type": "code",
        "colab": {}
      },
      "source": [
        "# The first argument is the key; the second argument is the value\n",
        "# get should return 0 if the key is not in the dictionary\n",
        "\n",
        "print(matrix.get((0, 3), 0))\n",
        "print(matrix.get((1, 3), 0))"
      ],
      "execution_count": 0,
      "outputs": []
    },
    {
      "cell_type": "markdown",
      "metadata": {
        "id": "2FphairRqlMX",
        "colab_type": "text"
      },
      "source": [
        "## Memoisation"
      ]
    },
    {
      "cell_type": "markdown",
      "metadata": {
        "id": "8kQWpy3JTE5M",
        "colab_type": "text"
      },
      "source": [
        "### Memoisation\n",
        "\n",
        "- Considering the sequence of [Fibonacci numbers](https://en.wikipedia.org/wiki/Fibonacci_number)\n",
        "\n",
        "- and the function call graph for `fib()` with n = 4 \n",
        "\n",
        "  - A good solution is to keep track of values that have already been\n",
        "    computed by **storing them in a dictionary**\n",
        "\n",
        "  - A previously computed value that is stored for later use is called a\n",
        "    **memo**\n",
        "\n",
        "![fib](images/11/fib.png)\n",
        "\n",
        "$\\Rightarrow$\n",
        "<https://github.com/fpro-feup/public/tree/master/lectures/11/fib.py>"
      ]
    },
    {
      "cell_type": "markdown",
      "metadata": {
        "id": "JRaixz4Ynfbi",
        "colab_type": "text"
      },
      "source": [
        "Let's have a look at one `fib()` implementation (using recursion!):"
      ]
    },
    {
      "cell_type": "code",
      "metadata": {
        "id": "sUaLF5j8o1Fc",
        "colab_type": "code",
        "colab": {}
      },
      "source": [
        "# This is a particularly inefficient algorithm, and this could be solved\n",
        "# far more efficient iteratively or using memoisation\n",
        "def fib(n):\n",
        "    if n <= 1: return n\n",
        "    return fib(n-1) + fib(n-2)\n",
        "\n",
        "print(fib(10))"
      ],
      "execution_count": 0,
      "outputs": []
    },
    {
      "cell_type": "markdown",
      "metadata": {
        "id": "6kLNasDApOv9",
        "colab_type": "text"
      },
      "source": [
        "Now, using memoisation:"
      ]
    },
    {
      "cell_type": "code",
      "metadata": {
        "id": "qdhYfxiYnlzq",
        "colab_type": "code",
        "colab": {}
      },
      "source": [
        "already_known = {0: 0, 1: 1}\n",
        "\n",
        "def fib(n):\n",
        "    if n not in already_known:\n",
        "        new_value = fib(n-1) + fib(n-2)\n",
        "        already_known[n] = new_value\n",
        "    return already_known[n]\n",
        "\n",
        "print(fib(10))"
      ],
      "execution_count": 0,
      "outputs": []
    },
    {
      "cell_type": "markdown",
      "metadata": {
        "id": "Zz-UtV8ORH_t",
        "colab_type": "text"
      },
      "source": [
        "# Ticket to leave"
      ]
    },
    {
      "cell_type": "markdown",
      "metadata": {
        "id": "C-hchAExRRVh",
        "colab_type": "text"
      },
      "source": [
        "## Moodle activity\n",
        "\n",
        "[LE11: Dictionaries](https://moodle.up.pt/mod/quiz/view.php?id=39245)"
      ]
    },
    {
      "cell_type": "markdown",
      "metadata": {
        "id": "uV1OP6ahRYne",
        "colab_type": "text"
      },
      "source": [
        "\n",
        "$\\Rightarrow$ \n",
        "[Go back to the Table of Contents](00-contents.ipynb)\n",
        "\n",
        "$\\Rightarrow$ \n",
        "[Read the Preface](00-preface.ipynb)"
      ]
    }
  ]
}
